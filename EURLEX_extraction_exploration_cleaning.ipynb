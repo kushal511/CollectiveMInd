{
 "cells": [
  {
   "cell_type": "markdown",
   "id": "6ff49df3",
   "metadata": {
    "id": "6ff49df3"
   },
   "source": [
    "# EURLEX‑57K — Extraction, Exploration, and Cleaning\n",
    "\n",
    "- **Data Extraction** (each split saved locally)\n",
    "- **Data Exploration** on raw *train*\n",
    "- **Data Cleaning** for *train*, *validation*, and *test*"
   ]
  },
  {
   "cell_type": "code",
   "execution_count": 1,
   "id": "a8255c25",
   "metadata": {},
   "outputs": [
    {
     "name": "stdout",
     "output_type": "stream",
     "text": [
      "\u001b[?25l   \u001b[90m━━━━━━━━━━━━━━━━━━━━━━━━━━━━━━━━━━━━━━━━\u001b[0m \u001b[32m0.0/1.8 MB\u001b[0m \u001b[31m?\u001b[0m eta \u001b[36m-:--:--\u001b[0m\r",
      "\u001b[2K   \u001b[91m━━━━━━━━\u001b[0m\u001b[90m╺\u001b[0m\u001b[90m━━━━━━━━━━━━━━━━━━━━━━━━━━━━━━━\u001b[0m \u001b[32m0.4/1.8 MB\u001b[0m \u001b[31m10.7 MB/s\u001b[0m eta \u001b[36m0:00:01\u001b[0m\r",
      "\u001b[2K   \u001b[91m━━━━━━━━━━━━━━━━━━━━━━━━━━━━━━━━━━━━━━━\u001b[0m\u001b[91m╸\u001b[0m \u001b[32m1.8/1.8 MB\u001b[0m \u001b[31m29.9 MB/s\u001b[0m eta \u001b[36m0:00:01\u001b[0m\r",
      "\u001b[2K   \u001b[90m━━━━━━━━━━━━━━━━━━━━━━━━━━━━━━━━━━━━━━━━\u001b[0m \u001b[32m1.8/1.8 MB\u001b[0m \u001b[31m17.4 MB/s\u001b[0m eta \u001b[36m0:00:00\u001b[0m\n",
      "\u001b[?25h\u001b[?25l   \u001b[90m━━━━━━━━━━━━━━━━━━━━━━━━━━━━━━━━━━━━━━━━\u001b[0m \u001b[32m0.0/235.8 kB\u001b[0m \u001b[31m?\u001b[0m eta \u001b[36m-:--:--\u001b[0m\r",
      "\u001b[2K   \u001b[90m━━━━━━━━━━━━━━━━━━━━━━━━━━━━━━━━━━━━━━━━\u001b[0m \u001b[32m235.8/235.8 kB\u001b[0m \u001b[31m7.4 MB/s\u001b[0m eta \u001b[36m0:00:00\u001b[0m\n",
      "\u001b[?25h"
     ]
    }
   ],
   "source": [
    "!pip -q install datasets pandas pyarrow fastparquet unidecode tqdm matplotlib seaborn"
   ]
  },
  {
   "cell_type": "markdown",
   "id": "b8a85f3c",
   "metadata": {
    "id": "b8a85f3c"
   },
   "source": [
    "## Step 1 — Imports"
   ]
  },
  {
   "cell_type": "code",
   "execution_count": 2,
   "id": "0a8d8bda",
   "metadata": {},
   "outputs": [],
   "source": [
    "# Import core libraries\n",
    "from pathlib import Path                # clean path handling\n",
    "import re, random, numpy as np, pandas as pd\n",
    "from datasets import load_dataset       # load EURLEX-57K from Hugging Face\n",
    "from unidecode import unidecode         # normalize unicode accents (é -> e)\n",
    "from tqdm import tqdm                   # progress bars (if/when needed)\n",
    "import matplotlib.pyplot as plt         # plotting\n",
    "import seaborn as sns                   # nicer plotting defaults\n",
    "\n",
    "sns.set_theme()  # make plots a bit prettier\n"
   ]
  },
  {
   "cell_type": "markdown",
   "id": "f2ea7217",
   "metadata": {
    "id": "f2ea7217"
   },
   "source": [
    "## Step 2 — Reproducibility seed"
   ]
  },
  {
   "cell_type": "code",
   "execution_count": 3,
   "id": "cd8415cb",
   "metadata": {},
   "outputs": [
    {
     "name": "stdout",
     "output_type": "stream",
     "text": [
      "Seed set to: 42\n"
     ]
    }
   ],
   "source": [
    "# Set a seed so any sampling later is repeatable\n",
    "SEED = 42\n",
    "random.seed(SEED)\n",
    "np.random.seed(SEED)\n",
    "print(\"Seed set to:\", SEED)"
   ]
  },
  {
   "cell_type": "markdown",
   "id": "f2689a7f",
   "metadata": {
    "id": "f2689a7f"
   },
   "source": [
    "## Step 3 — Dataset identifiers"
   ]
  },
  {
   "cell_type": "code",
   "execution_count": 4,
   "id": "5b093dfb",
   "metadata": {},
   "outputs": [
    {
     "name": "stdout",
     "output_type": "stream",
     "text": [
      "Dataset: pietrolesci/eurlex-57k | Splits: ('train', 'validation', 'test')\n"
     ]
    }
   ],
   "source": [
    "# Define which dataset and which splits to use\n",
    "DATASET  = \"pietrolesci/eurlex-57k\"   # Hugging Face dataset id\n",
    "REVISION = None                       # set a commit hash here if you need a pinned snapshot\n",
    "SPLITS   = (\"train\", \"validation\", \"test\")\n",
    "print(\"Dataset:\", DATASET, \"| Splits:\", SPLITS)"
   ]
  },
  {
   "cell_type": "markdown",
   "id": "3c41606a",
   "metadata": {
    "id": "3c41606a"
   },
   "source": [
    "## Step 4 — Local folder for all files"
   ]
  },
  {
   "cell_type": "code",
   "execution_count": 5,
   "id": "0168ee82",
   "metadata": {},
   "outputs": [
    {
     "name": "stdout",
     "output_type": "stream",
     "text": [
      "Saving files under: /content/data\n"
     ]
    }
   ],
   "source": [
    "BASE_DIR = Path(\"/content/data\")\n",
    "BASE_DIR.mkdir(parents=True, exist_ok=True)\n",
    "\n",
    "print(\"Saving files under:\", BASE_DIR)"
   ]
  },
  {
   "cell_type": "markdown",
   "id": "88034a63",
   "metadata": {
    "id": "88034a63"
   },
   "source": [
    "## Step 5 — Load EURLEX‑57K from Hugging Face"
   ]
  },
  {
   "cell_type": "code",
   "execution_count": 6,
   "id": "42076889",
   "metadata": {},
   "outputs": [
    {
     "name": "stderr",
     "output_type": "stream",
     "text": [
      "/usr/local/lib/python3.12/dist-packages/huggingface_hub/utils/_auth.py:94: UserWarning: \n",
      "The secret `HF_TOKEN` does not exist in your Colab secrets.\n",
      "To authenticate with the Hugging Face Hub, create a token in your settings tab (https://huggingface.co/settings/tokens), set it as secret in your Google Colab and restart your session.\n",
      "You will be able to reuse this secret in all of your notebooks.\n",
      "Please note that authentication is recommended but still optional to access public models or datasets.\n",
      "  warnings.warn(\n"
     ]
    },
    {
     "data": {
      "application/vnd.jupyter.widget-view+json": {
       "model_id": "2e0fed7e9a11480782f7d32d14c2c079",
       "version_major": 2,
       "version_minor": 0
      },
      "text/plain": [
       "README.md: 0.00B [00:00, ?B/s]"
      ]
     },
     "metadata": {},
     "output_type": "display_data"
    },
    {
     "data": {
      "application/vnd.jupyter.widget-view+json": {
       "model_id": "d9411bf639a44b6590e2f23a30e4ab5c",
       "version_major": 2,
       "version_minor": 0
      },
      "text/plain": [
       "data/train-00000-of-00001-d708a5227a3690(…):   0%|          | 0.00/113M [00:00<?, ?B/s]"
      ]
     },
     "metadata": {},
     "output_type": "display_data"
    },
    {
     "data": {
      "application/vnd.jupyter.widget-view+json": {
       "model_id": "82b322d7df904a42bb5c3f44894c4563",
       "version_major": 2,
       "version_minor": 0
      },
      "text/plain": [
       "data/validation-00000-of-00001-0cd3337be(…):   0%|          | 0.00/14.8M [00:00<?, ?B/s]"
      ]
     },
     "metadata": {},
     "output_type": "display_data"
    },
    {
     "data": {
      "application/vnd.jupyter.widget-view+json": {
       "model_id": "6de73fb93aa74516b0568e46dac4cf9f",
       "version_major": 2,
       "version_minor": 0
      },
      "text/plain": [
       "data/test-00000-of-00001-b61a0b9731e7400(…):   0%|          | 0.00/14.9M [00:00<?, ?B/s]"
      ]
     },
     "metadata": {},
     "output_type": "display_data"
    },
    {
     "data": {
      "application/vnd.jupyter.widget-view+json": {
       "model_id": "eaacfd1813c34fb584539f5dad2d3ced",
       "version_major": 2,
       "version_minor": 0
      },
      "text/plain": [
       "Generating train split:   0%|          | 0/45000 [00:00<?, ? examples/s]"
      ]
     },
     "metadata": {},
     "output_type": "display_data"
    },
    {
     "data": {
      "application/vnd.jupyter.widget-view+json": {
       "model_id": "af1b32f252774d6eae93a02a80120132",
       "version_major": 2,
       "version_minor": 0
      },
      "text/plain": [
       "Generating validation split:   0%|          | 0/6000 [00:00<?, ? examples/s]"
      ]
     },
     "metadata": {},
     "output_type": "display_data"
    },
    {
     "data": {
      "application/vnd.jupyter.widget-view+json": {
       "model_id": "e88784a24ea04ed997a1e2855d028834",
       "version_major": 2,
       "version_minor": 0
      },
      "text/plain": [
       "Generating test split:   0%|          | 0/6000 [00:00<?, ? examples/s]"
      ]
     },
     "metadata": {},
     "output_type": "display_data"
    },
    {
     "name": "stdout",
     "output_type": "stream",
     "text": [
      "Available splits: ['train', 'validation', 'test']\n"
     ]
    }
   ],
   "source": [
    "# Load all available splits. If REVISION is provided, HF fetches that exact commit.\n",
    "if REVISION:\n",
    "    ds = load_dataset(DATASET, revision=REVISION)\n",
    "else:\n",
    "    ds = load_dataset(DATASET)\n",
    "\n",
    "print(\"Available splits:\", list(ds.keys()))"
   ]
  },
  {
   "cell_type": "markdown",
   "id": "cbfda030",
   "metadata": {
    "id": "cbfda030"
   },
   "source": [
    "## Step 6 — Save raw splits locally (unaltered)\n",
    "### 6.1 Save **train** as Parquet"
   ]
  },
  {
   "cell_type": "code",
   "execution_count": 7,
   "id": "e3a00f98",
   "metadata": {},
   "outputs": [
    {
     "name": "stdout",
     "output_type": "stream",
     "text": [
      "Raw train saved: /content/data/train.parquet | rows = 45000\n"
     ]
    }
   ],
   "source": [
    "# Convert HF 'train' split to DataFrame and save as Parquet (compact, type-preserving)\n",
    "df_train_raw = ds[\"train\"].to_pandas()\n",
    "raw_train_path = BASE_DIR / \"train.parquet\"\n",
    "df_train_raw.to_parquet(raw_train_path, index=False)\n",
    "print(\"Raw train saved:\", raw_train_path, \"| rows =\", len(df_train_raw))"
   ]
  },
  {
   "cell_type": "markdown",
   "id": "9d7ecf47",
   "metadata": {
    "id": "9d7ecf47"
   },
   "source": [
    "### 6.2 Save **validation** as Parquet"
   ]
  },
  {
   "cell_type": "code",
   "execution_count": 8,
   "id": "2fad37e3",
   "metadata": {},
   "outputs": [
    {
     "name": "stdout",
     "output_type": "stream",
     "text": [
      "Raw validation saved: /content/data/validation.parquet | rows = 6000\n"
     ]
    }
   ],
   "source": [
    "df_val_raw = ds[\"validation\"].to_pandas()\n",
    "raw_val_path = BASE_DIR / \"validation.parquet\"\n",
    "df_val_raw.to_parquet(raw_val_path, index=False)\n",
    "print(\"Raw validation saved:\", raw_val_path, \"| rows =\", len(df_val_raw))"
   ]
  },
  {
   "cell_type": "markdown",
   "id": "01771b05",
   "metadata": {
    "id": "01771b05"
   },
   "source": [
    "### 6.3 Save **test** as Parquet"
   ]
  },
  {
   "cell_type": "code",
   "execution_count": 9,
   "id": "e7f15602",
   "metadata": {},
   "outputs": [
    {
     "name": "stdout",
     "output_type": "stream",
     "text": [
      "Raw test saved: /content/data/test.parquet | rows = 6000\n"
     ]
    }
   ],
   "source": [
    "df_test_raw = ds[\"test\"].to_pandas()\n",
    "raw_test_path = BASE_DIR / \"test.parquet\"\n",
    "df_test_raw.to_parquet(raw_test_path, index=False)\n",
    "print(\"Raw test saved:\", raw_test_path, \"| rows =\", len(df_test_raw))"
   ]
  },
  {
   "cell_type": "markdown",
   "id": "0007783a",
   "metadata": {
    "id": "0007783a"
   },
   "source": [
    "## Step 7 — Quick exploration on raw **train**"
   ]
  },
  {
   "cell_type": "markdown",
   "id": "d8b63494",
   "metadata": {
    "id": "d8b63494"
   },
   "source": [
    "### 7.1 Read the raw train file"
   ]
  },
  {
   "cell_type": "code",
   "execution_count": 10,
   "id": "a1f548bb",
   "metadata": {},
   "outputs": [
    {
     "name": "stdout",
     "output_type": "stream",
     "text": [
      "Rows: 45000\n",
      "Columns (first 12 shown): ['celex_id', 'document_type', 'title', 'header', 'recitals', 'main_body', 'eurovoc_concepts', 'text', 'uid']\n"
     ]
    }
   ],
   "source": [
    "# Read back the saved raw Parquet file so we explore the exact snapshot on disk\n",
    "df_raw = pd.read_parquet(BASE_DIR / \"train.parquet\")\n",
    "print(\"Rows:\", len(df_raw))\n",
    "print(\"Columns (first 12 shown):\", list(df_raw.columns)[:12])"
   ]
  },
  {
   "cell_type": "markdown",
   "id": "8fff9630",
   "metadata": {
    "id": "8fff9630"
   },
   "source": [
    "### 7.2 Ensure key columns exist (add if missing)"
   ]
  },
  {
   "cell_type": "code",
   "execution_count": 11,
   "id": "20175f7a",
   "metadata": {},
   "outputs": [
    {
     "data": {
      "application/vnd.google.colaboratory.intrinsic+json": {
       "summary": "{\n  \"name\": \"df_raw[[\\\"document_type\\\",\\\"title\\\",\\\"header\\\",\\\"text\\\",\\\"eurovoc_concepts\\\"]]\",\n  \"rows\": 3,\n  \"fields\": [\n    {\n      \"column\": \"document_type\",\n      \"properties\": {\n        \"dtype\": \"string\",\n        \"num_unique_values\": 2,\n        \"samples\": [\n          \"Decision\",\n          \"Regulation\"\n        ],\n        \"semantic_type\": \"\",\n        \"description\": \"\"\n      }\n    },\n    {\n      \"column\": \"title\",\n      \"properties\": {\n        \"dtype\": \"string\",\n        \"num_unique_values\": 3,\n        \"samples\": [\n          \"Commission Implementing Regulation (EU) No 727/2014 of 30 June 2014 initiating a \\u2018new exporter\\u2019 review of Council Implementing Regulation (EU) No 1389/2011 imposing a definitive anti-dumping duty on imports of trichloroisocyanuric acid originating in the People's Republic of China, repealing the duty with regard to imports from one exporter in this country and making these imports subject to registration\\n\",\n          \"Regulation (EEC) No 2481/75 of the Council of 29 September 1975 amending Regulation (EEC) No 2511/69 laying down special measures for improving the production and marketing of Community citrus fruits\\n\"\n        ],\n        \"semantic_type\": \"\",\n        \"description\": \"\"\n      }\n    },\n    {\n      \"column\": \"header\",\n      \"properties\": {\n        \"dtype\": \"string\",\n        \"num_unique_values\": 3,\n        \"samples\": [\n          \"1.7.2014 EN Official Journal of the European Union L 192/42\\nCOMMISSION IMPLEMENTING REGULATION (EU) No 727/2014\\nof 30 June 2014\\ninitiating a \\u2018new exporter\\u2019 review of Council Implementing Regulation (EU) No 1389/2011 imposing a definitive anti-dumping duty on imports of trichloroisocyanuric acid originating in the People's Republic of China, repealing the duty with regard to imports from one exporter in this country and making these imports subject to registration\\nTHE EUROPEAN COMMISSION\",\n          \"REGULATION (EEC) No 2481/75 OF THE COUNCIL  of 29 September 1975  amending Regulation (EEC) No 2511/69 laying down special measures for improving the production and marketing of Community citrus fruits\\nTHE COUNCIL OF THE EUROPEAN COMMUNITIES\"\n        ],\n        \"semantic_type\": \"\",\n        \"description\": \"\"\n      }\n    },\n    {\n      \"column\": \"text\",\n      \"properties\": {\n        \"dtype\": \"string\",\n        \"num_unique_values\": 3,\n        \"samples\": [\n          \"Commission Implementing Regulation (EU) No 727/2014 of 30 June 2014 initiating a \\u2018new exporter\\u2019 review of Council Implementing Regulation (EU) No 1389/2011 imposing a definitive anti-dumping duty on imports of trichloroisocyanuric acid originating in the People's Republic of China, repealing the duty with regard to imports from one exporter in this country and making these imports subject to registration\\n,\\nHaving regard to the Treaty on the Functioning of the European Union,\\nHaving regard to Council Regulation (EC) No 1225/2009 of 30 November 2009 on protection against dumped imports from countries not members of the European Community\\u00a0(1) (\\u2018the basic Regulation\\u2019) and in particular Article 11(4) thereof,\\nAfter informing the Member States,\\nWhereas:\\n1.\\u00a0\\u00a0\\u00a0REQUEST\\n(1) The European Commission (\\u2018Commission\\u2019) has received a request for a \\u2018new exporter\\u2019 review pursuant to Article 11(4) of the basic Regulation.\\n(2) The request was lodged on 4 January 2014 by Juancheng Kangtai Chemical Co. Ltd (\\u2018the applicant\\u2019), an exporting producer in the People's Republic of China (\\u2018PRC\\u2019) of trichloroisocyanuric acid.\\n2.\\u00a0\\u00a0\\u00a0PRODUCT\\n(3) The product under review is trichloroisocyanuric acid and preparations thereof (TCCA), also referred to as \\u2018symclosene\\u2019 under the international non-proprietary name (INN), currently falling within CN codes ex\\u00a02933\\u00a069\\u00a080 and ex\\u00a03808\\u00a094\\u00a020 (TARIC codes 2933698070 and 3808942020), and originating in the PRC (\\u2018the product under review\\u2019).\\n3.\\u00a0\\u00a0\\u00a0EXISTING MEASURES\\n(4) The measures currently in force are a definitive anti-dumping duty imposed by Council Implementing Regulation (EU) No 1389/2011\\u00a0(2) under which imports into the Union of the product under review originating in the PRC, including the product produced by the applicant, are subject to a definitive anti-dumping duty of 42,6 % with the exception of several companies specially mentioned in Article 1(2) of that Regulation which are subject to individual duty rates.\\n4.\\u00a0\\u00a0\\u00a0GROUNDS\\n(5) The applicant claims that it did not export the product under review to the Union during the period of investigation on which the anti-dumping measures were based, i.e. the period from 1 April 2003 to 31 March 2004 (\\u2018the original investigation period\\u2019).\\n(6) Furthermore, the applicant claims that it is not related to any of the exporting producers of the product under review which are subject to the above-mentioned anti-dumping measures.\\n(7) The applicant further claims that it has begun exporting the product under review to the Union after the end of the original investigation period.\\n5.\\u00a0\\u00a0\\u00a0PROCEDURE\\n(8) Union producers known to be concerned have been informed of the request for a review and have been given an opportunity to comment.\\n(9) Having examined the evidence available, the Commission concludes that there is sufficient evidence to justify the initiation of a \\u2018new exporter\\u2019 review, pursuant to Article 11(4) of the basic Regulation, with a view to determine the applicant's individual margin of dumping and, should dumping be found, the level of the duty to which its imports of the product under review into the Union shall be subject.\\n(10) If it is determined that the applicant fulfils the requirements to have an individual duty established, it may be necessary to amend the rate of duty currently applicable to imports of the product under review from companies not individually mentioned in Article 1(2) of Implementing Regulation (EU) No 1389/2011.\\n(a)\\u00a0\\u00a0\\u00a0Questionnaires\\n(11) In order to obtain information it deems necessary for its investigation, the Commission will send a questionnaire to the applicant.\\n(b)\\u00a0\\u00a0\\u00a0Collection of information and holding of hearings\\n(12) All interested parties are hereby invited to make their views known in writing and to provide supporting evidence.\\n(13) Furthermore, the Commission may hear interested parties, provided that they make a request in writing showing that there are particular reasons why they should be heard.\\n(c)\\u00a0\\u00a0\\u00a0Selection of the market economy country\\n(14) Since the applicant expressly waived the right to claim that market economy conditions prevail for it, normal value shall be determined on the basis of Article 2(7)(a) of the basic Regulation. Therefore, an appropriate market economy country will be used for the purpose of establishing normal value in respect of the PRC. The Commission envisages using Japan again for this purpose as was done in the investigation which led to the imposition of measures on imports of the product under review from the PRC. Interested parties are hereby invited to comment on the appropriateness of this choice within the specific time limit set in Article 4(3) of this Regulation. According to the information available to the Commission, other market economy suppliers of the Union may be located, inter alia, in Switzerland, Malaysia and Indonesia. The Commission will examine whether there is production and sales of the product under investigation in those market economy third countries for which there are indications that production of the product under investigation is taking place.\\n6.\\u00a0\\u00a0\\u00a0REPEAL OF THE DUTY IN FORCE AND REGISTRATION OF IMPORTS\\n(15) Pursuant to Article 11(4) of the basic Regulation, the anti-dumping duty in force should be repealed with regard to imports of the product under review which are produced and sold for export to the Union by the applicant. At the same time, such imports should be made subject to registration in accordance with Article 14(5) of the basic Regulation, in order to ensure that, should the review result in a finding of dumping in respect of the applicant, anti-dumping duties can be levied retroactively to the date of the initiation of the review. The amount of the applicant's possible future liabilities cannot be estimated at this stage of the proceeding.\\n7.\\u00a0\\u00a0\\u00a0TIME-LIMITS\\n(16) In the interest of sound administration, time-limits should be stated within which:\\n\\u2014 interested parties may make themselves known to the Commission, present their views in writing and submit any information to be taken into account during the investigation,\\n\\u2014 interested parties may make a written request to be heard by the Commission,\\n\\u2014 interested parties may comment on the appropriateness of Japan which is envisaged as a market-economy country for the purpose of establishing normal value,\\n\\u2014 Attention is drawn to the fact that the exercise of most procedural rights set out in the basic Regulation depends on the party's making itself known within the time-limits indicated in Article 4 of this Regulation.\\n8.\\u00a0\\u00a0\\u00a0COMMUNICATION WITH INTERESTED PARTIES\\n(17) Interested parties are invited to make all submissions and requests by e-mail including scanned powers of attorney and certification sheets, with the exception of voluminous replies which shall be submitted on a CD-ROM or DVD by hand or by registered mail. Their use of e-mail will constitute an agreement for the communication by e-mail and acceptance of the rules specified in the communication instructions with interested parties which are published on the website of the Directorate-General for Trade: http://trade.ec.europa.eu/doclib/docs/2011/june/tradoc_148003.pdf. The interested parties must indicate their name, address, telephone and a valid e-mail address and they should ensure that the provided e-mail address is a functioning official business e-mail which is checked on a daily basis. Once contact details are provided, the Commission will communicate with interested parties by e-mail only, unless they explicitly request to receive all documents from the Commission by another means of communication or unless the nature of the document to be sent requires the use of a registered mail. For further rules and information concerning correspondence with the Commission including principles that apply to submissions by e-mail, interested parties should consult the communication instructions with interested parties referred to above.\\n(18) All written submissions, including the information requested in this Regulation, questionnaire replies and correspondence provided by interested parties on a confidential basis must be labelled as \\u2018Limited\\u2019 and, in accordance with Article 19(2) of Regulation (EC) No 1225/2009, must be accompanied by a non-confidential version, which must be labelled \\u2018For inspection by interested parties\\u2019.\\nEuropean Commission\\nDirectorate-General for Trade\\nDirectorate H\\nOffice: N105\\u00a08/21\\n1049 Bruxelles/Brussel\\nBELGIQUE/BELGI\\u00cb\\nE-mail: trade-tcca-review-bis@ec.europa.eu\\n9.\\u00a0\\u00a0\\u00a0NON-COOPERATION\\n(19) In cases in which any interested party refuses access to or does not provide the necessary information within the time-limits, or significantly impedes the investigation, findings, affirmative or negative, may be made in accordance with Article 18 of the basic Regulation, on the basis of the facts available.\\n(20) Where it is found that any interested party has supplied false or misleading information, the information shall be disregarded and use may be made of facts available.\\n(21) If an interested party does not cooperate or cooperates only partially and findings are therefore based on the facts available in accordance with Article 18 of the basic Regulation, the result may be less favourable to that party than if it had cooperated.\\n(22) Failure to give a computerised response shall not be deemed to constitute non-cooperation, provided that the interested party shows that presenting the response as requested would result in an unreasonable extra burden or unreasonable additional cost. The interested party should immediately contact the Commission.\\n10.\\u00a0\\u00a0\\u00a0SCHEDULE OF THE INVESTIGATION\\n(23) The investigation will be concluded, pursuant to Article 11(5) of the basic Regulation, within nine months of the date of initiation of this review.\\n11.\\u00a0\\u00a0\\u00a0PROCESSING OF PERSONAL DATA\\n(24) It is noted that any personal data collected in this investigation will be treated in accordance with Regulation (EC) No 45/2001 of the European Parliament and of the Council of 18 December 2000 on the protection of individuals with regard to the processing of personal data by the Community institutions and bodies and on the free movement of such data\\u00a0(3).\\n12.\\u00a0\\u00a0\\u00a0HEARING OFFICER\\n(25) Interested parties may request the intervention of the Hearing Officer of the Directorate-General for Trade. The Hearing Officer acts as an interface between the interested parties and the Commission investigation services. The Hearing Officer reviews requests for access to the file, disputes regarding the confidentiality of documents, requests for extension of time-limits and requests by third parties to be heard. The Hearing Officer may organise a hearing with an individual interested party and mediate to ensure that the interested party's rights of defence are being fully exercised. The Hearing Officer will also provide opportunities for a hearing involving parties to take place which would allow different views to be presented and rebuttal arguments offered.\\n(26) A request for a hearing with the Hearing Officer should be made in writing and should specify the reasons for the request. For hearings on issues pertaining to the initial stage of the investigation the request must be submitted within 15 days of the date of entry into force of this Regulation. Thereafter, a request to be heard must be submitted within specific deadlines set by the Commission in its communication with the parties.\\n(27) For further information and contact details interested parties may consult the Hearing Officer's web pages on the Directorate-General for Trade's website: http://ec.europa.eu/commission_2010-2014/degucht/contact/hearing-officer,\",\n          \"Regulation (EEC) No 2481/75 of the Council of 29 September 1975 amending Regulation (EEC) No 2511/69 laying down special measures for improving the production and marketing of Community citrus fruits\\n,\\nHaving regard to the Treaty establishing the European Economic Community, and in particular Article 43 thereof;\\nHaving regard to the proposal from the Commission;\\nHaving regard to the Opinion of the European Parliament (1);\\nWhereas Council Regulation (EEC) No 2511/69 (2) of 9 December 1969 laying down special measures for improving the production and marketing of Community citrus fruits, as amended by Regulation (EEC) No 175/73 (3), provides for the granting of additional aid to small farmers to compensate for part of the loss of income caused by replanting;\\nWhereas one of the conditions for the granting of this aid is that the area of the undertaking does not exceed five hectares ; whereas, when the total area of the undertaking exceeds five hectares but the area fit for agricultural use does not exceed that limit since the rest of the land is not cultivable, the farmer's economic situation is the same as in the cases mentioned in the Regulation ; whereas all farmers of an area fit for agricultural use not exceeding five hectares should receive identical treatment;\\nWhereas Regulation (EEC) No 2511/69 set up in particular a scheme of financial compensation to promote sales of Community-produced oranges and mandarins on Community import markets by means of contracts ensuring regular supplies for these markets;\\nWhereas experience has shown that the contractual scheme referred to above has not had the desired results as regards the growth of Community outlets for the products in question ; whereas, moreover, the increase in competition from certain producer third countries can only make it more difficult to market Community-produced citrus fruit on the Community market;\\nWhereas to counter these difficulties Regulation (EEC) No 2511/69 should be modified by discontinuing the contractual scheme and increasing the amounts of financial compensation ; whereas this compensation should be extended to include clementines;\\nWhereas during the recent marketing years there have also been problems as regards the distribution of Community lemon production on the Community import markets ; whereas, therefore, it is advisable, as a precautionary measure, to grant financial compensation in respect of this product for the remainder of the 1975/76 marketing year;\\nWhereas, in order to ensure the effectiveness of such a system, provision should be made for bringing up to date the amounts fixed in respect of oranges, mandarins and clementines, taking into account the trend of the basic and buying-in prices for the products concerned,\"\n        ],\n        \"semantic_type\": \"\",\n        \"description\": \"\"\n      }\n    },\n    {\n      \"column\": \"eurovoc_concepts\",\n      \"properties\": {\n        \"dtype\": \"object\",\n        \"semantic_type\": \"\",\n        \"description\": \"\"\n      }\n    }\n  ]\n}",
       "type": "dataframe"
      },
      "text/html": [
       "\n",
       "  <div id=\"df-04e75e79-250e-4117-a6fc-5a699a479c8d\" class=\"colab-df-container\">\n",
       "    <div>\n",
       "<style scoped>\n",
       "    .dataframe tbody tr th:only-of-type {\n",
       "        vertical-align: middle;\n",
       "    }\n",
       "\n",
       "    .dataframe tbody tr th {\n",
       "        vertical-align: top;\n",
       "    }\n",
       "\n",
       "    .dataframe thead th {\n",
       "        text-align: right;\n",
       "    }\n",
       "</style>\n",
       "<table border=\"1\" class=\"dataframe\">\n",
       "  <thead>\n",
       "    <tr style=\"text-align: right;\">\n",
       "      <th></th>\n",
       "      <th>document_type</th>\n",
       "      <th>title</th>\n",
       "      <th>header</th>\n",
       "      <th>text</th>\n",
       "      <th>eurovoc_concepts</th>\n",
       "    </tr>\n",
       "  </thead>\n",
       "  <tbody>\n",
       "    <tr>\n",
       "      <th>0</th>\n",
       "      <td>Regulation</td>\n",
       "      <td>Commission Implementing Regulation (EU) No 727...</td>\n",
       "      <td>1.7.2014 EN Official Journal of the European U...</td>\n",
       "      <td>Commission Implementing Regulation (EU) No 727...</td>\n",
       "      <td>[1402, 2771, 3191, 5055, 519, 5969, 5971]</td>\n",
       "    </tr>\n",
       "    <tr>\n",
       "      <th>1</th>\n",
       "      <td>Regulation</td>\n",
       "      <td>Regulation (EEC) No 2481/75 of the Council of ...</td>\n",
       "      <td>REGULATION (EEC) No 2481/75 OF THE COUNCIL  of...</td>\n",
       "      <td>Regulation (EEC) No 2481/75 of the Council of ...</td>\n",
       "      <td>[2319, 2713, 2938, 693]</td>\n",
       "    </tr>\n",
       "    <tr>\n",
       "      <th>2</th>\n",
       "      <td>Decision</td>\n",
       "      <td>2010/8/EU, Euratom: Commission Decision of 22 ...</td>\n",
       "      <td>7.1.2010 EN Official Journal of the European U...</td>\n",
       "      <td>2010/8/EU, Euratom: Commission Decision of 22 ...</td>\n",
       "      <td>[3560, 365, 4256, 4261, 4353, 4585]</td>\n",
       "    </tr>\n",
       "  </tbody>\n",
       "</table>\n",
       "</div>\n",
       "    <div class=\"colab-df-buttons\">\n",
       "\n",
       "  <div class=\"colab-df-container\">\n",
       "    <button class=\"colab-df-convert\" onclick=\"convertToInteractive('df-04e75e79-250e-4117-a6fc-5a699a479c8d')\"\n",
       "            title=\"Convert this dataframe to an interactive table.\"\n",
       "            style=\"display:none;\">\n",
       "\n",
       "  <svg xmlns=\"http://www.w3.org/2000/svg\" height=\"24px\" viewBox=\"0 -960 960 960\">\n",
       "    <path d=\"M120-120v-720h720v720H120Zm60-500h600v-160H180v160Zm220 220h160v-160H400v160Zm0 220h160v-160H400v160ZM180-400h160v-160H180v160Zm440 0h160v-160H620v160ZM180-180h160v-160H180v160Zm440 0h160v-160H620v160Z\"/>\n",
       "  </svg>\n",
       "    </button>\n",
       "\n",
       "  <style>\n",
       "    .colab-df-container {\n",
       "      display:flex;\n",
       "      gap: 12px;\n",
       "    }\n",
       "\n",
       "    .colab-df-convert {\n",
       "      background-color: #E8F0FE;\n",
       "      border: none;\n",
       "      border-radius: 50%;\n",
       "      cursor: pointer;\n",
       "      display: none;\n",
       "      fill: #1967D2;\n",
       "      height: 32px;\n",
       "      padding: 0 0 0 0;\n",
       "      width: 32px;\n",
       "    }\n",
       "\n",
       "    .colab-df-convert:hover {\n",
       "      background-color: #E2EBFA;\n",
       "      box-shadow: 0px 1px 2px rgba(60, 64, 67, 0.3), 0px 1px 3px 1px rgba(60, 64, 67, 0.15);\n",
       "      fill: #174EA6;\n",
       "    }\n",
       "\n",
       "    .colab-df-buttons div {\n",
       "      margin-bottom: 4px;\n",
       "    }\n",
       "\n",
       "    [theme=dark] .colab-df-convert {\n",
       "      background-color: #3B4455;\n",
       "      fill: #D2E3FC;\n",
       "    }\n",
       "\n",
       "    [theme=dark] .colab-df-convert:hover {\n",
       "      background-color: #434B5C;\n",
       "      box-shadow: 0px 1px 3px 1px rgba(0, 0, 0, 0.15);\n",
       "      filter: drop-shadow(0px 1px 2px rgba(0, 0, 0, 0.3));\n",
       "      fill: #FFFFFF;\n",
       "    }\n",
       "  </style>\n",
       "\n",
       "    <script>\n",
       "      const buttonEl =\n",
       "        document.querySelector('#df-04e75e79-250e-4117-a6fc-5a699a479c8d button.colab-df-convert');\n",
       "      buttonEl.style.display =\n",
       "        google.colab.kernel.accessAllowed ? 'block' : 'none';\n",
       "\n",
       "      async function convertToInteractive(key) {\n",
       "        const element = document.querySelector('#df-04e75e79-250e-4117-a6fc-5a699a479c8d');\n",
       "        const dataTable =\n",
       "          await google.colab.kernel.invokeFunction('convertToInteractive',\n",
       "                                                    [key], {});\n",
       "        if (!dataTable) return;\n",
       "\n",
       "        const docLinkHtml = 'Like what you see? Visit the ' +\n",
       "          '<a target=\"_blank\" href=https://colab.research.google.com/notebooks/data_table.ipynb>data table notebook</a>'\n",
       "          + ' to learn more about interactive tables.';\n",
       "        element.innerHTML = '';\n",
       "        dataTable['output_type'] = 'display_data';\n",
       "        await google.colab.output.renderOutput(dataTable, element);\n",
       "        const docLink = document.createElement('div');\n",
       "        docLink.innerHTML = docLinkHtml;\n",
       "        element.appendChild(docLink);\n",
       "      }\n",
       "    </script>\n",
       "  </div>\n",
       "\n",
       "\n",
       "    <div id=\"df-74879462-a802-41d4-9b69-4da5f31bfa91\">\n",
       "      <button class=\"colab-df-quickchart\" onclick=\"quickchart('df-74879462-a802-41d4-9b69-4da5f31bfa91')\"\n",
       "                title=\"Suggest charts\"\n",
       "                style=\"display:none;\">\n",
       "\n",
       "<svg xmlns=\"http://www.w3.org/2000/svg\" height=\"24px\"viewBox=\"0 0 24 24\"\n",
       "     width=\"24px\">\n",
       "    <g>\n",
       "        <path d=\"M19 3H5c-1.1 0-2 .9-2 2v14c0 1.1.9 2 2 2h14c1.1 0 2-.9 2-2V5c0-1.1-.9-2-2-2zM9 17H7v-7h2v7zm4 0h-2V7h2v10zm4 0h-2v-4h2v4z\"/>\n",
       "    </g>\n",
       "</svg>\n",
       "      </button>\n",
       "\n",
       "<style>\n",
       "  .colab-df-quickchart {\n",
       "      --bg-color: #E8F0FE;\n",
       "      --fill-color: #1967D2;\n",
       "      --hover-bg-color: #E2EBFA;\n",
       "      --hover-fill-color: #174EA6;\n",
       "      --disabled-fill-color: #AAA;\n",
       "      --disabled-bg-color: #DDD;\n",
       "  }\n",
       "\n",
       "  [theme=dark] .colab-df-quickchart {\n",
       "      --bg-color: #3B4455;\n",
       "      --fill-color: #D2E3FC;\n",
       "      --hover-bg-color: #434B5C;\n",
       "      --hover-fill-color: #FFFFFF;\n",
       "      --disabled-bg-color: #3B4455;\n",
       "      --disabled-fill-color: #666;\n",
       "  }\n",
       "\n",
       "  .colab-df-quickchart {\n",
       "    background-color: var(--bg-color);\n",
       "    border: none;\n",
       "    border-radius: 50%;\n",
       "    cursor: pointer;\n",
       "    display: none;\n",
       "    fill: var(--fill-color);\n",
       "    height: 32px;\n",
       "    padding: 0;\n",
       "    width: 32px;\n",
       "  }\n",
       "\n",
       "  .colab-df-quickchart:hover {\n",
       "    background-color: var(--hover-bg-color);\n",
       "    box-shadow: 0 1px 2px rgba(60, 64, 67, 0.3), 0 1px 3px 1px rgba(60, 64, 67, 0.15);\n",
       "    fill: var(--button-hover-fill-color);\n",
       "  }\n",
       "\n",
       "  .colab-df-quickchart-complete:disabled,\n",
       "  .colab-df-quickchart-complete:disabled:hover {\n",
       "    background-color: var(--disabled-bg-color);\n",
       "    fill: var(--disabled-fill-color);\n",
       "    box-shadow: none;\n",
       "  }\n",
       "\n",
       "  .colab-df-spinner {\n",
       "    border: 2px solid var(--fill-color);\n",
       "    border-color: transparent;\n",
       "    border-bottom-color: var(--fill-color);\n",
       "    animation:\n",
       "      spin 1s steps(1) infinite;\n",
       "  }\n",
       "\n",
       "  @keyframes spin {\n",
       "    0% {\n",
       "      border-color: transparent;\n",
       "      border-bottom-color: var(--fill-color);\n",
       "      border-left-color: var(--fill-color);\n",
       "    }\n",
       "    20% {\n",
       "      border-color: transparent;\n",
       "      border-left-color: var(--fill-color);\n",
       "      border-top-color: var(--fill-color);\n",
       "    }\n",
       "    30% {\n",
       "      border-color: transparent;\n",
       "      border-left-color: var(--fill-color);\n",
       "      border-top-color: var(--fill-color);\n",
       "      border-right-color: var(--fill-color);\n",
       "    }\n",
       "    40% {\n",
       "      border-color: transparent;\n",
       "      border-right-color: var(--fill-color);\n",
       "      border-top-color: var(--fill-color);\n",
       "    }\n",
       "    60% {\n",
       "      border-color: transparent;\n",
       "      border-right-color: var(--fill-color);\n",
       "    }\n",
       "    80% {\n",
       "      border-color: transparent;\n",
       "      border-right-color: var(--fill-color);\n",
       "      border-bottom-color: var(--fill-color);\n",
       "    }\n",
       "    90% {\n",
       "      border-color: transparent;\n",
       "      border-bottom-color: var(--fill-color);\n",
       "    }\n",
       "  }\n",
       "</style>\n",
       "\n",
       "      <script>\n",
       "        async function quickchart(key) {\n",
       "          const quickchartButtonEl =\n",
       "            document.querySelector('#' + key + ' button');\n",
       "          quickchartButtonEl.disabled = true;  // To prevent multiple clicks.\n",
       "          quickchartButtonEl.classList.add('colab-df-spinner');\n",
       "          try {\n",
       "            const charts = await google.colab.kernel.invokeFunction(\n",
       "                'suggestCharts', [key], {});\n",
       "          } catch (error) {\n",
       "            console.error('Error during call to suggestCharts:', error);\n",
       "          }\n",
       "          quickchartButtonEl.classList.remove('colab-df-spinner');\n",
       "          quickchartButtonEl.classList.add('colab-df-quickchart-complete');\n",
       "        }\n",
       "        (() => {\n",
       "          let quickchartButtonEl =\n",
       "            document.querySelector('#df-74879462-a802-41d4-9b69-4da5f31bfa91 button');\n",
       "          quickchartButtonEl.style.display =\n",
       "            google.colab.kernel.accessAllowed ? 'block' : 'none';\n",
       "        })();\n",
       "      </script>\n",
       "    </div>\n",
       "\n",
       "    </div>\n",
       "  </div>\n"
      ],
      "text/plain": [
       "  document_type                                              title  \\\n",
       "0    Regulation  Commission Implementing Regulation (EU) No 727...   \n",
       "1    Regulation  Regulation (EEC) No 2481/75 of the Council of ...   \n",
       "2      Decision  2010/8/EU, Euratom: Commission Decision of 22 ...   \n",
       "\n",
       "                                              header  \\\n",
       "0  1.7.2014 EN Official Journal of the European U...   \n",
       "1  REGULATION (EEC) No 2481/75 OF THE COUNCIL  of...   \n",
       "2  7.1.2010 EN Official Journal of the European U...   \n",
       "\n",
       "                                                text  \\\n",
       "0  Commission Implementing Regulation (EU) No 727...   \n",
       "1  Regulation (EEC) No 2481/75 of the Council of ...   \n",
       "2  2010/8/EU, Euratom: Commission Decision of 22 ...   \n",
       "\n",
       "                            eurovoc_concepts  \n",
       "0  [1402, 2771, 3191, 5055, 519, 5969, 5971]  \n",
       "1                    [2319, 2713, 2938, 693]  \n",
       "2        [3560, 365, 4256, 4261, 4353, 4585]  "
      ]
     },
     "execution_count": 11,
     "metadata": {},
     "output_type": "execute_result"
    }
   ],
   "source": [
    "# Some fields may be absent in certain rows/versions; create them so downstream code is safe.\n",
    "for col in [\"document_type\", \"title\", \"header\", \"text\", \"eurovoc_concepts\"]:\n",
    "    if col not in df_raw.columns:\n",
    "        df_raw[col] = None\n",
    "\n",
    "df_raw[[\"document_type\",\"title\",\"header\",\"text\",\"eurovoc_concepts\"]].head(3)"
   ]
  },
  {
   "cell_type": "markdown",
   "id": "0097082a",
   "metadata": {
    "id": "0097082a"
   },
   "source": [
    "### 7.3 Document type counts"
   ]
  },
  {
   "cell_type": "code",
   "execution_count": 12,
   "id": "72d55d3a",
   "metadata": {},
   "outputs": [
    {
     "name": "stdout",
     "output_type": "stream",
     "text": [
      "document_type\n",
      "Regulation    29600\n",
      "Decision      13627\n",
      "Directive      1773\n",
      "Name: count, dtype: int64\n"
     ]
    }
   ],
   "source": [
    "# Quick distribution of legal document types\n",
    "doc_counts = df_raw[\"document_type\"].value_counts().head(5)\n",
    "print(doc_counts)"
   ]
  },
  {
   "cell_type": "markdown",
   "id": "c50db888",
   "metadata": {
    "id": "c50db888"
   },
   "source": [
    "### 7.4 Null/empty rates for title/header/text"
   ]
  },
  {
   "cell_type": "code",
   "execution_count": 13,
   "id": "d5650123",
   "metadata": {},
   "outputs": [
    {
     "name": "stdout",
     "output_type": "stream",
     "text": [
      "empty title: 0.000\n",
      "empty header: 0.000\n",
      "empty text: 0.000\n"
     ]
    }
   ],
   "source": [
    "# Compute share of rows where each field is missing or blank\n",
    "for c in [\"title\",\"header\",\"text\"]:\n",
    "    rate = (df_raw[c].isna() | (df_raw[c].astype(str).str.strip()==\"\")).mean()\n",
    "    print(f\"empty {c}: {rate:.3f}\")"
   ]
  },
  {
   "cell_type": "markdown",
   "id": "ea3f6c85",
   "metadata": {
    "id": "ea3f6c85"
   },
   "source": [
    "### 7.5 Text length distribution (words)"
   ]
  },
  {
   "cell_type": "code",
   "execution_count": 14,
   "id": "7b7f5689",
   "metadata": {},
   "outputs": [
    {
     "name": "stdout",
     "output_type": "stream",
     "text": [
      "Percentiles: {0.5: 273.0, 0.9: 618.0999999999985, 0.99: 1519.020000000004}\n"
     ]
    },
    {
     "data": {
      "image/png": "[encoded data removed]",
      "text/plain": [
       "<Figure size 640x480 with 1 Axes>"
      ]
     },
     "metadata": {},
     "output_type": "display_data"
    }
   ],
   "source": [
    "# Calculate per-row word counts to gauge typical document sizes\n",
    "text_len = df_raw[\"text\"].astype(str).str.split().apply(len)\n",
    "\n",
    "# Show selected percentiles\n",
    "print(\"Percentiles:\", text_len.quantile([0.5,0.9,0.99]).to_dict())\n",
    "\n",
    "# Plot histogram (clip right tail so the chart is readable)\n",
    "plt.figure()\n",
    "text_len.clip(0, 4000).hist(bins=40)\n",
    "plt.title(\"train — text length (<=4k words)\")\n",
    "plt.xlabel(\"words\"); plt.ylabel(\"documents\")\n",
    "plt.show()"
   ]
  },
  {
   "cell_type": "markdown",
   "id": "02ff944e",
   "metadata": {
    "id": "02ff944e"
   },
   "source": [
    "## Step 8 — CLEAN **TRAIN**"
   ]
  },
  {
   "cell_type": "markdown",
   "id": "b77f15c4",
   "metadata": {
    "id": "b77f15c4"
   },
   "source": [
    "### 8.1 Load raw train into a working DataFrame `df`"
   ]
  },
  {
   "cell_type": "code",
   "execution_count": 15,
   "id": "2dbb7ab0",
   "metadata": {},
   "outputs": [
    {
     "data": {
      "text/plain": [
       "45000"
      ]
     },
     "execution_count": 15,
     "metadata": {},
     "output_type": "execute_result"
    }
   ],
   "source": [
    "df = pd.read_parquet(BASE_DIR / \"train.parquet\").copy()\n",
    "len(df)"
   ]
  },
  {
   "cell_type": "markdown",
   "id": "3de4e578",
   "metadata": {
    "id": "3de4e578"
   },
   "source": [
    "### 8.2 Ensure required columns exist"
   ]
  },
  {
   "cell_type": "code",
   "execution_count": 16,
   "id": "0d42e575",
   "metadata": {},
   "outputs": [
    {
     "data": {
      "text/plain": [
       "['celex_id',\n",
       " 'uid',\n",
       " 'document_type',\n",
       " 'title',\n",
       " 'header',\n",
       " 'recitals',\n",
       " 'text',\n",
       " 'main_body',\n",
       " 'eurovoc_concepts']"
      ]
     },
     "execution_count": 16,
     "metadata": {},
     "output_type": "execute_result"
    }
   ],
   "source": [
    "# If any expected column is missing, create it with a safe default (None)\n",
    "required_cols = [\"celex_id\",\"uid\",\"document_type\",\"title\",\"header\",\"recitals\",\"text\",\"main_body\",\"eurovoc_concepts\"]\n",
    "for c in required_cols:\n",
    "    if c not in df.columns:\n",
    "        df[c] = None\n",
    "required_cols"
   ]
  },
  {
   "cell_type": "markdown",
   "id": "59f4cd4a",
   "metadata": {
    "id": "59f4cd4a"
   },
   "source": [
    "### 8.3 Define a small `normalize()` text utility"
   ]
  },
  {
   "cell_type": "code",
   "execution_count": 17,
   "id": "82856478",
   "metadata": {},
   "outputs": [
    {
     "name": "stdout",
     "output_type": "stream",
     "text": [
      "resume\n"
     ]
    }
   ],
   "source": [
    "# Inline function to normalize unicode/whitespace for text fields\n",
    "def normalize(s):\n",
    "    if s is None:\n",
    "        return \"\"\n",
    "    s = str(s).replace(\"\\u00A0\",\" \")        # replace non-breaking spaces\n",
    "    s = unidecode(s)                         # normalize accents (é -> e)\n",
    "    s = re.sub(r\"\\s+\",\" \", s).strip()      # collapse extra spaces and trim\n",
    "    return s\n",
    "\n",
    "# Quick demo (should print 'resume')\n",
    "print(normalize(\"résumé\"))"
   ]
  },
  {
   "cell_type": "markdown",
   "id": "fd23ca12",
   "metadata": {
    "id": "fd23ca12"
   },
   "source": [
    "### 8.4 Normalize `title`"
   ]
  },
  {
   "cell_type": "code",
   "execution_count": 18,
   "id": "1fc9370a",
   "metadata": {},
   "outputs": [
    {
     "data": {
      "text/html": [
       "<div>\n",
       "<style scoped>\n",
       "    .dataframe tbody tr th:only-of-type {\n",
       "        vertical-align: middle;\n",
       "    }\n",
       "\n",
       "    .dataframe tbody tr th {\n",
       "        vertical-align: top;\n",
       "    }\n",
       "\n",
       "    .dataframe thead th {\n",
       "        text-align: right;\n",
       "    }\n",
       "</style>\n",
       "<table border=\"1\" class=\"dataframe\">\n",
       "  <thead>\n",
       "    <tr style=\"text-align: right;\">\n",
       "      <th></th>\n",
       "      <th>title</th>\n",
       "    </tr>\n",
       "  </thead>\n",
       "  <tbody>\n",
       "    <tr>\n",
       "      <th>0</th>\n",
       "      <td>Commission Implementing Regulation (EU) No 727...</td>\n",
       "    </tr>\n",
       "    <tr>\n",
       "      <th>1</th>\n",
       "      <td>Regulation (EEC) No 2481/75 of the Council of ...</td>\n",
       "    </tr>\n",
       "    <tr>\n",
       "      <th>2</th>\n",
       "      <td>2010/8/EU, Euratom: Commission Decision of 22 ...</td>\n",
       "    </tr>\n",
       "  </tbody>\n",
       "</table>\n",
       "</div><br><label><b>dtype:</b> object</label>"
      ],
      "text/plain": [
       "0    Commission Implementing Regulation (EU) No 727...\n",
       "1    Regulation (EEC) No 2481/75 of the Council of ...\n",
       "2    2010/8/EU, Euratom: Commission Decision of 22 ...\n",
       "Name: title, dtype: object"
      ]
     },
     "execution_count": 18,
     "metadata": {},
     "output_type": "execute_result"
    }
   ],
   "source": [
    "# Clean up the title text field\n",
    "df[\"title\"] = df[\"title\"].apply(normalize)\n",
    "df[\"title\"].head(3)"
   ]
  },
  {
   "cell_type": "markdown",
   "id": "35efd7a8",
   "metadata": {
    "id": "35efd7a8"
   },
   "source": [
    "### 8.5 Normalize `header`"
   ]
  },
  {
   "cell_type": "code",
   "execution_count": 19,
   "id": "748c0a50",
   "metadata": {},
   "outputs": [
    {
     "data": {
      "text/html": [
       "<div>\n",
       "<style scoped>\n",
       "    .dataframe tbody tr th:only-of-type {\n",
       "        vertical-align: middle;\n",
       "    }\n",
       "\n",
       "    .dataframe tbody tr th {\n",
       "        vertical-align: top;\n",
       "    }\n",
       "\n",
       "    .dataframe thead th {\n",
       "        text-align: right;\n",
       "    }\n",
       "</style>\n",
       "<table border=\"1\" class=\"dataframe\">\n",
       "  <thead>\n",
       "    <tr style=\"text-align: right;\">\n",
       "      <th></th>\n",
       "      <th>header</th>\n",
       "    </tr>\n",
       "  </thead>\n",
       "  <tbody>\n",
       "    <tr>\n",
       "      <th>0</th>\n",
       "      <td>1.7.2014 EN Official Journal of the European U...</td>\n",
       "    </tr>\n",
       "    <tr>\n",
       "      <th>1</th>\n",
       "      <td>REGULATION (EEC) No 2481/75 OF THE COUNCIL of ...</td>\n",
       "    </tr>\n",
       "    <tr>\n",
       "      <th>2</th>\n",
       "      <td>7.1.2010 EN Official Journal of the European U...</td>\n",
       "    </tr>\n",
       "  </tbody>\n",
       "</table>\n",
       "</div><br><label><b>dtype:</b> object</label>"
      ],
      "text/plain": [
       "0    1.7.2014 EN Official Journal of the European U...\n",
       "1    REGULATION (EEC) No 2481/75 OF THE COUNCIL of ...\n",
       "2    7.1.2010 EN Official Journal of the European U...\n",
       "Name: header, dtype: object"
      ]
     },
     "execution_count": 19,
     "metadata": {},
     "output_type": "execute_result"
    }
   ],
   "source": [
    "# Clean up the header text field\n",
    "df[\"header\"] = df[\"header\"].apply(normalize)\n",
    "df[\"header\"].head(3)"
   ]
  },
  {
   "cell_type": "markdown",
   "id": "2b5f7836",
   "metadata": {
    "id": "2b5f7836"
   },
   "source": [
    "### 8.6 Normalize `recitals`"
   ]
  },
  {
   "cell_type": "code",
   "execution_count": 20,
   "id": "1f925578",
   "metadata": {},
   "outputs": [
    {
     "data": {
      "text/html": [
       "<div>\n",
       "<style scoped>\n",
       "    .dataframe tbody tr th:only-of-type {\n",
       "        vertical-align: middle;\n",
       "    }\n",
       "\n",
       "    .dataframe tbody tr th {\n",
       "        vertical-align: top;\n",
       "    }\n",
       "\n",
       "    .dataframe thead th {\n",
       "        text-align: right;\n",
       "    }\n",
       "</style>\n",
       "<table border=\"1\" class=\"dataframe\">\n",
       "  <thead>\n",
       "    <tr style=\"text-align: right;\">\n",
       "      <th></th>\n",
       "      <th>recitals</th>\n",
       "    </tr>\n",
       "  </thead>\n",
       "  <tbody>\n",
       "    <tr>\n",
       "      <th>0</th>\n",
       "      <td>, Having regard to the Treaty on the Functioni...</td>\n",
       "    </tr>\n",
       "    <tr>\n",
       "      <th>1</th>\n",
       "      <td>, Having regard to the Treaty establishing the...</td>\n",
       "    </tr>\n",
       "    <tr>\n",
       "      <th>2</th>\n",
       "      <td>, Having regard to the Treaty on the Functioni...</td>\n",
       "    </tr>\n",
       "  </tbody>\n",
       "</table>\n",
       "</div><br><label><b>dtype:</b> object</label>"
      ],
      "text/plain": [
       "0    , Having regard to the Treaty on the Functioni...\n",
       "1    , Having regard to the Treaty establishing the...\n",
       "2    , Having regard to the Treaty on the Functioni...\n",
       "Name: recitals, dtype: object"
      ]
     },
     "execution_count": 20,
     "metadata": {},
     "output_type": "execute_result"
    }
   ],
   "source": [
    "# Clean up the recitals field (if missing, normalize returns empty string)\n",
    "df[\"recitals\"] = df[\"recitals\"].apply(normalize)\n",
    "df[\"recitals\"].head(3)"
   ]
  },
  {
   "cell_type": "markdown",
   "id": "346b9dfe",
   "metadata": {
    "id": "346b9dfe"
   },
   "source": [
    "### 8.7 Normalize `text`"
   ]
  },
  {
   "cell_type": "code",
   "execution_count": 21,
   "id": "478a1beb",
   "metadata": {},
   "outputs": [
    {
     "data": {
      "text/html": [
       "<div>\n",
       "<style scoped>\n",
       "    .dataframe tbody tr th:only-of-type {\n",
       "        vertical-align: middle;\n",
       "    }\n",
       "\n",
       "    .dataframe tbody tr th {\n",
       "        vertical-align: top;\n",
       "    }\n",
       "\n",
       "    .dataframe thead th {\n",
       "        text-align: right;\n",
       "    }\n",
       "</style>\n",
       "<table border=\"1\" class=\"dataframe\">\n",
       "  <thead>\n",
       "    <tr style=\"text-align: right;\">\n",
       "      <th></th>\n",
       "      <th>text</th>\n",
       "    </tr>\n",
       "  </thead>\n",
       "  <tbody>\n",
       "    <tr>\n",
       "      <th>0</th>\n",
       "      <td>Commission Implementing Regulation (EU) No 727...</td>\n",
       "    </tr>\n",
       "    <tr>\n",
       "      <th>1</th>\n",
       "      <td>Regulation (EEC) No 2481/75 of the Council of ...</td>\n",
       "    </tr>\n",
       "    <tr>\n",
       "      <th>2</th>\n",
       "      <td>2010/8/EU, Euratom: Commission Decision of 22 ...</td>\n",
       "    </tr>\n",
       "  </tbody>\n",
       "</table>\n",
       "</div><br><label><b>dtype:</b> object</label>"
      ],
      "text/plain": [
       "0    Commission Implementing Regulation (EU) No 727...\n",
       "1    Regulation (EEC) No 2481/75 of the Council of ...\n",
       "2    2010/8/EU, Euratom: Commission Decision of 22 ...\n",
       "Name: text, dtype: object"
      ]
     },
     "execution_count": 21,
     "metadata": {},
     "output_type": "execute_result"
    }
   ],
   "source": [
    "# Clean up the main text content\n",
    "df[\"text\"] = df[\"text\"].apply(normalize)\n",
    "df[\"text\"].head(3)"
   ]
  },
  {
   "cell_type": "markdown",
   "id": "7651dd5a",
   "metadata": {
    "id": "7651dd5a"
   },
   "source": [
    "### 8.8 Define `as_list()` to force list type where needed"
   ]
  },
  {
   "cell_type": "code",
   "execution_count": 22,
   "id": "8fb87ecc",
   "metadata": {},
   "outputs": [
    {
     "data": {
      "text/plain": [
       "(['foo'], ['a', 'b'], [])"
      ]
     },
     "execution_count": 22,
     "metadata": {},
     "output_type": "execute_result"
    }
   ],
   "source": [
    "# Some fields may be NaN or scalar; we convert them to lists to keep schema consistent\n",
    "def as_list(v):\n",
    "    if isinstance(v,(list,tuple)):\n",
    "        return list(v)\n",
    "    if v is None or (isinstance(v,float) and pd.isna(v)):\n",
    "        return []\n",
    "    return [v]\n",
    "\n",
    "# Quick demo (expect a list back)\n",
    "as_list(\"foo\"), as_list([\"a\",\"b\"]), as_list(None)"
   ]
  },
  {
   "cell_type": "markdown",
   "id": "48a7e6be",
   "metadata": {
    "id": "48a7e6be"
   },
   "source": [
    "### 8.9 Ensure `main_body` is a clean list of strings"
   ]
  },
  {
   "cell_type": "code",
   "execution_count": 23,
   "id": "6bf0c2ec",
   "metadata": {},
   "outputs": [
    {
     "data": {
      "text/html": [
       "<div>\n",
       "<style scoped>\n",
       "    .dataframe tbody tr th:only-of-type {\n",
       "        vertical-align: middle;\n",
       "    }\n",
       "\n",
       "    .dataframe tbody tr th {\n",
       "        vertical-align: top;\n",
       "    }\n",
       "\n",
       "    .dataframe thead th {\n",
       "        text-align: right;\n",
       "    }\n",
       "</style>\n",
       "<table border=\"1\" class=\"dataframe\">\n",
       "  <thead>\n",
       "    <tr style=\"text-align: right;\">\n",
       "      <th></th>\n",
       "      <th>main_body</th>\n",
       "    </tr>\n",
       "  </thead>\n",
       "  <tbody>\n",
       "    <tr>\n",
       "      <th>0</th>\n",
       "      <td>[[\"A review of Implementing Regulation (EU) No...</td>\n",
       "    </tr>\n",
       "    <tr>\n",
       "      <th>1</th>\n",
       "      <td>[['The first indent of Article 4 (1) of Regula...</td>\n",
       "    </tr>\n",
       "    <tr>\n",
       "      <th>2</th>\n",
       "      <td>[['The solution proposed by Austria concerning...</td>\n",
       "    </tr>\n",
       "  </tbody>\n",
       "</table>\n",
       "</div><br><label><b>dtype:</b> object</label>"
      ],
      "text/plain": [
       "0    [[\"A review of Implementing Regulation (EU) No...\n",
       "1    [['The first indent of Article 4 (1) of Regula...\n",
       "2    [['The solution proposed by Austria concerning...\n",
       "Name: main_body, dtype: object"
      ]
     },
     "execution_count": 23,
     "metadata": {},
     "output_type": "execute_result"
    }
   ],
   "source": [
    "# Normalize each element and drop empties\n",
    "df[\"main_body\"] = df[\"main_body\"].apply(lambda v: [normalize(x) for x in as_list(v) if normalize(x)])\n",
    "df[\"main_body\"].head(3)"
   ]
  },
  {
   "cell_type": "markdown",
   "id": "ed289087",
   "metadata": {
    "id": "ed289087"
   },
   "source": [
    "### 8.10 Ensure `eurovoc_concepts` is a unique, sorted list of strings"
   ]
  },
  {
   "cell_type": "code",
   "execution_count": 24,
   "id": "b0fdaac6",
   "metadata": {},
   "outputs": [
    {
     "data": {
      "text/html": [
       "<div>\n",
       "<style scoped>\n",
       "    .dataframe tbody tr th:only-of-type {\n",
       "        vertical-align: middle;\n",
       "    }\n",
       "\n",
       "    .dataframe tbody tr th {\n",
       "        vertical-align: top;\n",
       "    }\n",
       "\n",
       "    .dataframe thead th {\n",
       "        text-align: right;\n",
       "    }\n",
       "</style>\n",
       "<table border=\"1\" class=\"dataframe\">\n",
       "  <thead>\n",
       "    <tr style=\"text-align: right;\">\n",
       "      <th></th>\n",
       "      <th>eurovoc_concepts</th>\n",
       "    </tr>\n",
       "  </thead>\n",
       "  <tbody>\n",
       "    <tr>\n",
       "      <th>0</th>\n",
       "      <td>[['1402' '2771' '3191' '5055' '519' '5969' '59...</td>\n",
       "    </tr>\n",
       "    <tr>\n",
       "      <th>1</th>\n",
       "      <td>[['2319' '2713' '2938' '693']]</td>\n",
       "    </tr>\n",
       "    <tr>\n",
       "      <th>2</th>\n",
       "      <td>[['3560' '365' '4256' '4261' '4353' '4585']]</td>\n",
       "    </tr>\n",
       "  </tbody>\n",
       "</table>\n",
       "</div><br><label><b>dtype:</b> object</label>"
      ],
      "text/plain": [
       "0    [['1402' '2771' '3191' '5055' '519' '5969' '59...\n",
       "1                       [['2319' '2713' '2938' '693']]\n",
       "2         [['3560' '365' '4256' '4261' '4353' '4585']]\n",
       "Name: eurovoc_concepts, dtype: object"
      ]
     },
     "execution_count": 24,
     "metadata": {},
     "output_type": "execute_result"
    }
   ],
   "source": [
    "# Normalize each label, drop empties, make unique (+ sorted for stable downstream behavior)\n",
    "df[\"eurovoc_concepts\"] = df[\"eurovoc_concepts\"].apply(\n",
    "    lambda v: sorted({normalize(x) for x in as_list(v) if normalize(x)})\n",
    ")\n",
    "df[\"eurovoc_concepts\"].head(3)"
   ]
  },
  {
   "cell_type": "markdown",
   "id": "b24fc1c8",
   "metadata": {
    "id": "b24fc1c8"
   },
   "source": [
    "### 8.11 Standardize `document_type` (allow only known values)"
   ]
  },
  {
   "cell_type": "code",
   "execution_count": 25,
   "id": "dd37773b",
   "metadata": {},
   "outputs": [
    {
     "data": {
      "text/html": [
       "<div>\n",
       "<style scoped>\n",
       "    .dataframe tbody tr th:only-of-type {\n",
       "        vertical-align: middle;\n",
       "    }\n",
       "\n",
       "    .dataframe tbody tr th {\n",
       "        vertical-align: top;\n",
       "    }\n",
       "\n",
       "    .dataframe thead th {\n",
       "        text-align: right;\n",
       "    }\n",
       "</style>\n",
       "<table border=\"1\" class=\"dataframe\">\n",
       "  <thead>\n",
       "    <tr style=\"text-align: right;\">\n",
       "      <th></th>\n",
       "      <th>count</th>\n",
       "    </tr>\n",
       "    <tr>\n",
       "      <th>document_type</th>\n",
       "      <th></th>\n",
       "    </tr>\n",
       "  </thead>\n",
       "  <tbody>\n",
       "    <tr>\n",
       "      <th>Regulation</th>\n",
       "      <td>29600</td>\n",
       "    </tr>\n",
       "    <tr>\n",
       "      <th>Decision</th>\n",
       "      <td>13627</td>\n",
       "    </tr>\n",
       "    <tr>\n",
       "      <th>Directive</th>\n",
       "      <td>1773</td>\n",
       "    </tr>\n",
       "  </tbody>\n",
       "</table>\n",
       "</div><br><label><b>dtype:</b> int64</label>"
      ],
      "text/plain": [
       "document_type\n",
       "Regulation    29600\n",
       "Decision      13627\n",
       "Directive      1773\n",
       "Name: count, dtype: int64"
      ]
     },
     "execution_count": 25,
     "metadata": {},
     "output_type": "execute_result"
    }
   ],
   "source": [
    "# Map anything outside the allowed set to 'Unknown' so the column is well-defined\n",
    "ALLOWED_DOC_TYPES = {\"Regulation\",\"Decision\",\"Directive\"}\n",
    "df[\"document_type\"] = df[\"document_type\"].apply(lambda x: x if str(x).strip() in ALLOWED_DOC_TYPES else \"Unknown\")\n",
    "df[\"document_type\"].value_counts()"
   ]
  },
  {
   "cell_type": "markdown",
   "id": "9a887366",
   "metadata": {
    "id": "9a887366"
   },
   "source": [
    "### 8.12 Deduplicate rows (primary key: `celex_id`; fallback: `title||header`)"
   ]
  },
  {
   "cell_type": "code",
   "execution_count": 26,
   "id": "25e9ac5c",
   "metadata": {},
   "outputs": [
    {
     "name": "stdout",
     "output_type": "stream",
     "text": [
      "Duplicates removed: 0 | Remaining rows: 45000\n"
     ]
    }
   ],
   "source": [
    "# Build a deduplication key per row\n",
    "key_primary  = df[\"celex_id\"].astype(str).str.strip()\n",
    "key_fallback = df[\"title\"].str.lower().str.strip() + \"||\" + df[\"header\"].str.lower().str.strip()\n",
    "dedupe_key   = key_primary.where(key_primary.astype(bool), key_fallback)\n",
    "\n",
    "# Remove duplicate keys, keeping the first occurrence\n",
    "before = len(df)\n",
    "df = df.loc[~dedupe_key.duplicated()].reset_index(drop=True)\n",
    "removed = before - len(df)\n",
    "print(\"Duplicates removed:\", removed, \"| Remaining rows:\", len(df))"
   ]
  },
  {
   "cell_type": "markdown",
   "id": "125269b6",
   "metadata": {
    "id": "125269b6"
   },
   "source": [
    "### 8.13 Derive `year` from `header`"
   ]
  },
  {
   "cell_type": "code",
   "execution_count": 27,
   "id": "79897da9",
   "metadata": {},
   "outputs": [
    {
     "data": {
      "application/vnd.google.colaboratory.intrinsic+json": {
       "summary": "{\n  \"name\": \"df[[\\\"header\\\",\\\"year\\\"]]\",\n  \"rows\": 3,\n  \"fields\": [\n    {\n      \"column\": \"header\",\n      \"properties\": {\n        \"dtype\": \"string\",\n        \"num_unique_values\": 3,\n        \"samples\": [\n          \"1.7.2014 EN Official Journal of the European Union L 192/42 COMMISSION IMPLEMENTING REGULATION (EU) No 727/2014 of 30 June 2014 initiating a 'new exporter' review of Council Implementing Regulation (EU) No 1389/2011 imposing a definitive anti-dumping duty on imports of trichloroisocyanuric acid originating in the People's Republic of China, repealing the duty with regard to imports from one exporter in this country and making these imports subject to registration THE EUROPEAN COMMISSION\",\n          \"REGULATION (EEC) No 2481/75 OF THE COUNCIL of 29 September 1975 amending Regulation (EEC) No 2511/69 laying down special measures for improving the production and marketing of Community citrus fruits THE COUNCIL OF THE EUROPEAN COMMUNITIES\",\n          \"7.1.2010 EN Official Journal of the European Union L 3/22 COMMISSION DECISION of 22 December 2009 declining the solution proposed by Austria under Article 10 of Council Regulation (EEC, Euratom) No 1553/89 relating to the calculation of a compensation to the VAT own resources base resulting from the restriction of the right to deduct VAT under Article 176 of Council Directive 2006/112/EC (notified under document C(2009) 10428) (Only the German text is authentic) (2010/8/EU, Euratom) THE EUROPEAN COMMISSION\"\n        ],\n        \"semantic_type\": \"\",\n        \"description\": \"\"\n      }\n    },\n    {\n      \"column\": \"year\",\n      \"properties\": {\n        \"dtype\": \"Int64\",\n        \"num_unique_values\": 3,\n        \"samples\": [\n          2014,\n          1975,\n          2010\n        ],\n        \"semantic_type\": \"\",\n        \"description\": \"\"\n      }\n    }\n  ]\n}",
       "type": "dataframe"
      },
      "text/html": [
       "\n",
       "  <div id=\"df-5cae9411-95cf-446a-ae7b-d7f1cd046dba\" class=\"colab-df-container\">\n",
       "    <div>\n",
       "<style scoped>\n",
       "    .dataframe tbody tr th:only-of-type {\n",
       "        vertical-align: middle;\n",
       "    }\n",
       "\n",
       "    .dataframe tbody tr th {\n",
       "        vertical-align: top;\n",
       "    }\n",
       "\n",
       "    .dataframe thead th {\n",
       "        text-align: right;\n",
       "    }\n",
       "</style>\n",
       "<table border=\"1\" class=\"dataframe\">\n",
       "  <thead>\n",
       "    <tr style=\"text-align: right;\">\n",
       "      <th></th>\n",
       "      <th>header</th>\n",
       "      <th>year</th>\n",
       "    </tr>\n",
       "  </thead>\n",
       "  <tbody>\n",
       "    <tr>\n",
       "      <th>0</th>\n",
       "      <td>1.7.2014 EN Official Journal of the European U...</td>\n",
       "      <td>2014</td>\n",
       "    </tr>\n",
       "    <tr>\n",
       "      <th>1</th>\n",
       "      <td>REGULATION (EEC) No 2481/75 OF THE COUNCIL of ...</td>\n",
       "      <td>1975</td>\n",
       "    </tr>\n",
       "    <tr>\n",
       "      <th>2</th>\n",
       "      <td>7.1.2010 EN Official Journal of the European U...</td>\n",
       "      <td>2010</td>\n",
       "    </tr>\n",
       "  </tbody>\n",
       "</table>\n",
       "</div>\n",
       "    <div class=\"colab-df-buttons\">\n",
       "\n",
       "  <div class=\"colab-df-container\">\n",
       "    <button class=\"colab-df-convert\" onclick=\"convertToInteractive('df-5cae9411-95cf-446a-ae7b-d7f1cd046dba')\"\n",
       "            title=\"Convert this dataframe to an interactive table.\"\n",
       "            style=\"display:none;\">\n",
       "\n",
       "  <svg xmlns=\"http://www.w3.org/2000/svg\" height=\"24px\" viewBox=\"0 -960 960 960\">\n",
       "    <path d=\"M120-120v-720h720v720H120Zm60-500h600v-160H180v160Zm220 220h160v-160H400v160Zm0 220h160v-160H400v160ZM180-400h160v-160H180v160Zm440 0h160v-160H620v160ZM180-180h160v-160H180v160Zm440 0h160v-160H620v160Z\"/>\n",
       "  </svg>\n",
       "    </button>\n",
       "\n",
       "  <style>\n",
       "    .colab-df-container {\n",
       "      display:flex;\n",
       "      gap: 12px;\n",
       "    }\n",
       "\n",
       "    .colab-df-convert {\n",
       "      background-color: #E8F0FE;\n",
       "      border: none;\n",
       "      border-radius: 50%;\n",
       "      cursor: pointer;\n",
       "      display: none;\n",
       "      fill: #1967D2;\n",
       "      height: 32px;\n",
       "      padding: 0 0 0 0;\n",
       "      width: 32px;\n",
       "    }\n",
       "\n",
       "    .colab-df-convert:hover {\n",
       "      background-color: #E2EBFA;\n",
       "      box-shadow: 0px 1px 2px rgba(60, 64, 67, 0.3), 0px 1px 3px 1px rgba(60, 64, 67, 0.15);\n",
       "      fill: #174EA6;\n",
       "    }\n",
       "\n",
       "    .colab-df-buttons div {\n",
       "      margin-bottom: 4px;\n",
       "    }\n",
       "\n",
       "    [theme=dark] .colab-df-convert {\n",
       "      background-color: #3B4455;\n",
       "      fill: #D2E3FC;\n",
       "    }\n",
       "\n",
       "    [theme=dark] .colab-df-convert:hover {\n",
       "      background-color: #434B5C;\n",
       "      box-shadow: 0px 1px 3px 1px rgba(0, 0, 0, 0.15);\n",
       "      filter: drop-shadow(0px 1px 2px rgba(0, 0, 0, 0.3));\n",
       "      fill: #FFFFFF;\n",
       "    }\n",
       "  </style>\n",
       "\n",
       "    <script>\n",
       "      const buttonEl =\n",
       "        document.querySelector('#df-5cae9411-95cf-446a-ae7b-d7f1cd046dba button.colab-df-convert');\n",
       "      buttonEl.style.display =\n",
       "        google.colab.kernel.accessAllowed ? 'block' : 'none';\n",
       "\n",
       "      async function convertToInteractive(key) {\n",
       "        const element = document.querySelector('#df-5cae9411-95cf-446a-ae7b-d7f1cd046dba');\n",
       "        const dataTable =\n",
       "          await google.colab.kernel.invokeFunction('convertToInteractive',\n",
       "                                                    [key], {});\n",
       "        if (!dataTable) return;\n",
       "\n",
       "        const docLinkHtml = 'Like what you see? Visit the ' +\n",
       "          '<a target=\"_blank\" href=https://colab.research.google.com/notebooks/data_table.ipynb>data table notebook</a>'\n",
       "          + ' to learn more about interactive tables.';\n",
       "        element.innerHTML = '';\n",
       "        dataTable['output_type'] = 'display_data';\n",
       "        await google.colab.output.renderOutput(dataTable, element);\n",
       "        const docLink = document.createElement('div');\n",
       "        docLink.innerHTML = docLinkHtml;\n",
       "        element.appendChild(docLink);\n",
       "      }\n",
       "    </script>\n",
       "  </div>\n",
       "\n",
       "\n",
       "    <div id=\"df-92a18799-e277-4842-89b4-c0a24ae036bb\">\n",
       "      <button class=\"colab-df-quickchart\" onclick=\"quickchart('df-92a18799-e277-4842-89b4-c0a24ae036bb')\"\n",
       "                title=\"Suggest charts\"\n",
       "                style=\"display:none;\">\n",
       "\n",
       "<svg xmlns=\"http://www.w3.org/2000/svg\" height=\"24px\"viewBox=\"0 0 24 24\"\n",
       "     width=\"24px\">\n",
       "    <g>\n",
       "        <path d=\"M19 3H5c-1.1 0-2 .9-2 2v14c0 1.1.9 2 2 2h14c1.1 0 2-.9 2-2V5c0-1.1-.9-2-2-2zM9 17H7v-7h2v7zm4 0h-2V7h2v10zm4 0h-2v-4h2v4z\"/>\n",
       "    </g>\n",
       "</svg>\n",
       "      </button>\n",
       "\n",
       "<style>\n",
       "  .colab-df-quickchart {\n",
       "      --bg-color: #E8F0FE;\n",
       "      --fill-color: #1967D2;\n",
       "      --hover-bg-color: #E2EBFA;\n",
       "      --hover-fill-color: #174EA6;\n",
       "      --disabled-fill-color: #AAA;\n",
       "      --disabled-bg-color: #DDD;\n",
       "  }\n",
       "\n",
       "  [theme=dark] .colab-df-quickchart {\n",
       "      --bg-color: #3B4455;\n",
       "      --fill-color: #D2E3FC;\n",
       "      --hover-bg-color: #434B5C;\n",
       "      --hover-fill-color: #FFFFFF;\n",
       "      --disabled-bg-color: #3B4455;\n",
       "      --disabled-fill-color: #666;\n",
       "  }\n",
       "\n",
       "  .colab-df-quickchart {\n",
       "    background-color: var(--bg-color);\n",
       "    border: none;\n",
       "    border-radius: 50%;\n",
       "    cursor: pointer;\n",
       "    display: none;\n",
       "    fill: var(--fill-color);\n",
       "    height: 32px;\n",
       "    padding: 0;\n",
       "    width: 32px;\n",
       "  }\n",
       "\n",
       "  .colab-df-quickchart:hover {\n",
       "    background-color: var(--hover-bg-color);\n",
       "    box-shadow: 0 1px 2px rgba(60, 64, 67, 0.3), 0 1px 3px 1px rgba(60, 64, 67, 0.15);\n",
       "    fill: var(--button-hover-fill-color);\n",
       "  }\n",
       "\n",
       "  .colab-df-quickchart-complete:disabled,\n",
       "  .colab-df-quickchart-complete:disabled:hover {\n",
       "    background-color: var(--disabled-bg-color);\n",
       "    fill: var(--disabled-fill-color);\n",
       "    box-shadow: none;\n",
       "  }\n",
       "\n",
       "  .colab-df-spinner {\n",
       "    border: 2px solid var(--fill-color);\n",
       "    border-color: transparent;\n",
       "    border-bottom-color: var(--fill-color);\n",
       "    animation:\n",
       "      spin 1s steps(1) infinite;\n",
       "  }\n",
       "\n",
       "  @keyframes spin {\n",
       "    0% {\n",
       "      border-color: transparent;\n",
       "      border-bottom-color: var(--fill-color);\n",
       "      border-left-color: var(--fill-color);\n",
       "    }\n",
       "    20% {\n",
       "      border-color: transparent;\n",
       "      border-left-color: var(--fill-color);\n",
       "      border-top-color: var(--fill-color);\n",
       "    }\n",
       "    30% {\n",
       "      border-color: transparent;\n",
       "      border-left-color: var(--fill-color);\n",
       "      border-top-color: var(--fill-color);\n",
       "      border-right-color: var(--fill-color);\n",
       "    }\n",
       "    40% {\n",
       "      border-color: transparent;\n",
       "      border-right-color: var(--fill-color);\n",
       "      border-top-color: var(--fill-color);\n",
       "    }\n",
       "    60% {\n",
       "      border-color: transparent;\n",
       "      border-right-color: var(--fill-color);\n",
       "    }\n",
       "    80% {\n",
       "      border-color: transparent;\n",
       "      border-right-color: var(--fill-color);\n",
       "      border-bottom-color: var(--fill-color);\n",
       "    }\n",
       "    90% {\n",
       "      border-color: transparent;\n",
       "      border-bottom-color: var(--fill-color);\n",
       "    }\n",
       "  }\n",
       "</style>\n",
       "\n",
       "      <script>\n",
       "        async function quickchart(key) {\n",
       "          const quickchartButtonEl =\n",
       "            document.querySelector('#' + key + ' button');\n",
       "          quickchartButtonEl.disabled = true;  // To prevent multiple clicks.\n",
       "          quickchartButtonEl.classList.add('colab-df-spinner');\n",
       "          try {\n",
       "            const charts = await google.colab.kernel.invokeFunction(\n",
       "                'suggestCharts', [key], {});\n",
       "          } catch (error) {\n",
       "            console.error('Error during call to suggestCharts:', error);\n",
       "          }\n",
       "          quickchartButtonEl.classList.remove('colab-df-spinner');\n",
       "          quickchartButtonEl.classList.add('colab-df-quickchart-complete');\n",
       "        }\n",
       "        (() => {\n",
       "          let quickchartButtonEl =\n",
       "            document.querySelector('#df-92a18799-e277-4842-89b4-c0a24ae036bb button');\n",
       "          quickchartButtonEl.style.display =\n",
       "            google.colab.kernel.accessAllowed ? 'block' : 'none';\n",
       "        })();\n",
       "      </script>\n",
       "    </div>\n",
       "\n",
       "    </div>\n",
       "  </div>\n"
      ],
      "text/plain": [
       "                                              header  year\n",
       "0  1.7.2014 EN Official Journal of the European U...  2014\n",
       "1  REGULATION (EEC) No 2481/75 OF THE COUNCIL of ...  1975\n",
       "2  7.1.2010 EN Official Journal of the European U...  2010"
      ]
     },
     "execution_count": 27,
     "metadata": {},
     "output_type": "execute_result"
    }
   ],
   "source": [
    "# Extract a 4-digit year (19xx or 20xx) from the header and store as nullable Int64\n",
    "df[\"year\"] = df[\"header\"].str.extract(r\"\\b((?:19|20)\\d{2})\\b\").astype(\"float\").astype(\"Int64\")\n",
    "df[[\"header\",\"year\"]].head(3)"
   ]
  },
  {
   "cell_type": "markdown",
   "id": "1537ec40",
   "metadata": {
    "id": "1537ec40"
   },
   "source": [
    "### 8.14 Derive `n_concepts` (count of EUROVOC labels)"
   ]
  },
  {
   "cell_type": "code",
   "execution_count": 28,
   "id": "e5f02475",
   "metadata": {},
   "outputs": [
    {
     "data": {
      "text/html": [
       "<div>\n",
       "<style scoped>\n",
       "    .dataframe tbody tr th:only-of-type {\n",
       "        vertical-align: middle;\n",
       "    }\n",
       "\n",
       "    .dataframe tbody tr th {\n",
       "        vertical-align: top;\n",
       "    }\n",
       "\n",
       "    .dataframe thead th {\n",
       "        text-align: right;\n",
       "    }\n",
       "</style>\n",
       "<table border=\"1\" class=\"dataframe\">\n",
       "  <thead>\n",
       "    <tr style=\"text-align: right;\">\n",
       "      <th></th>\n",
       "      <th>n_concepts</th>\n",
       "    </tr>\n",
       "  </thead>\n",
       "  <tbody>\n",
       "    <tr>\n",
       "      <th>count</th>\n",
       "      <td>45000.0</td>\n",
       "    </tr>\n",
       "    <tr>\n",
       "      <th>mean</th>\n",
       "      <td>1.0</td>\n",
       "    </tr>\n",
       "    <tr>\n",
       "      <th>std</th>\n",
       "      <td>0.0</td>\n",
       "    </tr>\n",
       "    <tr>\n",
       "      <th>min</th>\n",
       "      <td>1.0</td>\n",
       "    </tr>\n",
       "    <tr>\n",
       "      <th>25%</th>\n",
       "      <td>1.0</td>\n",
       "    </tr>\n",
       "    <tr>\n",
       "      <th>50%</th>\n",
       "      <td>1.0</td>\n",
       "    </tr>\n",
       "    <tr>\n",
       "      <th>75%</th>\n",
       "      <td>1.0</td>\n",
       "    </tr>\n",
       "    <tr>\n",
       "      <th>max</th>\n",
       "      <td>1.0</td>\n",
       "    </tr>\n",
       "  </tbody>\n",
       "</table>\n",
       "</div><br><label><b>dtype:</b> float64</label>"
      ],
      "text/plain": [
       "count    45000.0\n",
       "mean         1.0\n",
       "std          0.0\n",
       "min          1.0\n",
       "25%          1.0\n",
       "50%          1.0\n",
       "75%          1.0\n",
       "max          1.0\n",
       "Name: n_concepts, dtype: float64"
      ]
     },
     "execution_count": 28,
     "metadata": {},
     "output_type": "execute_result"
    }
   ],
   "source": [
    "# Count the number of labels attached to each document\n",
    "df[\"n_concepts\"] = df[\"eurovoc_concepts\"].apply(len)\n",
    "df[\"n_concepts\"].describe()"
   ]
  },
  {
   "cell_type": "markdown",
   "id": "32a3a8f5",
   "metadata": {
    "id": "32a3a8f5"
   },
   "source": [
    "### 8.15 Derive `text_len` (word count in `text`)"
   ]
  },
  {
   "cell_type": "code",
   "execution_count": 29,
   "id": "eb394a41",
   "metadata": {},
   "outputs": [
    {
     "data": {
      "text/html": [
       "<div>\n",
       "<style scoped>\n",
       "    .dataframe tbody tr th:only-of-type {\n",
       "        vertical-align: middle;\n",
       "    }\n",
       "\n",
       "    .dataframe tbody tr th {\n",
       "        vertical-align: top;\n",
       "    }\n",
       "\n",
       "    .dataframe thead th {\n",
       "        text-align: right;\n",
       "    }\n",
       "</style>\n",
       "<table border=\"1\" class=\"dataframe\">\n",
       "  <thead>\n",
       "    <tr style=\"text-align: right;\">\n",
       "      <th></th>\n",
       "      <th>text_len</th>\n",
       "    </tr>\n",
       "  </thead>\n",
       "  <tbody>\n",
       "    <tr>\n",
       "      <th>count</th>\n",
       "      <td>45000.000000</td>\n",
       "    </tr>\n",
       "    <tr>\n",
       "      <th>mean</th>\n",
       "      <td>351.191511</td>\n",
       "    </tr>\n",
       "    <tr>\n",
       "      <th>std</th>\n",
       "      <td>264.932162</td>\n",
       "    </tr>\n",
       "    <tr>\n",
       "      <th>min</th>\n",
       "      <td>15.000000</td>\n",
       "    </tr>\n",
       "    <tr>\n",
       "      <th>25%</th>\n",
       "      <td>202.000000</td>\n",
       "    </tr>\n",
       "    <tr>\n",
       "      <th>50%</th>\n",
       "      <td>273.000000</td>\n",
       "    </tr>\n",
       "    <tr>\n",
       "      <th>75%</th>\n",
       "      <td>399.000000</td>\n",
       "    </tr>\n",
       "    <tr>\n",
       "      <th>max</th>\n",
       "      <td>3236.000000</td>\n",
       "    </tr>\n",
       "  </tbody>\n",
       "</table>\n",
       "</div><br><label><b>dtype:</b> float64</label>"
      ],
      "text/plain": [
       "count    45000.000000\n",
       "mean       351.191511\n",
       "std        264.932162\n",
       "min         15.000000\n",
       "25%        202.000000\n",
       "50%        273.000000\n",
       "75%        399.000000\n",
       "max       3236.000000\n",
       "Name: text_len, dtype: float64"
      ]
     },
     "execution_count": 29,
     "metadata": {},
     "output_type": "execute_result"
    }
   ],
   "source": [
    "# Simple word count per document (split on whitespace)\n",
    "df[\"text_len\"] = df[\"text\"].str.split().apply(len)\n",
    "df[\"text_len\"].describe()"
   ]
  },
  {
   "cell_type": "markdown",
   "id": "76c029a0",
   "metadata": {
    "id": "76c029a0"
   },
   "source": [
    "### 8.16 Drop rows with empty `text` (safety for modeling)"
   ]
  },
  {
   "cell_type": "code",
   "execution_count": 30,
   "id": "0dde0934",
   "metadata": {},
   "outputs": [
    {
     "name": "stdout",
     "output_type": "stream",
     "text": [
      "Dropped empty-text rows: 0 | Remaining: 45000\n"
     ]
    }
   ],
   "source": [
    "# Remove documents that ended up empty after normalization\n",
    "before = len(df)\n",
    "df = df[df[\"text_len\"] > 0].reset_index(drop=True)\n",
    "print(\"Dropped empty-text rows:\", before - len(df), \"| Remaining:\", len(df))"
   ]
  },
  {
   "cell_type": "markdown",
   "id": "6da65fa7",
   "metadata": {
    "id": "6da65fa7"
   },
   "source": [
    "### 8.17 Final sanity checks"
   ]
  },
  {
   "cell_type": "code",
   "execution_count": 31,
   "id": "e13f545f",
   "metadata": {},
   "outputs": [
    {
     "name": "stdout",
     "output_type": "stream",
     "text": [
      "Sanity checks passed ✓\n"
     ]
    }
   ],
   "source": [
    "# Quick checks to ensure key expectations hold\n",
    "assert \"document_type\" in df.columns\n",
    "assert df[\"text_len\"].min() >= 1\n",
    "print(\"Sanity checks passed ✓\")"
   ]
  },
  {
   "cell_type": "markdown",
   "id": "700c54fe",
   "metadata": {
    "id": "700c54fe"
   },
   "source": [
    "### 8.18 Save **train_cleaned.csv**"
   ]
  },
  {
   "cell_type": "code",
   "execution_count": 32,
   "id": "31be6f1b",
   "metadata": {},
   "outputs": [
    {
     "name": "stdout",
     "output_type": "stream",
     "text": [
      "Saved: /content/data/train_cleaned.csv | rows = 45000\n"
     ]
    }
   ],
   "source": [
    "# Save the cleaned training split as CSV so it's easy to reuse/inspect\n",
    "train_csv = BASE_DIR / \"train_cleaned.csv\"\n",
    "df.to_csv(train_csv, index=False)\n",
    "print(\"Saved:\", train_csv, \"| rows =\", len(df))"
   ]
  },
  {
   "cell_type": "markdown",
   "id": "ba3629b4",
   "metadata": {
    "id": "ba3629b4"
   },
   "source": [
    "## Step 9 — CLEAN **VALIDATION**"
   ]
  },
  {
   "cell_type": "markdown",
   "id": "e014ec2b",
   "metadata": {
    "id": "e014ec2b"
   },
   "source": [
    "### 9.1 Load raw validation into `df_v`"
   ]
  },
  {
   "cell_type": "code",
   "execution_count": 33,
   "id": "a902103a",
   "metadata": {},
   "outputs": [
    {
     "data": {
      "text/plain": [
       "6000"
      ]
     },
     "execution_count": 33,
     "metadata": {},
     "output_type": "execute_result"
    }
   ],
   "source": [
    "df_v = pd.read_parquet(BASE_DIR / \"validation.parquet\").copy()\n",
    "len(df_v)"
   ]
  },
  {
   "cell_type": "markdown",
   "id": "10aac1fa",
   "metadata": {
    "id": "10aac1fa"
   },
   "source": [
    "### 9.2 Ensure required columns"
   ]
  },
  {
   "cell_type": "code",
   "execution_count": 34,
   "id": "b25e104f",
   "metadata": {},
   "outputs": [
    {
     "data": {
      "text/plain": [
       "['celex_id',\n",
       " 'document_type',\n",
       " 'title',\n",
       " 'header',\n",
       " 'recitals',\n",
       " 'main_body',\n",
       " 'eurovoc_concepts',\n",
       " 'text',\n",
       " 'uid']"
      ]
     },
     "execution_count": 34,
     "metadata": {},
     "output_type": "execute_result"
    }
   ],
   "source": [
    "for c in [\"celex_id\",\"uid\",\"document_type\",\"title\",\"header\",\"recitals\",\"text\",\"main_body\",\"eurovoc_concepts\"]:\n",
    "    if c not in df_v.columns:\n",
    "        df_v[c] = None\n",
    "df_v.columns.tolist()[:12]"
   ]
  },
  {
   "cell_type": "markdown",
   "id": "ba173d51",
   "metadata": {
    "id": "ba173d51"
   },
   "source": [
    "### 9.3 Normalize `title` / `header` / `recitals` / `text`"
   ]
  },
  {
   "cell_type": "code",
   "execution_count": 35,
   "id": "6d809485",
   "metadata": {},
   "outputs": [
    {
     "data": {
      "application/vnd.google.colaboratory.intrinsic+json": {
       "summary": "{\n  \"name\": \"df_v[[\\\"title\\\",\\\"header\\\",\\\"text\\\"]]\",\n  \"rows\": 3,\n  \"fields\": [\n    {\n      \"column\": \"title\",\n      \"properties\": {\n        \"dtype\": \"string\",\n        \"num_unique_values\": 3,\n        \"samples\": [\n          \"Council Regulation (EC) No 1400/1999 of 24 June 1999 fixing the target price for milk and the intervention prices for butter and skimmed-milk powder for the 1999/2000 milk marketing year\",\n          \"Commission Implementing Regulation (EU) No 381/2011 of 18 April 2011 derogating from Regulation (EC) No 967/2006 as regards the deadlines for communicating sugar quantities carried forward from marketing year 2010/11\",\n          \"Council Joint Action 2007/732/CFSP of 13 November 2007 amending Joint Action 2007/106/CFSP extending the mandate of the Special Representative of the European Union for Afghanistan\"\n        ],\n        \"semantic_type\": \"\",\n        \"description\": \"\"\n      }\n    },\n    {\n      \"column\": \"header\",\n      \"properties\": {\n        \"dtype\": \"string\",\n        \"num_unique_values\": 3,\n        \"samples\": [\n          \"COUNCIL REGULATION (EC) No 1400/1999 of 24 June 1999 fixing the target price for milk and the intervention prices for butter and skimmed-milk powder for the 1999/2000 milk marketing year THE COUNCIL OF THE EUROPEAN UNION\",\n          \"19.4.2011 EN Official Journal of the European Union L 103/5 COMMISSION IMPLEMENTING REGULATION (EU) No 381/2011 of 18 April 2011 derogating from Regulation (EC) No 967/2006 as regards the deadlines for communicating sugar quantities carried forward from marketing year 2010/11 THE EUROPEAN COMMISSION\",\n          \"14.11.2007 EN Official Journal of the European Union L 295/30 COUNCIL JOINT ACTION 2007/732/CFSP of 13 November 2007 amending Joint Action 2007/106/CFSP extending the mandate of the Special Representative of the European Union for Afghanistan THE COUNCIL OF THE EUROPEAN UNION\"\n        ],\n        \"semantic_type\": \"\",\n        \"description\": \"\"\n      }\n    },\n    {\n      \"column\": \"text\",\n      \"properties\": {\n        \"dtype\": \"string\",\n        \"num_unique_values\": 3,\n        \"samples\": [\n          \"Council Regulation (EC) No 1400/1999 of 24 June 1999 fixing the target price for milk and the intervention prices for butter and skimmed-milk powder for the 1999/2000 milk marketing year , Having regard to the Treaty establishing the European Community, Having regard to Council Regulation (EEC) No 804/68 of 27 June 1968 on the common organisation of the market in milk and milk products(1), and in particular Articles 3(4) and 5 thereof, Having regard to the proposal from the Commission(2), Having regard to the opinion of the European Parliament(3), Having regard to the opinion of the Economic and Social Committee(4), Whereas: (1) When fixing the common agricultural prices each year, account should be taken of the objectives of the common agricultural policy; whereas the objectives of the common agricultural policy are in particular to secure a fair standard of living for the agricultural community and to ensure that supplies are available and that they reach the consumers at reasonable prices; (2) The target price for milk should bear a balanced relationship to the prices for other agricultural products and in particular to the prices for beef and veal, and be consistent with the desired general pattern of cattle farming; whereas it is also necessary, in fixing that price, to take account of the Community's efforts to establish a long term balance between supply and demand on the milk market, allowing for external trade in milk and milk products; (3) The intervention prices for butter and for skimmed-milk powder are intended to contribute to the achievement of the target price for milk; whereas it is necessary to determine price levels in the light of the overall supply and demand situation on the Community market in milk and the opportunities for disposal of butter and skimmed-milk powder on the Community and world markets,\",\n          \"Commission Implementing Regulation (EU) No 381/2011 of 18 April 2011 derogating from Regulation (EC) No 967/2006 as regards the deadlines for communicating sugar quantities carried forward from marketing year 2010/11 , Having regard to the Treaty on the Functioning of the European Union, Having regard to Council Regulation (EC) No 1234/2007 of 22 October 2007 establishing a common organisation of agricultural markets and on specific provisions for certain agricultural products (Single CMO Regulation) (1) and in particular Article 85, in conjunction with Article 4 thereof, Whereas: (1) Article 17 of Commission Regulation (EC) No 967/2006 of 29 June 2006 laying down detailed rules for the application of Council Regulation (EC) No 318/2006 as regards sugar production in excess of the quota (2), lays down deadlines within which Member States have to communicate to the Commission the quantities of sugar carried forward to the next marketing year. (2) By way of derogation from Article 63(2)(a) of Regulation (EC) No 1234/2007, Article 1 of Commission Regulation (EU) No 848/2010 (3) extended, for the marketing year 2010/2011, the time-limits within which Member States determine the deadline within which operators have to communicate to Member States their decision to carry forward surplus sugar production. (3) Consequently, deadlines within which Member States have to communicate to the Commission the quantities to be carried forward pursuant to Article 17 of Regulation (EC) No 967/2006 should shift accordingly. (4) It is therefore necessary to derogate, for marketing year 2010/2011, from the deadlines fixed in points (a) and (b) of Article 17 of Regulation (EC) No 967/2006. (5) The measures provided for in this Regulation are in accordance with the opinion of the Management Committee for the Common Organisation of Agricultural Markets,\",\n          \"Council Joint Action 2007/732/CFSP of 13 November 2007 amending Joint Action 2007/106/CFSP extending the mandate of the Special Representative of the European Union for Afghanistan , Having regard to the Treaty on European Union, and in particular Articles 14, 18(5) and 23(2) thereof, Whereas: (1) On 15 February 2007, the Council adopted Joint Action 2007/106/CFSP extending the mandate of the Special Representative of the European Union for Afghanistan (1). (2) On 30 May 2007, the Council adopted Joint Action 2007/369/CFSP on establishment of the European Union Police Mission in Afghanistan (EUPOL AFGHANISTAN) (2) for a period of three years. (3) On 13 November 2007, the Council adopted Joint Action 2007/733/CFSP (3) amending Joint Action 2007/369/CFSP to reflect the new command and control structure for EU civilian crisis management operations as approved by the Council on 18 June 2007. (4) The mandate of the Special Representative of the European Union for Afghanistan should be amended to reflect his role in relation to EUPOL AFGHANISTAN in line with the new command and control structure for EU civilian crisis management operations,\"\n        ],\n        \"semantic_type\": \"\",\n        \"description\": \"\"\n      }\n    }\n  ]\n}",
       "type": "dataframe"
      },
      "text/html": [
       "\n",
       "  <div id=\"df-e78c0bf1-c897-49e5-adbb-e9b3f30592d7\" class=\"colab-df-container\">\n",
       "    <div>\n",
       "<style scoped>\n",
       "    .dataframe tbody tr th:only-of-type {\n",
       "        vertical-align: middle;\n",
       "    }\n",
       "\n",
       "    .dataframe tbody tr th {\n",
       "        vertical-align: top;\n",
       "    }\n",
       "\n",
       "    .dataframe thead th {\n",
       "        text-align: right;\n",
       "    }\n",
       "</style>\n",
       "<table border=\"1\" class=\"dataframe\">\n",
       "  <thead>\n",
       "    <tr style=\"text-align: right;\">\n",
       "      <th></th>\n",
       "      <th>title</th>\n",
       "      <th>header</th>\n",
       "      <th>text</th>\n",
       "    </tr>\n",
       "  </thead>\n",
       "  <tbody>\n",
       "    <tr>\n",
       "      <th>0</th>\n",
       "      <td>Council Regulation (EC) No 1400/1999 of 24 Jun...</td>\n",
       "      <td>COUNCIL REGULATION (EC) No 1400/1999 of 24 Jun...</td>\n",
       "      <td>Council Regulation (EC) No 1400/1999 of 24 Jun...</td>\n",
       "    </tr>\n",
       "    <tr>\n",
       "      <th>1</th>\n",
       "      <td>Commission Implementing Regulation (EU) No 381...</td>\n",
       "      <td>19.4.2011 EN Official Journal of the European ...</td>\n",
       "      <td>Commission Implementing Regulation (EU) No 381...</td>\n",
       "    </tr>\n",
       "    <tr>\n",
       "      <th>2</th>\n",
       "      <td>Council Joint Action 2007/732/CFSP of 13 Novem...</td>\n",
       "      <td>14.11.2007 EN Official Journal of the European...</td>\n",
       "      <td>Council Joint Action 2007/732/CFSP of 13 Novem...</td>\n",
       "    </tr>\n",
       "  </tbody>\n",
       "</table>\n",
       "</div>\n",
       "    <div class=\"colab-df-buttons\">\n",
       "\n",
       "  <div class=\"colab-df-container\">\n",
       "    <button class=\"colab-df-convert\" onclick=\"convertToInteractive('df-e78c0bf1-c897-49e5-adbb-e9b3f30592d7')\"\n",
       "            title=\"Convert this dataframe to an interactive table.\"\n",
       "            style=\"display:none;\">\n",
       "\n",
       "  <svg xmlns=\"http://www.w3.org/2000/svg\" height=\"24px\" viewBox=\"0 -960 960 960\">\n",
       "    <path d=\"M120-120v-720h720v720H120Zm60-500h600v-160H180v160Zm220 220h160v-160H400v160Zm0 220h160v-160H400v160ZM180-400h160v-160H180v160Zm440 0h160v-160H620v160ZM180-180h160v-160H180v160Zm440 0h160v-160H620v160Z\"/>\n",
       "  </svg>\n",
       "    </button>\n",
       "\n",
       "  <style>\n",
       "    .colab-df-container {\n",
       "      display:flex;\n",
       "      gap: 12px;\n",
       "    }\n",
       "\n",
       "    .colab-df-convert {\n",
       "      background-color: #E8F0FE;\n",
       "      border: none;\n",
       "      border-radius: 50%;\n",
       "      cursor: pointer;\n",
       "      display: none;\n",
       "      fill: #1967D2;\n",
       "      height: 32px;\n",
       "      padding: 0 0 0 0;\n",
       "      width: 32px;\n",
       "    }\n",
       "\n",
       "    .colab-df-convert:hover {\n",
       "      background-color: #E2EBFA;\n",
       "      box-shadow: 0px 1px 2px rgba(60, 64, 67, 0.3), 0px 1px 3px 1px rgba(60, 64, 67, 0.15);\n",
       "      fill: #174EA6;\n",
       "    }\n",
       "\n",
       "    .colab-df-buttons div {\n",
       "      margin-bottom: 4px;\n",
       "    }\n",
       "\n",
       "    [theme=dark] .colab-df-convert {\n",
       "      background-color: #3B4455;\n",
       "      fill: #D2E3FC;\n",
       "    }\n",
       "\n",
       "    [theme=dark] .colab-df-convert:hover {\n",
       "      background-color: #434B5C;\n",
       "      box-shadow: 0px 1px 3px 1px rgba(0, 0, 0, 0.15);\n",
       "      filter: drop-shadow(0px 1px 2px rgba(0, 0, 0, 0.3));\n",
       "      fill: #FFFFFF;\n",
       "    }\n",
       "  </style>\n",
       "\n",
       "    <script>\n",
       "      const buttonEl =\n",
       "        document.querySelector('#df-e78c0bf1-c897-49e5-adbb-e9b3f30592d7 button.colab-df-convert');\n",
       "      buttonEl.style.display =\n",
       "        google.colab.kernel.accessAllowed ? 'block' : 'none';\n",
       "\n",
       "      async function convertToInteractive(key) {\n",
       "        const element = document.querySelector('#df-e78c0bf1-c897-49e5-adbb-e9b3f30592d7');\n",
       "        const dataTable =\n",
       "          await google.colab.kernel.invokeFunction('convertToInteractive',\n",
       "                                                    [key], {});\n",
       "        if (!dataTable) return;\n",
       "\n",
       "        const docLinkHtml = 'Like what you see? Visit the ' +\n",
       "          '<a target=\"_blank\" href=https://colab.research.google.com/notebooks/data_table.ipynb>data table notebook</a>'\n",
       "          + ' to learn more about interactive tables.';\n",
       "        element.innerHTML = '';\n",
       "        dataTable['output_type'] = 'display_data';\n",
       "        await google.colab.output.renderOutput(dataTable, element);\n",
       "        const docLink = document.createElement('div');\n",
       "        docLink.innerHTML = docLinkHtml;\n",
       "        element.appendChild(docLink);\n",
       "      }\n",
       "    </script>\n",
       "  </div>\n",
       "\n",
       "\n",
       "    <div id=\"df-6661e321-dc66-427b-8f18-ee4633fc471f\">\n",
       "      <button class=\"colab-df-quickchart\" onclick=\"quickchart('df-6661e321-dc66-427b-8f18-ee4633fc471f')\"\n",
       "                title=\"Suggest charts\"\n",
       "                style=\"display:none;\">\n",
       "\n",
       "<svg xmlns=\"http://www.w3.org/2000/svg\" height=\"24px\"viewBox=\"0 0 24 24\"\n",
       "     width=\"24px\">\n",
       "    <g>\n",
       "        <path d=\"M19 3H5c-1.1 0-2 .9-2 2v14c0 1.1.9 2 2 2h14c1.1 0 2-.9 2-2V5c0-1.1-.9-2-2-2zM9 17H7v-7h2v7zm4 0h-2V7h2v10zm4 0h-2v-4h2v4z\"/>\n",
       "    </g>\n",
       "</svg>\n",
       "      </button>\n",
       "\n",
       "<style>\n",
       "  .colab-df-quickchart {\n",
       "      --bg-color: #E8F0FE;\n",
       "      --fill-color: #1967D2;\n",
       "      --hover-bg-color: #E2EBFA;\n",
       "      --hover-fill-color: #174EA6;\n",
       "      --disabled-fill-color: #AAA;\n",
       "      --disabled-bg-color: #DDD;\n",
       "  }\n",
       "\n",
       "  [theme=dark] .colab-df-quickchart {\n",
       "      --bg-color: #3B4455;\n",
       "      --fill-color: #D2E3FC;\n",
       "      --hover-bg-color: #434B5C;\n",
       "      --hover-fill-color: #FFFFFF;\n",
       "      --disabled-bg-color: #3B4455;\n",
       "      --disabled-fill-color: #666;\n",
       "  }\n",
       "\n",
       "  .colab-df-quickchart {\n",
       "    background-color: var(--bg-color);\n",
       "    border: none;\n",
       "    border-radius: 50%;\n",
       "    cursor: pointer;\n",
       "    display: none;\n",
       "    fill: var(--fill-color);\n",
       "    height: 32px;\n",
       "    padding: 0;\n",
       "    width: 32px;\n",
       "  }\n",
       "\n",
       "  .colab-df-quickchart:hover {\n",
       "    background-color: var(--hover-bg-color);\n",
       "    box-shadow: 0 1px 2px rgba(60, 64, 67, 0.3), 0 1px 3px 1px rgba(60, 64, 67, 0.15);\n",
       "    fill: var(--button-hover-fill-color);\n",
       "  }\n",
       "\n",
       "  .colab-df-quickchart-complete:disabled,\n",
       "  .colab-df-quickchart-complete:disabled:hover {\n",
       "    background-color: var(--disabled-bg-color);\n",
       "    fill: var(--disabled-fill-color);\n",
       "    box-shadow: none;\n",
       "  }\n",
       "\n",
       "  .colab-df-spinner {\n",
       "    border: 2px solid var(--fill-color);\n",
       "    border-color: transparent;\n",
       "    border-bottom-color: var(--fill-color);\n",
       "    animation:\n",
       "      spin 1s steps(1) infinite;\n",
       "  }\n",
       "\n",
       "  @keyframes spin {\n",
       "    0% {\n",
       "      border-color: transparent;\n",
       "      border-bottom-color: var(--fill-color);\n",
       "      border-left-color: var(--fill-color);\n",
       "    }\n",
       "    20% {\n",
       "      border-color: transparent;\n",
       "      border-left-color: var(--fill-color);\n",
       "      border-top-color: var(--fill-color);\n",
       "    }\n",
       "    30% {\n",
       "      border-color: transparent;\n",
       "      border-left-color: var(--fill-color);\n",
       "      border-top-color: var(--fill-color);\n",
       "      border-right-color: var(--fill-color);\n",
       "    }\n",
       "    40% {\n",
       "      border-color: transparent;\n",
       "      border-right-color: var(--fill-color);\n",
       "      border-top-color: var(--fill-color);\n",
       "    }\n",
       "    60% {\n",
       "      border-color: transparent;\n",
       "      border-right-color: var(--fill-color);\n",
       "    }\n",
       "    80% {\n",
       "      border-color: transparent;\n",
       "      border-right-color: var(--fill-color);\n",
       "      border-bottom-color: var(--fill-color);\n",
       "    }\n",
       "    90% {\n",
       "      border-color: transparent;\n",
       "      border-bottom-color: var(--fill-color);\n",
       "    }\n",
       "  }\n",
       "</style>\n",
       "\n",
       "      <script>\n",
       "        async function quickchart(key) {\n",
       "          const quickchartButtonEl =\n",
       "            document.querySelector('#' + key + ' button');\n",
       "          quickchartButtonEl.disabled = true;  // To prevent multiple clicks.\n",
       "          quickchartButtonEl.classList.add('colab-df-spinner');\n",
       "          try {\n",
       "            const charts = await google.colab.kernel.invokeFunction(\n",
       "                'suggestCharts', [key], {});\n",
       "          } catch (error) {\n",
       "            console.error('Error during call to suggestCharts:', error);\n",
       "          }\n",
       "          quickchartButtonEl.classList.remove('colab-df-spinner');\n",
       "          quickchartButtonEl.classList.add('colab-df-quickchart-complete');\n",
       "        }\n",
       "        (() => {\n",
       "          let quickchartButtonEl =\n",
       "            document.querySelector('#df-6661e321-dc66-427b-8f18-ee4633fc471f button');\n",
       "          quickchartButtonEl.style.display =\n",
       "            google.colab.kernel.accessAllowed ? 'block' : 'none';\n",
       "        })();\n",
       "      </script>\n",
       "    </div>\n",
       "\n",
       "    </div>\n",
       "  </div>\n"
      ],
      "text/plain": [
       "                                               title  \\\n",
       "0  Council Regulation (EC) No 1400/1999 of 24 Jun...   \n",
       "1  Commission Implementing Regulation (EU) No 381...   \n",
       "2  Council Joint Action 2007/732/CFSP of 13 Novem...   \n",
       "\n",
       "                                              header  \\\n",
       "0  COUNCIL REGULATION (EC) No 1400/1999 of 24 Jun...   \n",
       "1  19.4.2011 EN Official Journal of the European ...   \n",
       "2  14.11.2007 EN Official Journal of the European...   \n",
       "\n",
       "                                                text  \n",
       "0  Council Regulation (EC) No 1400/1999 of 24 Jun...  \n",
       "1  Commission Implementing Regulation (EU) No 381...  \n",
       "2  Council Joint Action 2007/732/CFSP of 13 Novem...  "
      ]
     },
     "execution_count": 35,
     "metadata": {},
     "output_type": "execute_result"
    }
   ],
   "source": [
    "df_v[\"title\"]    = df_v[\"title\"].apply(normalize)\n",
    "df_v[\"header\"]   = df_v[\"header\"].apply(normalize)\n",
    "df_v[\"recitals\"] = df_v[\"recitals\"].apply(normalize)\n",
    "df_v[\"text\"]     = df_v[\"text\"].apply(normalize)\n",
    "df_v[[\"title\",\"header\",\"text\"]].head(3)"
   ]
  },
  {
   "cell_type": "markdown",
   "id": "7ee31059",
   "metadata": {
    "id": "7ee31059"
   },
   "source": [
    "### 9.4 Ensure list fields (`main_body`, `eurovoc_concepts`)"
   ]
  },
  {
   "cell_type": "code",
   "execution_count": 36,
   "id": "2eea3812",
   "metadata": {},
   "outputs": [
    {
     "data": {
      "application/vnd.google.colaboratory.intrinsic+json": {
       "summary": "{\n  \"name\": \"df_v[[\\\"main_body\\\",\\\"eurovoc_concepts\\\"]]\",\n  \"rows\": 3,\n  \"fields\": [\n    {\n      \"column\": \"main_body\",\n      \"properties\": {\n        \"dtype\": \"object\",\n        \"semantic_type\": \"\",\n        \"description\": \"\"\n      }\n    },\n    {\n      \"column\": \"eurovoc_concepts\",\n      \"properties\": {\n        \"dtype\": \"object\",\n        \"semantic_type\": \"\",\n        \"description\": \"\"\n      }\n    }\n  ]\n}",
       "type": "dataframe"
      },
      "text/html": [
       "\n",
       "  <div id=\"df-e4dbf6b4-d79a-4014-99f6-18bf621d088a\" class=\"colab-df-container\">\n",
       "    <div>\n",
       "<style scoped>\n",
       "    .dataframe tbody tr th:only-of-type {\n",
       "        vertical-align: middle;\n",
       "    }\n",
       "\n",
       "    .dataframe tbody tr th {\n",
       "        vertical-align: top;\n",
       "    }\n",
       "\n",
       "    .dataframe thead th {\n",
       "        text-align: right;\n",
       "    }\n",
       "</style>\n",
       "<table border=\"1\" class=\"dataframe\">\n",
       "  <thead>\n",
       "    <tr style=\"text-align: right;\">\n",
       "      <th></th>\n",
       "      <th>main_body</th>\n",
       "      <th>eurovoc_concepts</th>\n",
       "    </tr>\n",
       "  </thead>\n",
       "  <tbody>\n",
       "    <tr>\n",
       "      <th>0</th>\n",
       "      <td>[['For the 1999/2000 milk marketing year, the ...</td>\n",
       "      <td>[['1565' '2443' '2644' '2676' '4860']]</td>\n",
       "    </tr>\n",
       "    <tr>\n",
       "      <th>1</th>\n",
       "      <td>[['By way of derogation from points (a) and (b...</td>\n",
       "      <td>[['2173' '2733' '2972' '4314']]</td>\n",
       "    </tr>\n",
       "    <tr>\n",
       "      <th>2</th>\n",
       "      <td>[['Joint Action 2007/106/CFSP is hereby amende...</td>\n",
       "      <td>[['261' '3367' '5551' '5788' '5873']]</td>\n",
       "    </tr>\n",
       "  </tbody>\n",
       "</table>\n",
       "</div>\n",
       "    <div class=\"colab-df-buttons\">\n",
       "\n",
       "  <div class=\"colab-df-container\">\n",
       "    <button class=\"colab-df-convert\" onclick=\"convertToInteractive('df-e4dbf6b4-d79a-4014-99f6-18bf621d088a')\"\n",
       "            title=\"Convert this dataframe to an interactive table.\"\n",
       "            style=\"display:none;\">\n",
       "\n",
       "  <svg xmlns=\"http://www.w3.org/2000/svg\" height=\"24px\" viewBox=\"0 -960 960 960\">\n",
       "    <path d=\"M120-120v-720h720v720H120Zm60-500h600v-160H180v160Zm220 220h160v-160H400v160Zm0 220h160v-160H400v160ZM180-400h160v-160H180v160Zm440 0h160v-160H620v160ZM180-180h160v-160H180v160Zm440 0h160v-160H620v160Z\"/>\n",
       "  </svg>\n",
       "    </button>\n",
       "\n",
       "  <style>\n",
       "    .colab-df-container {\n",
       "      display:flex;\n",
       "      gap: 12px;\n",
       "    }\n",
       "\n",
       "    .colab-df-convert {\n",
       "      background-color: #E8F0FE;\n",
       "      border: none;\n",
       "      border-radius: 50%;\n",
       "      cursor: pointer;\n",
       "      display: none;\n",
       "      fill: #1967D2;\n",
       "      height: 32px;\n",
       "      padding: 0 0 0 0;\n",
       "      width: 32px;\n",
       "    }\n",
       "\n",
       "    .colab-df-convert:hover {\n",
       "      background-color: #E2EBFA;\n",
       "      box-shadow: 0px 1px 2px rgba(60, 64, 67, 0.3), 0px 1px 3px 1px rgba(60, 64, 67, 0.15);\n",
       "      fill: #174EA6;\n",
       "    }\n",
       "\n",
       "    .colab-df-buttons div {\n",
       "      margin-bottom: 4px;\n",
       "    }\n",
       "\n",
       "    [theme=dark] .colab-df-convert {\n",
       "      background-color: #3B4455;\n",
       "      fill: #D2E3FC;\n",
       "    }\n",
       "\n",
       "    [theme=dark] .colab-df-convert:hover {\n",
       "      background-color: #434B5C;\n",
       "      box-shadow: 0px 1px 3px 1px rgba(0, 0, 0, 0.15);\n",
       "      filter: drop-shadow(0px 1px 2px rgba(0, 0, 0, 0.3));\n",
       "      fill: #FFFFFF;\n",
       "    }\n",
       "  </style>\n",
       "\n",
       "    <script>\n",
       "      const buttonEl =\n",
       "        document.querySelector('#df-e4dbf6b4-d79a-4014-99f6-18bf621d088a button.colab-df-convert');\n",
       "      buttonEl.style.display =\n",
       "        google.colab.kernel.accessAllowed ? 'block' : 'none';\n",
       "\n",
       "      async function convertToInteractive(key) {\n",
       "        const element = document.querySelector('#df-e4dbf6b4-d79a-4014-99f6-18bf621d088a');\n",
       "        const dataTable =\n",
       "          await google.colab.kernel.invokeFunction('convertToInteractive',\n",
       "                                                    [key], {});\n",
       "        if (!dataTable) return;\n",
       "\n",
       "        const docLinkHtml = 'Like what you see? Visit the ' +\n",
       "          '<a target=\"_blank\" href=https://colab.research.google.com/notebooks/data_table.ipynb>data table notebook</a>'\n",
       "          + ' to learn more about interactive tables.';\n",
       "        element.innerHTML = '';\n",
       "        dataTable['output_type'] = 'display_data';\n",
       "        await google.colab.output.renderOutput(dataTable, element);\n",
       "        const docLink = document.createElement('div');\n",
       "        docLink.innerHTML = docLinkHtml;\n",
       "        element.appendChild(docLink);\n",
       "      }\n",
       "    </script>\n",
       "  </div>\n",
       "\n",
       "\n",
       "    <div id=\"df-92df8e5e-a993-4266-80cf-108f9e5974da\">\n",
       "      <button class=\"colab-df-quickchart\" onclick=\"quickchart('df-92df8e5e-a993-4266-80cf-108f9e5974da')\"\n",
       "                title=\"Suggest charts\"\n",
       "                style=\"display:none;\">\n",
       "\n",
       "<svg xmlns=\"http://www.w3.org/2000/svg\" height=\"24px\"viewBox=\"0 0 24 24\"\n",
       "     width=\"24px\">\n",
       "    <g>\n",
       "        <path d=\"M19 3H5c-1.1 0-2 .9-2 2v14c0 1.1.9 2 2 2h14c1.1 0 2-.9 2-2V5c0-1.1-.9-2-2-2zM9 17H7v-7h2v7zm4 0h-2V7h2v10zm4 0h-2v-4h2v4z\"/>\n",
       "    </g>\n",
       "</svg>\n",
       "      </button>\n",
       "\n",
       "<style>\n",
       "  .colab-df-quickchart {\n",
       "      --bg-color: #E8F0FE;\n",
       "      --fill-color: #1967D2;\n",
       "      --hover-bg-color: #E2EBFA;\n",
       "      --hover-fill-color: #174EA6;\n",
       "      --disabled-fill-color: #AAA;\n",
       "      --disabled-bg-color: #DDD;\n",
       "  }\n",
       "\n",
       "  [theme=dark] .colab-df-quickchart {\n",
       "      --bg-color: #3B4455;\n",
       "      --fill-color: #D2E3FC;\n",
       "      --hover-bg-color: #434B5C;\n",
       "      --hover-fill-color: #FFFFFF;\n",
       "      --disabled-bg-color: #3B4455;\n",
       "      --disabled-fill-color: #666;\n",
       "  }\n",
       "\n",
       "  .colab-df-quickchart {\n",
       "    background-color: var(--bg-color);\n",
       "    border: none;\n",
       "    border-radius: 50%;\n",
       "    cursor: pointer;\n",
       "    display: none;\n",
       "    fill: var(--fill-color);\n",
       "    height: 32px;\n",
       "    padding: 0;\n",
       "    width: 32px;\n",
       "  }\n",
       "\n",
       "  .colab-df-quickchart:hover {\n",
       "    background-color: var(--hover-bg-color);\n",
       "    box-shadow: 0 1px 2px rgba(60, 64, 67, 0.3), 0 1px 3px 1px rgba(60, 64, 67, 0.15);\n",
       "    fill: var(--button-hover-fill-color);\n",
       "  }\n",
       "\n",
       "  .colab-df-quickchart-complete:disabled,\n",
       "  .colab-df-quickchart-complete:disabled:hover {\n",
       "    background-color: var(--disabled-bg-color);\n",
       "    fill: var(--disabled-fill-color);\n",
       "    box-shadow: none;\n",
       "  }\n",
       "\n",
       "  .colab-df-spinner {\n",
       "    border: 2px solid var(--fill-color);\n",
       "    border-color: transparent;\n",
       "    border-bottom-color: var(--fill-color);\n",
       "    animation:\n",
       "      spin 1s steps(1) infinite;\n",
       "  }\n",
       "\n",
       "  @keyframes spin {\n",
       "    0% {\n",
       "      border-color: transparent;\n",
       "      border-bottom-color: var(--fill-color);\n",
       "      border-left-color: var(--fill-color);\n",
       "    }\n",
       "    20% {\n",
       "      border-color: transparent;\n",
       "      border-left-color: var(--fill-color);\n",
       "      border-top-color: var(--fill-color);\n",
       "    }\n",
       "    30% {\n",
       "      border-color: transparent;\n",
       "      border-left-color: var(--fill-color);\n",
       "      border-top-color: var(--fill-color);\n",
       "      border-right-color: var(--fill-color);\n",
       "    }\n",
       "    40% {\n",
       "      border-color: transparent;\n",
       "      border-right-color: var(--fill-color);\n",
       "      border-top-color: var(--fill-color);\n",
       "    }\n",
       "    60% {\n",
       "      border-color: transparent;\n",
       "      border-right-color: var(--fill-color);\n",
       "    }\n",
       "    80% {\n",
       "      border-color: transparent;\n",
       "      border-right-color: var(--fill-color);\n",
       "      border-bottom-color: var(--fill-color);\n",
       "    }\n",
       "    90% {\n",
       "      border-color: transparent;\n",
       "      border-bottom-color: var(--fill-color);\n",
       "    }\n",
       "  }\n",
       "</style>\n",
       "\n",
       "      <script>\n",
       "        async function quickchart(key) {\n",
       "          const quickchartButtonEl =\n",
       "            document.querySelector('#' + key + ' button');\n",
       "          quickchartButtonEl.disabled = true;  // To prevent multiple clicks.\n",
       "          quickchartButtonEl.classList.add('colab-df-spinner');\n",
       "          try {\n",
       "            const charts = await google.colab.kernel.invokeFunction(\n",
       "                'suggestCharts', [key], {});\n",
       "          } catch (error) {\n",
       "            console.error('Error during call to suggestCharts:', error);\n",
       "          }\n",
       "          quickchartButtonEl.classList.remove('colab-df-spinner');\n",
       "          quickchartButtonEl.classList.add('colab-df-quickchart-complete');\n",
       "        }\n",
       "        (() => {\n",
       "          let quickchartButtonEl =\n",
       "            document.querySelector('#df-92df8e5e-a993-4266-80cf-108f9e5974da button');\n",
       "          quickchartButtonEl.style.display =\n",
       "            google.colab.kernel.accessAllowed ? 'block' : 'none';\n",
       "        })();\n",
       "      </script>\n",
       "    </div>\n",
       "\n",
       "    </div>\n",
       "  </div>\n"
      ],
      "text/plain": [
       "                                           main_body  \\\n",
       "0  [['For the 1999/2000 milk marketing year, the ...   \n",
       "1  [['By way of derogation from points (a) and (b...   \n",
       "2  [['Joint Action 2007/106/CFSP is hereby amende...   \n",
       "\n",
       "                         eurovoc_concepts  \n",
       "0  [['1565' '2443' '2644' '2676' '4860']]  \n",
       "1         [['2173' '2733' '2972' '4314']]  \n",
       "2   [['261' '3367' '5551' '5788' '5873']]  "
      ]
     },
     "execution_count": 36,
     "metadata": {},
     "output_type": "execute_result"
    }
   ],
   "source": [
    "df_v[\"main_body\"] = df_v[\"main_body\"].apply(lambda v: [normalize(x) for x in as_list(v) if normalize(x)])\n",
    "df_v[\"eurovoc_concepts\"] = df_v[\"eurovoc_concepts\"].apply(\n",
    "    lambda v: sorted({normalize(x) for x in as_list(v) if normalize(x)})\n",
    ")\n",
    "df_v[[\"main_body\",\"eurovoc_concepts\"]].head(3)"
   ]
  },
  {
   "cell_type": "markdown",
   "id": "accbaff5",
   "metadata": {
    "id": "accbaff5"
   },
   "source": [
    "### 9.5 Standardize `document_type`"
   ]
  },
  {
   "cell_type": "code",
   "execution_count": 37,
   "id": "3f5f9ff3",
   "metadata": {},
   "outputs": [
    {
     "data": {
      "text/html": [
       "<div>\n",
       "<style scoped>\n",
       "    .dataframe tbody tr th:only-of-type {\n",
       "        vertical-align: middle;\n",
       "    }\n",
       "\n",
       "    .dataframe tbody tr th {\n",
       "        vertical-align: top;\n",
       "    }\n",
       "\n",
       "    .dataframe thead th {\n",
       "        text-align: right;\n",
       "    }\n",
       "</style>\n",
       "<table border=\"1\" class=\"dataframe\">\n",
       "  <thead>\n",
       "    <tr style=\"text-align: right;\">\n",
       "      <th></th>\n",
       "      <th>count</th>\n",
       "    </tr>\n",
       "    <tr>\n",
       "      <th>document_type</th>\n",
       "      <th></th>\n",
       "    </tr>\n",
       "  </thead>\n",
       "  <tbody>\n",
       "    <tr>\n",
       "      <th>Regulation</th>\n",
       "      <td>3964</td>\n",
       "    </tr>\n",
       "    <tr>\n",
       "      <th>Decision</th>\n",
       "      <td>1819</td>\n",
       "    </tr>\n",
       "    <tr>\n",
       "      <th>Directive</th>\n",
       "      <td>217</td>\n",
       "    </tr>\n",
       "  </tbody>\n",
       "</table>\n",
       "</div><br><label><b>dtype:</b> int64</label>"
      ],
      "text/plain": [
       "document_type\n",
       "Regulation    3964\n",
       "Decision      1819\n",
       "Directive      217\n",
       "Name: count, dtype: int64"
      ]
     },
     "execution_count": 37,
     "metadata": {},
     "output_type": "execute_result"
    }
   ],
   "source": [
    "df_v[\"document_type\"] = df_v[\"document_type\"].apply(lambda x: x if str(x).strip() in ALLOWED_DOC_TYPES else \"Unknown\")\n",
    "df_v[\"document_type\"].value_counts()"
   ]
  },
  {
   "cell_type": "markdown",
   "id": "73359a15",
   "metadata": {
    "id": "73359a15"
   },
   "source": [
    "### 9.6 Deduplicate using `celex_id` (fallback: `title||header`)"
   ]
  },
  {
   "cell_type": "code",
   "execution_count": 38,
   "id": "fa3b5aec",
   "metadata": {},
   "outputs": [
    {
     "name": "stdout",
     "output_type": "stream",
     "text": [
      "Duplicates removed: 0 | Remaining: 6000\n"
     ]
    }
   ],
   "source": [
    "key_primary  = df_v[\"celex_id\"].astype(str).str.strip()\n",
    "key_fallback  = df_v[\"title\"].str.lower().str.strip() + \"||\" + df_v[\"header\"].str.lower().str.strip()\n",
    "dedupe_key    = key_primary.where(key_primary.astype(bool), key_fallback)\n",
    "before = len(df_v)\n",
    "df_v = df_v.loc[~dedupe_key.duplicated()].reset_index(drop=True)\n",
    "print(\"Duplicates removed:\", before - len(df_v), \"| Remaining:\", len(df_v))"
   ]
  },
  {
   "cell_type": "markdown",
   "id": "aae7a66f",
   "metadata": {
    "id": "aae7a66f"
   },
   "source": [
    "### 9.7 Derive `year`, `n_concepts`, `text_len`"
   ]
  },
  {
   "cell_type": "code",
   "execution_count": 39,
   "id": "253dc959",
   "metadata": {},
   "outputs": [
    {
     "data": {
      "application/vnd.google.colaboratory.intrinsic+json": {
       "summary": "{\n  \"name\": \"df_v[[\\\"year\\\",\\\"n_concepts\\\",\\\"text_len\\\"]]\",\n  \"rows\": 8,\n  \"fields\": [\n    {\n      \"column\": \"year\",\n      \"properties\": {\n        \"dtype\": \"Float64\",\n        \"num_unique_values\": 8,\n        \"samples\": [\n          1999.4563187729243,\n          2001.0,\n          5998.0\n        ],\n        \"semantic_type\": \"\",\n        \"description\": \"\"\n      }\n    },\n    {\n      \"column\": \"n_concepts\",\n      \"properties\": {\n        \"dtype\": \"number\",\n        \"std\": 2121.0173266619017,\n        \"min\": 0.0,\n        \"max\": 6000.0,\n        \"num_unique_values\": 3,\n        \"samples\": [\n          6000.0,\n          1.0,\n          0.0\n        ],\n        \"semantic_type\": \"\",\n        \"description\": \"\"\n      }\n    },\n    {\n      \"column\": \"text_len\",\n      \"properties\": {\n        \"dtype\": \"number\",\n        \"std\": 2070.3089472417714,\n        \"min\": 49.0,\n        \"max\": 6000.0,\n        \"num_unique_values\": 8,\n        \"samples\": [\n          344.0201666666667,\n          268.0,\n          6000.0\n        ],\n        \"semantic_type\": \"\",\n        \"description\": \"\"\n      }\n    }\n  ]\n}",
       "type": "dataframe"
      },
      "text/html": [
       "\n",
       "  <div id=\"df-6de3554f-2ae5-4342-9118-08a93a635b83\" class=\"colab-df-container\">\n",
       "    <div>\n",
       "<style scoped>\n",
       "    .dataframe tbody tr th:only-of-type {\n",
       "        vertical-align: middle;\n",
       "    }\n",
       "\n",
       "    .dataframe tbody tr th {\n",
       "        vertical-align: top;\n",
       "    }\n",
       "\n",
       "    .dataframe thead th {\n",
       "        text-align: right;\n",
       "    }\n",
       "</style>\n",
       "<table border=\"1\" class=\"dataframe\">\n",
       "  <thead>\n",
       "    <tr style=\"text-align: right;\">\n",
       "      <th></th>\n",
       "      <th>year</th>\n",
       "      <th>n_concepts</th>\n",
       "      <th>text_len</th>\n",
       "    </tr>\n",
       "  </thead>\n",
       "  <tbody>\n",
       "    <tr>\n",
       "      <th>count</th>\n",
       "      <td>5998.0</td>\n",
       "      <td>6000.0</td>\n",
       "      <td>6000.000000</td>\n",
       "    </tr>\n",
       "    <tr>\n",
       "      <th>mean</th>\n",
       "      <td>1999.456319</td>\n",
       "      <td>1.0</td>\n",
       "      <td>344.020167</td>\n",
       "    </tr>\n",
       "    <tr>\n",
       "      <th>std</th>\n",
       "      <td>13.660441</td>\n",
       "      <td>0.0</td>\n",
       "      <td>257.362015</td>\n",
       "    </tr>\n",
       "    <tr>\n",
       "      <th>min</th>\n",
       "      <td>1900.0</td>\n",
       "      <td>1.0</td>\n",
       "      <td>49.000000</td>\n",
       "    </tr>\n",
       "    <tr>\n",
       "      <th>25%</th>\n",
       "      <td>1992.0</td>\n",
       "      <td>1.0</td>\n",
       "      <td>200.000000</td>\n",
       "    </tr>\n",
       "    <tr>\n",
       "      <th>50%</th>\n",
       "      <td>2001.0</td>\n",
       "      <td>1.0</td>\n",
       "      <td>268.000000</td>\n",
       "    </tr>\n",
       "    <tr>\n",
       "      <th>75%</th>\n",
       "      <td>2007.0</td>\n",
       "      <td>1.0</td>\n",
       "      <td>395.000000</td>\n",
       "    </tr>\n",
       "    <tr>\n",
       "      <th>max</th>\n",
       "      <td>2098.0</td>\n",
       "      <td>1.0</td>\n",
       "      <td>2431.000000</td>\n",
       "    </tr>\n",
       "  </tbody>\n",
       "</table>\n",
       "</div>\n",
       "    <div class=\"colab-df-buttons\">\n",
       "\n",
       "  <div class=\"colab-df-container\">\n",
       "    <button class=\"colab-df-convert\" onclick=\"convertToInteractive('df-6de3554f-2ae5-4342-9118-08a93a635b83')\"\n",
       "            title=\"Convert this dataframe to an interactive table.\"\n",
       "            style=\"display:none;\">\n",
       "\n",
       "  <svg xmlns=\"http://www.w3.org/2000/svg\" height=\"24px\" viewBox=\"0 -960 960 960\">\n",
       "    <path d=\"M120-120v-720h720v720H120Zm60-500h600v-160H180v160Zm220 220h160v-160H400v160Zm0 220h160v-160H400v160ZM180-400h160v-160H180v160Zm440 0h160v-160H620v160ZM180-180h160v-160H180v160Zm440 0h160v-160H620v160Z\"/>\n",
       "  </svg>\n",
       "    </button>\n",
       "\n",
       "  <style>\n",
       "    .colab-df-container {\n",
       "      display:flex;\n",
       "      gap: 12px;\n",
       "    }\n",
       "\n",
       "    .colab-df-convert {\n",
       "      background-color: #E8F0FE;\n",
       "      border: none;\n",
       "      border-radius: 50%;\n",
       "      cursor: pointer;\n",
       "      display: none;\n",
       "      fill: #1967D2;\n",
       "      height: 32px;\n",
       "      padding: 0 0 0 0;\n",
       "      width: 32px;\n",
       "    }\n",
       "\n",
       "    .colab-df-convert:hover {\n",
       "      background-color: #E2EBFA;\n",
       "      box-shadow: 0px 1px 2px rgba(60, 64, 67, 0.3), 0px 1px 3px 1px rgba(60, 64, 67, 0.15);\n",
       "      fill: #174EA6;\n",
       "    }\n",
       "\n",
       "    .colab-df-buttons div {\n",
       "      margin-bottom: 4px;\n",
       "    }\n",
       "\n",
       "    [theme=dark] .colab-df-convert {\n",
       "      background-color: #3B4455;\n",
       "      fill: #D2E3FC;\n",
       "    }\n",
       "\n",
       "    [theme=dark] .colab-df-convert:hover {\n",
       "      background-color: #434B5C;\n",
       "      box-shadow: 0px 1px 3px 1px rgba(0, 0, 0, 0.15);\n",
       "      filter: drop-shadow(0px 1px 2px rgba(0, 0, 0, 0.3));\n",
       "      fill: #FFFFFF;\n",
       "    }\n",
       "  </style>\n",
       "\n",
       "    <script>\n",
       "      const buttonEl =\n",
       "        document.querySelector('#df-6de3554f-2ae5-4342-9118-08a93a635b83 button.colab-df-convert');\n",
       "      buttonEl.style.display =\n",
       "        google.colab.kernel.accessAllowed ? 'block' : 'none';\n",
       "\n",
       "      async function convertToInteractive(key) {\n",
       "        const element = document.querySelector('#df-6de3554f-2ae5-4342-9118-08a93a635b83');\n",
       "        const dataTable =\n",
       "          await google.colab.kernel.invokeFunction('convertToInteractive',\n",
       "                                                    [key], {});\n",
       "        if (!dataTable) return;\n",
       "\n",
       "        const docLinkHtml = 'Like what you see? Visit the ' +\n",
       "          '<a target=\"_blank\" href=https://colab.research.google.com/notebooks/data_table.ipynb>data table notebook</a>'\n",
       "          + ' to learn more about interactive tables.';\n",
       "        element.innerHTML = '';\n",
       "        dataTable['output_type'] = 'display_data';\n",
       "        await google.colab.output.renderOutput(dataTable, element);\n",
       "        const docLink = document.createElement('div');\n",
       "        docLink.innerHTML = docLinkHtml;\n",
       "        element.appendChild(docLink);\n",
       "      }\n",
       "    </script>\n",
       "  </div>\n",
       "\n",
       "\n",
       "    <div id=\"df-70caf041-f7f9-43a7-8f40-26268fa683e7\">\n",
       "      <button class=\"colab-df-quickchart\" onclick=\"quickchart('df-70caf041-f7f9-43a7-8f40-26268fa683e7')\"\n",
       "                title=\"Suggest charts\"\n",
       "                style=\"display:none;\">\n",
       "\n",
       "<svg xmlns=\"http://www.w3.org/2000/svg\" height=\"24px\"viewBox=\"0 0 24 24\"\n",
       "     width=\"24px\">\n",
       "    <g>\n",
       "        <path d=\"M19 3H5c-1.1 0-2 .9-2 2v14c0 1.1.9 2 2 2h14c1.1 0 2-.9 2-2V5c0-1.1-.9-2-2-2zM9 17H7v-7h2v7zm4 0h-2V7h2v10zm4 0h-2v-4h2v4z\"/>\n",
       "    </g>\n",
       "</svg>\n",
       "      </button>\n",
       "\n",
       "<style>\n",
       "  .colab-df-quickchart {\n",
       "      --bg-color: #E8F0FE;\n",
       "      --fill-color: #1967D2;\n",
       "      --hover-bg-color: #E2EBFA;\n",
       "      --hover-fill-color: #174EA6;\n",
       "      --disabled-fill-color: #AAA;\n",
       "      --disabled-bg-color: #DDD;\n",
       "  }\n",
       "\n",
       "  [theme=dark] .colab-df-quickchart {\n",
       "      --bg-color: #3B4455;\n",
       "      --fill-color: #D2E3FC;\n",
       "      --hover-bg-color: #434B5C;\n",
       "      --hover-fill-color: #FFFFFF;\n",
       "      --disabled-bg-color: #3B4455;\n",
       "      --disabled-fill-color: #666;\n",
       "  }\n",
       "\n",
       "  .colab-df-quickchart {\n",
       "    background-color: var(--bg-color);\n",
       "    border: none;\n",
       "    border-radius: 50%;\n",
       "    cursor: pointer;\n",
       "    display: none;\n",
       "    fill: var(--fill-color);\n",
       "    height: 32px;\n",
       "    padding: 0;\n",
       "    width: 32px;\n",
       "  }\n",
       "\n",
       "  .colab-df-quickchart:hover {\n",
       "    background-color: var(--hover-bg-color);\n",
       "    box-shadow: 0 1px 2px rgba(60, 64, 67, 0.3), 0 1px 3px 1px rgba(60, 64, 67, 0.15);\n",
       "    fill: var(--button-hover-fill-color);\n",
       "  }\n",
       "\n",
       "  .colab-df-quickchart-complete:disabled,\n",
       "  .colab-df-quickchart-complete:disabled:hover {\n",
       "    background-color: var(--disabled-bg-color);\n",
       "    fill: var(--disabled-fill-color);\n",
       "    box-shadow: none;\n",
       "  }\n",
       "\n",
       "  .colab-df-spinner {\n",
       "    border: 2px solid var(--fill-color);\n",
       "    border-color: transparent;\n",
       "    border-bottom-color: var(--fill-color);\n",
       "    animation:\n",
       "      spin 1s steps(1) infinite;\n",
       "  }\n",
       "\n",
       "  @keyframes spin {\n",
       "    0% {\n",
       "      border-color: transparent;\n",
       "      border-bottom-color: var(--fill-color);\n",
       "      border-left-color: var(--fill-color);\n",
       "    }\n",
       "    20% {\n",
       "      border-color: transparent;\n",
       "      border-left-color: var(--fill-color);\n",
       "      border-top-color: var(--fill-color);\n",
       "    }\n",
       "    30% {\n",
       "      border-color: transparent;\n",
       "      border-left-color: var(--fill-color);\n",
       "      border-top-color: var(--fill-color);\n",
       "      border-right-color: var(--fill-color);\n",
       "    }\n",
       "    40% {\n",
       "      border-color: transparent;\n",
       "      border-right-color: var(--fill-color);\n",
       "      border-top-color: var(--fill-color);\n",
       "    }\n",
       "    60% {\n",
       "      border-color: transparent;\n",
       "      border-right-color: var(--fill-color);\n",
       "    }\n",
       "    80% {\n",
       "      border-color: transparent;\n",
       "      border-right-color: var(--fill-color);\n",
       "      border-bottom-color: var(--fill-color);\n",
       "    }\n",
       "    90% {\n",
       "      border-color: transparent;\n",
       "      border-bottom-color: var(--fill-color);\n",
       "    }\n",
       "  }\n",
       "</style>\n",
       "\n",
       "      <script>\n",
       "        async function quickchart(key) {\n",
       "          const quickchartButtonEl =\n",
       "            document.querySelector('#' + key + ' button');\n",
       "          quickchartButtonEl.disabled = true;  // To prevent multiple clicks.\n",
       "          quickchartButtonEl.classList.add('colab-df-spinner');\n",
       "          try {\n",
       "            const charts = await google.colab.kernel.invokeFunction(\n",
       "                'suggestCharts', [key], {});\n",
       "          } catch (error) {\n",
       "            console.error('Error during call to suggestCharts:', error);\n",
       "          }\n",
       "          quickchartButtonEl.classList.remove('colab-df-spinner');\n",
       "          quickchartButtonEl.classList.add('colab-df-quickchart-complete');\n",
       "        }\n",
       "        (() => {\n",
       "          let quickchartButtonEl =\n",
       "            document.querySelector('#df-70caf041-f7f9-43a7-8f40-26268fa683e7 button');\n",
       "          quickchartButtonEl.style.display =\n",
       "            google.colab.kernel.accessAllowed ? 'block' : 'none';\n",
       "        })();\n",
       "      </script>\n",
       "    </div>\n",
       "\n",
       "    </div>\n",
       "  </div>\n"
      ],
      "text/plain": [
       "              year  n_concepts     text_len\n",
       "count       5998.0      6000.0  6000.000000\n",
       "mean   1999.456319         1.0   344.020167\n",
       "std      13.660441         0.0   257.362015\n",
       "min         1900.0         1.0    49.000000\n",
       "25%         1992.0         1.0   200.000000\n",
       "50%         2001.0         1.0   268.000000\n",
       "75%         2007.0         1.0   395.000000\n",
       "max         2098.0         1.0  2431.000000"
      ]
     },
     "execution_count": 39,
     "metadata": {},
     "output_type": "execute_result"
    }
   ],
   "source": [
    "df_v[\"year\"] = df_v[\"header\"].str.extract(r\"\\b((?:19|20)\\d{2})\\b\").astype(\"float\").astype(\"Int64\")\n",
    "df_v[\"n_concepts\"] = df_v[\"eurovoc_concepts\"].apply(len)\n",
    "df_v[\"text_len\"] = df_v[\"text\"].str.split().apply(len)\n",
    "df_v[[\"year\",\"n_concepts\",\"text_len\"]].describe(include=\"all\")"
   ]
  },
  {
   "cell_type": "markdown",
   "id": "746a4857",
   "metadata": {
    "id": "746a4857"
   },
   "source": [
    "### 9.8 Drop rows with empty `text`"
   ]
  },
  {
   "cell_type": "code",
   "execution_count": 40,
   "id": "cda0a214",
   "metadata": {},
   "outputs": [
    {
     "name": "stdout",
     "output_type": "stream",
     "text": [
      "Dropped: 0 | Remaining: 6000\n"
     ]
    }
   ],
   "source": [
    "before = len(df_v)\n",
    "df_v = df_v[df_v[\"text_len\"] > 0].reset_index(drop=True)\n",
    "print(\"Dropped:\", before - len(df_v), \"| Remaining:\", len(df_v))"
   ]
  },
  {
   "cell_type": "markdown",
   "id": "3ed40bf9",
   "metadata": {
    "id": "3ed40bf9"
   },
   "source": [
    "### 9.9 Save **validation_cleaned.csv**"
   ]
  },
  {
   "cell_type": "code",
   "execution_count": 41,
   "id": "0ae3a101",
   "metadata": {},
   "outputs": [
    {
     "name": "stdout",
     "output_type": "stream",
     "text": [
      "Saved: /content/data/validation_cleaned.csv | rows = 6000\n"
     ]
    }
   ],
   "source": [
    "val_csv = BASE_DIR / \"validation_cleaned.csv\"\n",
    "df_v.to_csv(val_csv, index=False)\n",
    "print(\"Saved:\", val_csv, \"| rows =\", len(df_v))"
   ]
  },
  {
   "cell_type": "markdown",
   "id": "38d7a12a",
   "metadata": {
    "id": "38d7a12a"
   },
   "source": [
    "## Step 10 — CLEAN **TEST**"
   ]
  },
  {
   "cell_type": "markdown",
   "id": "c267d1d1",
   "metadata": {
    "id": "c267d1d1"
   },
   "source": [
    "### 10.1 Load raw test into `df_t`"
   ]
  },
  {
   "cell_type": "code",
   "execution_count": 42,
   "id": "14e988ec",
   "metadata": {},
   "outputs": [
    {
     "data": {
      "text/plain": [
       "6000"
      ]
     },
     "execution_count": 42,
     "metadata": {},
     "output_type": "execute_result"
    }
   ],
   "source": [
    "df_t = pd.read_parquet(BASE_DIR / \"test.parquet\").copy()\n",
    "len(df_t)"
   ]
  },
  {
   "cell_type": "markdown",
   "id": "6278b291",
   "metadata": {
    "id": "6278b291"
   },
   "source": [
    "### 10.2 Ensure required columns"
   ]
  },
  {
   "cell_type": "code",
   "execution_count": 43,
   "id": "864f7efb",
   "metadata": {},
   "outputs": [
    {
     "data": {
      "text/plain": [
       "['celex_id',\n",
       " 'document_type',\n",
       " 'title',\n",
       " 'header',\n",
       " 'recitals',\n",
       " 'main_body',\n",
       " 'eurovoc_concepts',\n",
       " 'text',\n",
       " 'uid']"
      ]
     },
     "execution_count": 43,
     "metadata": {},
     "output_type": "execute_result"
    }
   ],
   "source": [
    "for c in [\"celex_id\",\"uid\",\"document_type\",\"title\",\"header\",\"recitals\",\"text\",\"main_body\",\"eurovoc_concepts\"]:\n",
    "    if c not in df_t.columns:\n",
    "        df_t[c] = None\n",
    "df_t.columns.tolist()[:12]"
   ]
  },
  {
   "cell_type": "markdown",
   "id": "19098fde",
   "metadata": {
    "id": "19098fde"
   },
   "source": [
    "### 10.3 Normalize `title` / `header` / `recitals` / `text`"
   ]
  },
  {
   "cell_type": "code",
   "execution_count": 44,
   "id": "d21d7895",
   "metadata": {},
   "outputs": [
    {
     "data": {
      "application/vnd.google.colaboratory.intrinsic+json": {
       "summary": "{\n  \"name\": \"df_t[[\\\"title\\\",\\\"header\\\",\\\"text\\\"]]\",\n  \"rows\": 3,\n  \"fields\": [\n    {\n      \"column\": \"title\",\n      \"properties\": {\n        \"dtype\": \"string\",\n        \"num_unique_values\": 3,\n        \"samples\": [\n          \"Commission Implementing Decision of 14 October 2011 amending and correcting the Annex to Commission Decision 2011/163/EU on the approval of plans submitted by third countries in accordance with Article 29 of Council Directive 96/23/EC (notified under document C(2011) 7167) Text with EEA relevance\",\n          \"Commission Regulation (EC) No 2052/96 of 25 October 1996 fixing the single reduction coefficient for determining the provisional quantity of bananas to be allocated to each Category C operator within the tariff quota for 1997\",\n          \"Commission Regulation (EC) No 1868/2001 of 24 September 2001 determining the extent to which applications lodged in September 2001 for import licences for certain pigmeat products under the regime provided for by the Agreement concluded by the Community with Slovenia can be accepted\"\n        ],\n        \"semantic_type\": \"\",\n        \"description\": \"\"\n      }\n    },\n    {\n      \"column\": \"header\",\n      \"properties\": {\n        \"dtype\": \"string\",\n        \"num_unique_values\": 3,\n        \"samples\": [\n          \"15.10.2011 EN Official Journal of the European Union L 270/48 COMMISSION IMPLEMENTING DECISION of 14 October 2011 amending and correcting the Annex to Commission Decision 2011/163/EU on the approval of plans submitted by third countries in accordance with Article 29 of Council Directive 96/23/EC (notified under document C(2011) 7167) (Text with EEA relevance) (2011/690/EU) THE EUROPEAN COMMISSION\",\n          \"COMMISSION REGULATION (EC) No 2052/96 of 25 October 1996 fixing the single reduction coefficient for determining the provisional quantity of bananas to be allocated to each Category C operator within the tariff quota for 1997 THE COMMISSION OF THE EUROPEAN COMMUNITIES\",\n          \"Commission Regulation (EC) No 1868/2001 of 24 September 2001 determining the extent to which applications lodged in September 2001 for import licences for certain pigmeat products under the regime provided for by the Agreement concluded by the Community with Slovenia can be accepted THE COMMISSION OF THE EUROPEAN COMMUNITIES\"\n        ],\n        \"semantic_type\": \"\",\n        \"description\": \"\"\n      }\n    },\n    {\n      \"column\": \"text\",\n      \"properties\": {\n        \"dtype\": \"string\",\n        \"num_unique_values\": 3,\n        \"samples\": [\n          \"Commission Implementing Decision of 14 October 2011 amending and correcting the Annex to Commission Decision 2011/163/EU on the approval of plans submitted by third countries in accordance with Article 29 of Council Directive 96/23/EC (notified under document C(2011) 7167) Text with EEA relevance , Having regard to the Treaty on the Functioning of the European Union, Having regard to Council Directive 96/23/EC of 29 April 1996 on measures to monitor certain substances and residues thereof in live animals and animal products and repealing Directives 85/358/EEC and 86/469/EEC and Decisions 89/187/EEC and 91/664/EEC (1), and in particular the fourth subparagraph of Article 29(1) and Article 29(2) thereof. Whereas: (1) Directive 96/23/EC lays down measures to monitor the substances and groups of residues listed in Annex I thereto. Pursuant to Directive 96/23/EC, the inclusion and retention on the lists of third countries from which Member States are authorised to import animals and animal products covered by that Directive are subject to the submission by the third countries concerned of a plan setting out the guarantees which they offer as regards the monitoring of the groups of residues and substances listed in that Annex. Those plans are to be updated at the request of the Commission, particularly when certain checks render it necessary. (2) Commission Decision 2011/163/EU (2) approves the plans provided for in Article 29 of Directive 96/23/EC ('the plans') submitted by certain third countries listed in the Annex thereto for the animals and animal products indicated in that list. Decision 2011/163/EU repealed and replaced Commission Decision 2004/432/EC of 29 April 2004 on the approval of residue monitoring plans submitted by third countries in accordance with Council Directive 96/23/EC (3). (3) In the light of the recent plans submitted by certain third countries and additional information obtained by the Commission, it is necessary to update the list of third countries from which Member States are authorised to import certain animals and animal products, as provided for in Directive 96/23/EC and currently listed in the Annex to Decision 2011/163/EU ('the list'). (4) Belize is currently included in the list for aquaculture and honey. However, Belize has not provided a plan as required by Article 29 of Directive 96/23/EC. Therefore, Belize should be removed from the list. (5) Ghana has submitted a plan for honey to the Commission. That plan provides sufficient guarantees and should be approved. Therefore, an entry for Ghana for honey should be included in the list. (6) India has now carried out corrective measures to address the shortcomings in its residue plan for honey. That third country has submitted an improved residue plan for honey and a Commission inspection confirmed an acceptable implementation of the plan. Therefore, the entry for India in the list should include honey. (7) Madagascar has submitted a plan for honey to the Commission. That plan provides sufficient guarantees and should be approved. Therefore, honey should be included in the entry for Madagascar in the list. (8) Mauritius is currently included in the list for poultry but with a reference to footnote 2 in the Annex to Decision 2011/163/EU. That footnote restricts such imports to those from third countries using only raw material either from Member States or from other third countries approved for imports of such raw material to the Union, in accordance with Article 2 of that Decision. However, Mauritius has not provided the required guarantees for the plan for poultry. Therefore, the entry for that third country in the list should no longer include poultry. (9) Turkey has submitted a plan for eggs to the Commission. That plan provides sufficient guarantees and should be approved. Therefore, eggs should be included in the entry for Turkey in the list. (10) The entry for Singapore in the list includes aquaculture but with a reference to footnote 2 in the Annex to Decision 2011/163/EU. However, in the Annex to Decision 2004/432/EC, as amended by Commission Decision 2010/327/EU (4), there is no reference to footnote 2 as Singapore submitted an approved plan for aquaculture. The Commission has not been advised of any change since the approval of that plan. Therefore, the entry for that third country in the list should be corrected by deleting the reference to that footnote for imports of aquaculture. For reasons of legal certainty, the entry for Singapore should apply retroactively from 15 March 2011, the date of application of Decision 2011/163/EU when the error in the entry regarding Singapore occurred. The competent authorities of the Member States have been informed accordingly and no disruption to imports has been reported to the Commission. (11) The Annex to Decision 2011/163/EU should therefore be amended accordingly. (12) The measures provided for in this Decision are in accordance with the opinion of the Standing Committee on the Food Chain and Animal Health,\",\n          \"Commission Regulation (EC) No 2052/96 of 25 October 1996 fixing the single reduction coefficient for determining the provisional quantity of bananas to be allocated to each Category C operator within the tariff quota for 1997 , Having regard to the Treaty establishing the European Community, Having regard to Council Regulation (EEC) No 404/93 of 13 February 1993 on the common organization of the market in bananas (1), as last amended by Commission Regulation (EC) No 3290/94 (2), Having regard to Commission Regulation (EEC) No 1442/93 of 10 June 1993 laying down detailed rules for the application of the arrangements for importing bananas into the Community (3), as last amended by Commission Regulation (EC) No 1409/96 (4), and in particular Article 4 (4) thereof, Whereas, on 4 April 1995, the Commission sent the Council a proposal for a Regulation adjusting Regulation (EEC) No 404/93 as regards the volume of the annual tariff quota for the import of bananas into the Community following the accession of Austria, Finland and Sweden, whereas, despite the Commission's best efforts, the Council has not yet decided on the increase in the tariff quota on the basis of the above proposal; Whereas, without pre-empting the measures to be decided by the Council, the quantities for allocation to Category C operators for 1997 should be provisionally established so that the import licences can be issued for the early quarters of that year, whereas the reduction coefficient applying to Category C operators should accordingly be calculated on the basis of a tariff quota amounting to 2 200 000 tonnes, whereas the quantities applied for in respect of 1997 amount to 199 347 000 tonnes and exceed the 77 000 tonnes of the tariff quota set pursuant to Article 19 (1) (c) of Regulation (EEC) No 404/93; whereas a single percentage reduction should therefore be applied to the quantities requested by each operator; Whereas this Regulation must enter into force immediately, taking account of the time limits laid down in Regulation (EEC) No 1442/93,\",\n          \"Commission Regulation (EC) No 1868/2001 of 24 September 2001 determining the extent to which applications lodged in September 2001 for import licences for certain pigmeat products under the regime provided for by the Agreement concluded by the Community with Slovenia can be accepted , Having regard to the Treaty establishing the European Community, Having regard to Commission Regulation (EC) No 571/97 of 26 March 1997 laying down detailed rules for the application in the pigmeat sector of the arrangements provided for in the Interim Agreement between the Community, of the one part, and Slovenia, of the other part(1), as last amended by Regulation (EC) No 1006/2001(2), and in particular Article 4(4) thereof, Whereas: (1) The applications for import licences lodged for the fourth quarter of 2001 are for quantities less than the quantities available and can therefore be met in full. (2) It is appropriate to draw the attention of operators to the fact that licences may only be used for products which comply with all veterinary rules currently in force in the Community,\"\n        ],\n        \"semantic_type\": \"\",\n        \"description\": \"\"\n      }\n    }\n  ]\n}",
       "type": "dataframe"
      },
      "text/html": [
       "\n",
       "  <div id=\"df-1b3bddfe-71ee-4e98-8282-21cae2a50889\" class=\"colab-df-container\">\n",
       "    <div>\n",
       "<style scoped>\n",
       "    .dataframe tbody tr th:only-of-type {\n",
       "        vertical-align: middle;\n",
       "    }\n",
       "\n",
       "    .dataframe tbody tr th {\n",
       "        vertical-align: top;\n",
       "    }\n",
       "\n",
       "    .dataframe thead th {\n",
       "        text-align: right;\n",
       "    }\n",
       "</style>\n",
       "<table border=\"1\" class=\"dataframe\">\n",
       "  <thead>\n",
       "    <tr style=\"text-align: right;\">\n",
       "      <th></th>\n",
       "      <th>title</th>\n",
       "      <th>header</th>\n",
       "      <th>text</th>\n",
       "    </tr>\n",
       "  </thead>\n",
       "  <tbody>\n",
       "    <tr>\n",
       "      <th>0</th>\n",
       "      <td>Commission Implementing Decision of 14 October...</td>\n",
       "      <td>15.10.2011 EN Official Journal of the European...</td>\n",
       "      <td>Commission Implementing Decision of 14 October...</td>\n",
       "    </tr>\n",
       "    <tr>\n",
       "      <th>1</th>\n",
       "      <td>Commission Regulation (EC) No 2052/96 of 25 Oc...</td>\n",
       "      <td>COMMISSION REGULATION (EC) No 2052/96 of 25 Oc...</td>\n",
       "      <td>Commission Regulation (EC) No 2052/96 of 25 Oc...</td>\n",
       "    </tr>\n",
       "    <tr>\n",
       "      <th>2</th>\n",
       "      <td>Commission Regulation (EC) No 1868/2001 of 24 ...</td>\n",
       "      <td>Commission Regulation (EC) No 1868/2001 of 24 ...</td>\n",
       "      <td>Commission Regulation (EC) No 1868/2001 of 24 ...</td>\n",
       "    </tr>\n",
       "  </tbody>\n",
       "</table>\n",
       "</div>\n",
       "    <div class=\"colab-df-buttons\">\n",
       "\n",
       "  <div class=\"colab-df-container\">\n",
       "    <button class=\"colab-df-convert\" onclick=\"convertToInteractive('df-1b3bddfe-71ee-4e98-8282-21cae2a50889')\"\n",
       "            title=\"Convert this dataframe to an interactive table.\"\n",
       "            style=\"display:none;\">\n",
       "\n",
       "  <svg xmlns=\"http://www.w3.org/2000/svg\" height=\"24px\" viewBox=\"0 -960 960 960\">\n",
       "    <path d=\"M120-120v-720h720v720H120Zm60-500h600v-160H180v160Zm220 220h160v-160H400v160Zm0 220h160v-160H400v160ZM180-400h160v-160H180v160Zm440 0h160v-160H620v160ZM180-180h160v-160H180v160Zm440 0h160v-160H620v160Z\"/>\n",
       "  </svg>\n",
       "    </button>\n",
       "\n",
       "  <style>\n",
       "    .colab-df-container {\n",
       "      display:flex;\n",
       "      gap: 12px;\n",
       "    }\n",
       "\n",
       "    .colab-df-convert {\n",
       "      background-color: #E8F0FE;\n",
       "      border: none;\n",
       "      border-radius: 50%;\n",
       "      cursor: pointer;\n",
       "      display: none;\n",
       "      fill: #1967D2;\n",
       "      height: 32px;\n",
       "      padding: 0 0 0 0;\n",
       "      width: 32px;\n",
       "    }\n",
       "\n",
       "    .colab-df-convert:hover {\n",
       "      background-color: #E2EBFA;\n",
       "      box-shadow: 0px 1px 2px rgba(60, 64, 67, 0.3), 0px 1px 3px 1px rgba(60, 64, 67, 0.15);\n",
       "      fill: #174EA6;\n",
       "    }\n",
       "\n",
       "    .colab-df-buttons div {\n",
       "      margin-bottom: 4px;\n",
       "    }\n",
       "\n",
       "    [theme=dark] .colab-df-convert {\n",
       "      background-color: #3B4455;\n",
       "      fill: #D2E3FC;\n",
       "    }\n",
       "\n",
       "    [theme=dark] .colab-df-convert:hover {\n",
       "      background-color: #434B5C;\n",
       "      box-shadow: 0px 1px 3px 1px rgba(0, 0, 0, 0.15);\n",
       "      filter: drop-shadow(0px 1px 2px rgba(0, 0, 0, 0.3));\n",
       "      fill: #FFFFFF;\n",
       "    }\n",
       "  </style>\n",
       "\n",
       "    <script>\n",
       "      const buttonEl =\n",
       "        document.querySelector('#df-1b3bddfe-71ee-4e98-8282-21cae2a50889 button.colab-df-convert');\n",
       "      buttonEl.style.display =\n",
       "        google.colab.kernel.accessAllowed ? 'block' : 'none';\n",
       "\n",
       "      async function convertToInteractive(key) {\n",
       "        const element = document.querySelector('#df-1b3bddfe-71ee-4e98-8282-21cae2a50889');\n",
       "        const dataTable =\n",
       "          await google.colab.kernel.invokeFunction('convertToInteractive',\n",
       "                                                    [key], {});\n",
       "        if (!dataTable) return;\n",
       "\n",
       "        const docLinkHtml = 'Like what you see? Visit the ' +\n",
       "          '<a target=\"_blank\" href=https://colab.research.google.com/notebooks/data_table.ipynb>data table notebook</a>'\n",
       "          + ' to learn more about interactive tables.';\n",
       "        element.innerHTML = '';\n",
       "        dataTable['output_type'] = 'display_data';\n",
       "        await google.colab.output.renderOutput(dataTable, element);\n",
       "        const docLink = document.createElement('div');\n",
       "        docLink.innerHTML = docLinkHtml;\n",
       "        element.appendChild(docLink);\n",
       "      }\n",
       "    </script>\n",
       "  </div>\n",
       "\n",
       "\n",
       "    <div id=\"df-e1745bec-01c9-44d1-b417-a0c11d7d4ca0\">\n",
       "      <button class=\"colab-df-quickchart\" onclick=\"quickchart('df-e1745bec-01c9-44d1-b417-a0c11d7d4ca0')\"\n",
       "                title=\"Suggest charts\"\n",
       "                style=\"display:none;\">\n",
       "\n",
       "<svg xmlns=\"http://www.w3.org/2000/svg\" height=\"24px\"viewBox=\"0 0 24 24\"\n",
       "     width=\"24px\">\n",
       "    <g>\n",
       "        <path d=\"M19 3H5c-1.1 0-2 .9-2 2v14c0 1.1.9 2 2 2h14c1.1 0 2-.9 2-2V5c0-1.1-.9-2-2-2zM9 17H7v-7h2v7zm4 0h-2V7h2v10zm4 0h-2v-4h2v4z\"/>\n",
       "    </g>\n",
       "</svg>\n",
       "      </button>\n",
       "\n",
       "<style>\n",
       "  .colab-df-quickchart {\n",
       "      --bg-color: #E8F0FE;\n",
       "      --fill-color: #1967D2;\n",
       "      --hover-bg-color: #E2EBFA;\n",
       "      --hover-fill-color: #174EA6;\n",
       "      --disabled-fill-color: #AAA;\n",
       "      --disabled-bg-color: #DDD;\n",
       "  }\n",
       "\n",
       "  [theme=dark] .colab-df-quickchart {\n",
       "      --bg-color: #3B4455;\n",
       "      --fill-color: #D2E3FC;\n",
       "      --hover-bg-color: #434B5C;\n",
       "      --hover-fill-color: #FFFFFF;\n",
       "      --disabled-bg-color: #3B4455;\n",
       "      --disabled-fill-color: #666;\n",
       "  }\n",
       "\n",
       "  .colab-df-quickchart {\n",
       "    background-color: var(--bg-color);\n",
       "    border: none;\n",
       "    border-radius: 50%;\n",
       "    cursor: pointer;\n",
       "    display: none;\n",
       "    fill: var(--fill-color);\n",
       "    height: 32px;\n",
       "    padding: 0;\n",
       "    width: 32px;\n",
       "  }\n",
       "\n",
       "  .colab-df-quickchart:hover {\n",
       "    background-color: var(--hover-bg-color);\n",
       "    box-shadow: 0 1px 2px rgba(60, 64, 67, 0.3), 0 1px 3px 1px rgba(60, 64, 67, 0.15);\n",
       "    fill: var(--button-hover-fill-color);\n",
       "  }\n",
       "\n",
       "  .colab-df-quickchart-complete:disabled,\n",
       "  .colab-df-quickchart-complete:disabled:hover {\n",
       "    background-color: var(--disabled-bg-color);\n",
       "    fill: var(--disabled-fill-color);\n",
       "    box-shadow: none;\n",
       "  }\n",
       "\n",
       "  .colab-df-spinner {\n",
       "    border: 2px solid var(--fill-color);\n",
       "    border-color: transparent;\n",
       "    border-bottom-color: var(--fill-color);\n",
       "    animation:\n",
       "      spin 1s steps(1) infinite;\n",
       "  }\n",
       "\n",
       "  @keyframes spin {\n",
       "    0% {\n",
       "      border-color: transparent;\n",
       "      border-bottom-color: var(--fill-color);\n",
       "      border-left-color: var(--fill-color);\n",
       "    }\n",
       "    20% {\n",
       "      border-color: transparent;\n",
       "      border-left-color: var(--fill-color);\n",
       "      border-top-color: var(--fill-color);\n",
       "    }\n",
       "    30% {\n",
       "      border-color: transparent;\n",
       "      border-left-color: var(--fill-color);\n",
       "      border-top-color: var(--fill-color);\n",
       "      border-right-color: var(--fill-color);\n",
       "    }\n",
       "    40% {\n",
       "      border-color: transparent;\n",
       "      border-right-color: var(--fill-color);\n",
       "      border-top-color: var(--fill-color);\n",
       "    }\n",
       "    60% {\n",
       "      border-color: transparent;\n",
       "      border-right-color: var(--fill-color);\n",
       "    }\n",
       "    80% {\n",
       "      border-color: transparent;\n",
       "      border-right-color: var(--fill-color);\n",
       "      border-bottom-color: var(--fill-color);\n",
       "    }\n",
       "    90% {\n",
       "      border-color: transparent;\n",
       "      border-bottom-color: var(--fill-color);\n",
       "    }\n",
       "  }\n",
       "</style>\n",
       "\n",
       "      <script>\n",
       "        async function quickchart(key) {\n",
       "          const quickchartButtonEl =\n",
       "            document.querySelector('#' + key + ' button');\n",
       "          quickchartButtonEl.disabled = true;  // To prevent multiple clicks.\n",
       "          quickchartButtonEl.classList.add('colab-df-spinner');\n",
       "          try {\n",
       "            const charts = await google.colab.kernel.invokeFunction(\n",
       "                'suggestCharts', [key], {});\n",
       "          } catch (error) {\n",
       "            console.error('Error during call to suggestCharts:', error);\n",
       "          }\n",
       "          quickchartButtonEl.classList.remove('colab-df-spinner');\n",
       "          quickchartButtonEl.classList.add('colab-df-quickchart-complete');\n",
       "        }\n",
       "        (() => {\n",
       "          let quickchartButtonEl =\n",
       "            document.querySelector('#df-e1745bec-01c9-44d1-b417-a0c11d7d4ca0 button');\n",
       "          quickchartButtonEl.style.display =\n",
       "            google.colab.kernel.accessAllowed ? 'block' : 'none';\n",
       "        })();\n",
       "      </script>\n",
       "    </div>\n",
       "\n",
       "    </div>\n",
       "  </div>\n"
      ],
      "text/plain": [
       "                                               title  \\\n",
       "0  Commission Implementing Decision of 14 October...   \n",
       "1  Commission Regulation (EC) No 2052/96 of 25 Oc...   \n",
       "2  Commission Regulation (EC) No 1868/2001 of 24 ...   \n",
       "\n",
       "                                              header  \\\n",
       "0  15.10.2011 EN Official Journal of the European...   \n",
       "1  COMMISSION REGULATION (EC) No 2052/96 of 25 Oc...   \n",
       "2  Commission Regulation (EC) No 1868/2001 of 24 ...   \n",
       "\n",
       "                                                text  \n",
       "0  Commission Implementing Decision of 14 October...  \n",
       "1  Commission Regulation (EC) No 2052/96 of 25 Oc...  \n",
       "2  Commission Regulation (EC) No 1868/2001 of 24 ...  "
      ]
     },
     "execution_count": 44,
     "metadata": {},
     "output_type": "execute_result"
    }
   ],
   "source": [
    "df_t[\"title\"]    = df_t[\"title\"].apply(normalize)\n",
    "df_t[\"header\"]   = df_t[\"header\"].apply(normalize)\n",
    "df_t[\"recitals\"] = df_t[\"recitals\"].apply(normalize)\n",
    "df_t[\"text\"]     = df_t[\"text\"].apply(normalize)\n",
    "df_t[[\"title\",\"header\",\"text\"]].head(3)"
   ]
  },
  {
   "cell_type": "markdown",
   "id": "8480b1e9",
   "metadata": {
    "id": "8480b1e9"
   },
   "source": [
    "### 10.4 Ensure list fields (`main_body`, `eurovoc_concepts`)"
   ]
  },
  {
   "cell_type": "code",
   "execution_count": 45,
   "id": "579d0771",
   "metadata": {},
   "outputs": [
    {
     "data": {
      "application/vnd.google.colaboratory.intrinsic+json": {
       "summary": "{\n  \"name\": \"df_t[[\\\"main_body\\\",\\\"eurovoc_concepts\\\"]]\",\n  \"rows\": 3,\n  \"fields\": [\n    {\n      \"column\": \"main_body\",\n      \"properties\": {\n        \"dtype\": \"object\",\n        \"semantic_type\": \"\",\n        \"description\": \"\"\n      }\n    },\n    {\n      \"column\": \"eurovoc_concepts\",\n      \"properties\": {\n        \"dtype\": \"object\",\n        \"semantic_type\": \"\",\n        \"description\": \"\"\n      }\n    }\n  ]\n}",
       "type": "dataframe"
      },
      "text/html": [
       "\n",
       "  <div id=\"df-9e7c4251-2c31-4450-be04-809e911357d6\" class=\"colab-df-container\">\n",
       "    <div>\n",
       "<style scoped>\n",
       "    .dataframe tbody tr th:only-of-type {\n",
       "        vertical-align: middle;\n",
       "    }\n",
       "\n",
       "    .dataframe tbody tr th {\n",
       "        vertical-align: top;\n",
       "    }\n",
       "\n",
       "    .dataframe thead th {\n",
       "        text-align: right;\n",
       "    }\n",
       "</style>\n",
       "<table border=\"1\" class=\"dataframe\">\n",
       "  <thead>\n",
       "    <tr style=\"text-align: right;\">\n",
       "      <th></th>\n",
       "      <th>main_body</th>\n",
       "      <th>eurovoc_concepts</th>\n",
       "    </tr>\n",
       "  </thead>\n",
       "  <tbody>\n",
       "    <tr>\n",
       "      <th>0</th>\n",
       "      <td>[['The Annex to Decision 2011/163/EU is replac...</td>\n",
       "      <td>[['1166' '1338' '1445' '1644' '1729' '1841' '1...</td>\n",
       "    </tr>\n",
       "    <tr>\n",
       "      <th>1</th>\n",
       "      <td>[['The provisional quantity to be allocated to...</td>\n",
       "      <td>[['1120' '1309' '161' '2957']]</td>\n",
       "    </tr>\n",
       "    <tr>\n",
       "      <th>2</th>\n",
       "      <td>[['1. Applications for import licences for the...</td>\n",
       "      <td>[['1474' '1644' '2738' '4692' '5898']]</td>\n",
       "    </tr>\n",
       "  </tbody>\n",
       "</table>\n",
       "</div>\n",
       "    <div class=\"colab-df-buttons\">\n",
       "\n",
       "  <div class=\"colab-df-container\">\n",
       "    <button class=\"colab-df-convert\" onclick=\"convertToInteractive('df-9e7c4251-2c31-4450-be04-809e911357d6')\"\n",
       "            title=\"Convert this dataframe to an interactive table.\"\n",
       "            style=\"display:none;\">\n",
       "\n",
       "  <svg xmlns=\"http://www.w3.org/2000/svg\" height=\"24px\" viewBox=\"0 -960 960 960\">\n",
       "    <path d=\"M120-120v-720h720v720H120Zm60-500h600v-160H180v160Zm220 220h160v-160H400v160Zm0 220h160v-160H400v160ZM180-400h160v-160H180v160Zm440 0h160v-160H620v160ZM180-180h160v-160H180v160Zm440 0h160v-160H620v160Z\"/>\n",
       "  </svg>\n",
       "    </button>\n",
       "\n",
       "  <style>\n",
       "    .colab-df-container {\n",
       "      display:flex;\n",
       "      gap: 12px;\n",
       "    }\n",
       "\n",
       "    .colab-df-convert {\n",
       "      background-color: #E8F0FE;\n",
       "      border: none;\n",
       "      border-radius: 50%;\n",
       "      cursor: pointer;\n",
       "      display: none;\n",
       "      fill: #1967D2;\n",
       "      height: 32px;\n",
       "      padding: 0 0 0 0;\n",
       "      width: 32px;\n",
       "    }\n",
       "\n",
       "    .colab-df-convert:hover {\n",
       "      background-color: #E2EBFA;\n",
       "      box-shadow: 0px 1px 2px rgba(60, 64, 67, 0.3), 0px 1px 3px 1px rgba(60, 64, 67, 0.15);\n",
       "      fill: #174EA6;\n",
       "    }\n",
       "\n",
       "    .colab-df-buttons div {\n",
       "      margin-bottom: 4px;\n",
       "    }\n",
       "\n",
       "    [theme=dark] .colab-df-convert {\n",
       "      background-color: #3B4455;\n",
       "      fill: #D2E3FC;\n",
       "    }\n",
       "\n",
       "    [theme=dark] .colab-df-convert:hover {\n",
       "      background-color: #434B5C;\n",
       "      box-shadow: 0px 1px 3px 1px rgba(0, 0, 0, 0.15);\n",
       "      filter: drop-shadow(0px 1px 2px rgba(0, 0, 0, 0.3));\n",
       "      fill: #FFFFFF;\n",
       "    }\n",
       "  </style>\n",
       "\n",
       "    <script>\n",
       "      const buttonEl =\n",
       "        document.querySelector('#df-9e7c4251-2c31-4450-be04-809e911357d6 button.colab-df-convert');\n",
       "      buttonEl.style.display =\n",
       "        google.colab.kernel.accessAllowed ? 'block' : 'none';\n",
       "\n",
       "      async function convertToInteractive(key) {\n",
       "        const element = document.querySelector('#df-9e7c4251-2c31-4450-be04-809e911357d6');\n",
       "        const dataTable =\n",
       "          await google.colab.kernel.invokeFunction('convertToInteractive',\n",
       "                                                    [key], {});\n",
       "        if (!dataTable) return;\n",
       "\n",
       "        const docLinkHtml = 'Like what you see? Visit the ' +\n",
       "          '<a target=\"_blank\" href=https://colab.research.google.com/notebooks/data_table.ipynb>data table notebook</a>'\n",
       "          + ' to learn more about interactive tables.';\n",
       "        element.innerHTML = '';\n",
       "        dataTable['output_type'] = 'display_data';\n",
       "        await google.colab.output.renderOutput(dataTable, element);\n",
       "        const docLink = document.createElement('div');\n",
       "        docLink.innerHTML = docLinkHtml;\n",
       "        element.appendChild(docLink);\n",
       "      }\n",
       "    </script>\n",
       "  </div>\n",
       "\n",
       "\n",
       "    <div id=\"df-611a9cf4-4bf0-4ec3-bbb0-ee4e42b4a252\">\n",
       "      <button class=\"colab-df-quickchart\" onclick=\"quickchart('df-611a9cf4-4bf0-4ec3-bbb0-ee4e42b4a252')\"\n",
       "                title=\"Suggest charts\"\n",
       "                style=\"display:none;\">\n",
       "\n",
       "<svg xmlns=\"http://www.w3.org/2000/svg\" height=\"24px\"viewBox=\"0 0 24 24\"\n",
       "     width=\"24px\">\n",
       "    <g>\n",
       "        <path d=\"M19 3H5c-1.1 0-2 .9-2 2v14c0 1.1.9 2 2 2h14c1.1 0 2-.9 2-2V5c0-1.1-.9-2-2-2zM9 17H7v-7h2v7zm4 0h-2V7h2v10zm4 0h-2v-4h2v4z\"/>\n",
       "    </g>\n",
       "</svg>\n",
       "      </button>\n",
       "\n",
       "<style>\n",
       "  .colab-df-quickchart {\n",
       "      --bg-color: #E8F0FE;\n",
       "      --fill-color: #1967D2;\n",
       "      --hover-bg-color: #E2EBFA;\n",
       "      --hover-fill-color: #174EA6;\n",
       "      --disabled-fill-color: #AAA;\n",
       "      --disabled-bg-color: #DDD;\n",
       "  }\n",
       "\n",
       "  [theme=dark] .colab-df-quickchart {\n",
       "      --bg-color: #3B4455;\n",
       "      --fill-color: #D2E3FC;\n",
       "      --hover-bg-color: #434B5C;\n",
       "      --hover-fill-color: #FFFFFF;\n",
       "      --disabled-bg-color: #3B4455;\n",
       "      --disabled-fill-color: #666;\n",
       "  }\n",
       "\n",
       "  .colab-df-quickchart {\n",
       "    background-color: var(--bg-color);\n",
       "    border: none;\n",
       "    border-radius: 50%;\n",
       "    cursor: pointer;\n",
       "    display: none;\n",
       "    fill: var(--fill-color);\n",
       "    height: 32px;\n",
       "    padding: 0;\n",
       "    width: 32px;\n",
       "  }\n",
       "\n",
       "  .colab-df-quickchart:hover {\n",
       "    background-color: var(--hover-bg-color);\n",
       "    box-shadow: 0 1px 2px rgba(60, 64, 67, 0.3), 0 1px 3px 1px rgba(60, 64, 67, 0.15);\n",
       "    fill: var(--button-hover-fill-color);\n",
       "  }\n",
       "\n",
       "  .colab-df-quickchart-complete:disabled,\n",
       "  .colab-df-quickchart-complete:disabled:hover {\n",
       "    background-color: var(--disabled-bg-color);\n",
       "    fill: var(--disabled-fill-color);\n",
       "    box-shadow: none;\n",
       "  }\n",
       "\n",
       "  .colab-df-spinner {\n",
       "    border: 2px solid var(--fill-color);\n",
       "    border-color: transparent;\n",
       "    border-bottom-color: var(--fill-color);\n",
       "    animation:\n",
       "      spin 1s steps(1) infinite;\n",
       "  }\n",
       "\n",
       "  @keyframes spin {\n",
       "    0% {\n",
       "      border-color: transparent;\n",
       "      border-bottom-color: var(--fill-color);\n",
       "      border-left-color: var(--fill-color);\n",
       "    }\n",
       "    20% {\n",
       "      border-color: transparent;\n",
       "      border-left-color: var(--fill-color);\n",
       "      border-top-color: var(--fill-color);\n",
       "    }\n",
       "    30% {\n",
       "      border-color: transparent;\n",
       "      border-left-color: var(--fill-color);\n",
       "      border-top-color: var(--fill-color);\n",
       "      border-right-color: var(--fill-color);\n",
       "    }\n",
       "    40% {\n",
       "      border-color: transparent;\n",
       "      border-right-color: var(--fill-color);\n",
       "      border-top-color: var(--fill-color);\n",
       "    }\n",
       "    60% {\n",
       "      border-color: transparent;\n",
       "      border-right-color: var(--fill-color);\n",
       "    }\n",
       "    80% {\n",
       "      border-color: transparent;\n",
       "      border-right-color: var(--fill-color);\n",
       "      border-bottom-color: var(--fill-color);\n",
       "    }\n",
       "    90% {\n",
       "      border-color: transparent;\n",
       "      border-bottom-color: var(--fill-color);\n",
       "    }\n",
       "  }\n",
       "</style>\n",
       "\n",
       "      <script>\n",
       "        async function quickchart(key) {\n",
       "          const quickchartButtonEl =\n",
       "            document.querySelector('#' + key + ' button');\n",
       "          quickchartButtonEl.disabled = true;  // To prevent multiple clicks.\n",
       "          quickchartButtonEl.classList.add('colab-df-spinner');\n",
       "          try {\n",
       "            const charts = await google.colab.kernel.invokeFunction(\n",
       "                'suggestCharts', [key], {});\n",
       "          } catch (error) {\n",
       "            console.error('Error during call to suggestCharts:', error);\n",
       "          }\n",
       "          quickchartButtonEl.classList.remove('colab-df-spinner');\n",
       "          quickchartButtonEl.classList.add('colab-df-quickchart-complete');\n",
       "        }\n",
       "        (() => {\n",
       "          let quickchartButtonEl =\n",
       "            document.querySelector('#df-611a9cf4-4bf0-4ec3-bbb0-ee4e42b4a252 button');\n",
       "          quickchartButtonEl.style.display =\n",
       "            google.colab.kernel.accessAllowed ? 'block' : 'none';\n",
       "        })();\n",
       "      </script>\n",
       "    </div>\n",
       "\n",
       "    </div>\n",
       "  </div>\n"
      ],
      "text/plain": [
       "                                           main_body  \\\n",
       "0  [['The Annex to Decision 2011/163/EU is replac...   \n",
       "1  [['The provisional quantity to be allocated to...   \n",
       "2  [['1. Applications for import licences for the...   \n",
       "\n",
       "                                    eurovoc_concepts  \n",
       "0  [['1166' '1338' '1445' '1644' '1729' '1841' '1...  \n",
       "1                     [['1120' '1309' '161' '2957']]  \n",
       "2             [['1474' '1644' '2738' '4692' '5898']]  "
      ]
     },
     "execution_count": 45,
     "metadata": {},
     "output_type": "execute_result"
    }
   ],
   "source": [
    "df_t[\"main_body\"] = df_t[\"main_body\"].apply(lambda v: [normalize(x) for x in as_list(v) if normalize(x)])\n",
    "df_t[\"eurovoc_concepts\"] = df_t[\"eurovoc_concepts\"].apply(\n",
    "    lambda v: sorted({normalize(x) for x in as_list(v) if normalize(x)})\n",
    ")\n",
    "df_t[[\"main_body\",\"eurovoc_concepts\"]].head(3)"
   ]
  },
  {
   "cell_type": "markdown",
   "id": "dbf5dc5b",
   "metadata": {
    "id": "dbf5dc5b"
   },
   "source": [
    "### 10.5 Standardize `document_type`"
   ]
  },
  {
   "cell_type": "code",
   "execution_count": 46,
   "id": "859567d7",
   "metadata": {},
   "outputs": [
    {
     "data": {
      "text/html": [
       "<div>\n",
       "<style scoped>\n",
       "    .dataframe tbody tr th:only-of-type {\n",
       "        vertical-align: middle;\n",
       "    }\n",
       "\n",
       "    .dataframe tbody tr th {\n",
       "        vertical-align: top;\n",
       "    }\n",
       "\n",
       "    .dataframe thead th {\n",
       "        text-align: right;\n",
       "    }\n",
       "</style>\n",
       "<table border=\"1\" class=\"dataframe\">\n",
       "  <thead>\n",
       "    <tr style=\"text-align: right;\">\n",
       "      <th></th>\n",
       "      <th>count</th>\n",
       "    </tr>\n",
       "    <tr>\n",
       "      <th>document_type</th>\n",
       "      <th></th>\n",
       "    </tr>\n",
       "  </thead>\n",
       "  <tbody>\n",
       "    <tr>\n",
       "      <th>Regulation</th>\n",
       "      <td>3967</td>\n",
       "    </tr>\n",
       "    <tr>\n",
       "      <th>Decision</th>\n",
       "      <td>1793</td>\n",
       "    </tr>\n",
       "    <tr>\n",
       "      <th>Directive</th>\n",
       "      <td>240</td>\n",
       "    </tr>\n",
       "  </tbody>\n",
       "</table>\n",
       "</div><br><label><b>dtype:</b> int64</label>"
      ],
      "text/plain": [
       "document_type\n",
       "Regulation    3967\n",
       "Decision      1793\n",
       "Directive      240\n",
       "Name: count, dtype: int64"
      ]
     },
     "execution_count": 46,
     "metadata": {},
     "output_type": "execute_result"
    }
   ],
   "source": [
    "df_t[\"document_type\"] = df_t[\"document_type\"].apply(lambda x: x if str(x).strip() in ALLOWED_DOC_TYPES else \"Unknown\")\n",
    "df_t[\"document_type\"].value_counts()"
   ]
  },
  {
   "cell_type": "markdown",
   "id": "65bc8faf",
   "metadata": {
    "id": "65bc8faf"
   },
   "source": [
    "### 10.6 Deduplicate using `celex_id` (fallback: `title||header`)"
   ]
  },
  {
   "cell_type": "code",
   "execution_count": 47,
   "id": "f66899a8",
   "metadata": {},
   "outputs": [
    {
     "name": "stdout",
     "output_type": "stream",
     "text": [
      "Duplicates removed: 0 | Remaining: 6000\n"
     ]
    }
   ],
   "source": [
    "key_primary  = df_t[\"celex_id\"].astype(str).str.strip()\n",
    "key_fallback  = df_t[\"title\"].str.lower().str.strip() + \"||\" + df_t[\"header\"].str.lower().str.strip()\n",
    "dedupe_key    = key_primary.where(key_primary.astype(bool), key_fallback)\n",
    "before = len(df_t)\n",
    "df_t = df_t.loc[~dedupe_key.duplicated()].reset_index(drop=True)\n",
    "print(\"Duplicates removed:\", before - len(df_t), \"| Remaining:\", len(df_t))"
   ]
  },
  {
   "cell_type": "markdown",
   "id": "f5cc1002",
   "metadata": {
    "id": "f5cc1002"
   },
   "source": [
    "### 10.7 Derive `year`, `n_concepts`, `text_len`"
   ]
  },
  {
   "cell_type": "code",
   "execution_count": 48,
   "id": "b11bf521",
   "metadata": {},
   "outputs": [
    {
     "data": {
      "application/vnd.google.colaboratory.intrinsic+json": {
       "summary": "{\n  \"name\": \"df_t[[\\\"year\\\",\\\"n_concepts\\\",\\\"text_len\\\"]]\",\n  \"rows\": 8,\n  \"fields\": [\n    {\n      \"column\": \"year\",\n      \"properties\": {\n        \"dtype\": \"Float64\",\n        \"num_unique_values\": 8,\n        \"samples\": [\n          1999.8427547106887,\n          2002.0,\n          5997.0\n        ],\n        \"semantic_type\": \"\",\n        \"description\": \"\"\n      }\n    },\n    {\n      \"column\": \"n_concepts\",\n      \"properties\": {\n        \"dtype\": \"number\",\n        \"std\": 2121.0173266619017,\n        \"min\": 0.0,\n        \"max\": 6000.0,\n        \"num_unique_values\": 3,\n        \"samples\": [\n          6000.0,\n          1.0,\n          0.0\n        ],\n        \"semantic_type\": \"\",\n        \"description\": \"\"\n      }\n    },\n    {\n      \"column\": \"text_len\",\n      \"properties\": {\n        \"dtype\": \"number\",\n        \"std\": 2070.364940009654,\n        \"min\": 43.0,\n        \"max\": 6000.0,\n        \"num_unique_values\": 8,\n        \"samples\": [\n          350.36266666666666,\n          274.0,\n          6000.0\n        ],\n        \"semantic_type\": \"\",\n        \"description\": \"\"\n      }\n    }\n  ]\n}",
       "type": "dataframe"
      },
      "text/html": [
       "\n",
       "  <div id=\"df-c7ecea79-e237-4571-a806-8c0f30476eb0\" class=\"colab-df-container\">\n",
       "    <div>\n",
       "<style scoped>\n",
       "    .dataframe tbody tr th:only-of-type {\n",
       "        vertical-align: middle;\n",
       "    }\n",
       "\n",
       "    .dataframe tbody tr th {\n",
       "        vertical-align: top;\n",
       "    }\n",
       "\n",
       "    .dataframe thead th {\n",
       "        text-align: right;\n",
       "    }\n",
       "</style>\n",
       "<table border=\"1\" class=\"dataframe\">\n",
       "  <thead>\n",
       "    <tr style=\"text-align: right;\">\n",
       "      <th></th>\n",
       "      <th>year</th>\n",
       "      <th>n_concepts</th>\n",
       "      <th>text_len</th>\n",
       "    </tr>\n",
       "  </thead>\n",
       "  <tbody>\n",
       "    <tr>\n",
       "      <th>count</th>\n",
       "      <td>5997.0</td>\n",
       "      <td>6000.0</td>\n",
       "      <td>6000.000000</td>\n",
       "    </tr>\n",
       "    <tr>\n",
       "      <th>mean</th>\n",
       "      <td>1999.842755</td>\n",
       "      <td>1.0</td>\n",
       "      <td>350.362667</td>\n",
       "    </tr>\n",
       "    <tr>\n",
       "      <th>std</th>\n",
       "      <td>13.975049</td>\n",
       "      <td>0.0</td>\n",
       "      <td>264.543140</td>\n",
       "    </tr>\n",
       "    <tr>\n",
       "      <th>min</th>\n",
       "      <td>1900.0</td>\n",
       "      <td>1.0</td>\n",
       "      <td>43.000000</td>\n",
       "    </tr>\n",
       "    <tr>\n",
       "      <th>25%</th>\n",
       "      <td>1993.0</td>\n",
       "      <td>1.0</td>\n",
       "      <td>202.000000</td>\n",
       "    </tr>\n",
       "    <tr>\n",
       "      <th>50%</th>\n",
       "      <td>2002.0</td>\n",
       "      <td>1.0</td>\n",
       "      <td>274.000000</td>\n",
       "    </tr>\n",
       "    <tr>\n",
       "      <th>75%</th>\n",
       "      <td>2007.0</td>\n",
       "      <td>1.0</td>\n",
       "      <td>395.000000</td>\n",
       "    </tr>\n",
       "    <tr>\n",
       "      <th>max</th>\n",
       "      <td>2099.0</td>\n",
       "      <td>1.0</td>\n",
       "      <td>2443.000000</td>\n",
       "    </tr>\n",
       "  </tbody>\n",
       "</table>\n",
       "</div>\n",
       "    <div class=\"colab-df-buttons\">\n",
       "\n",
       "  <div class=\"colab-df-container\">\n",
       "    <button class=\"colab-df-convert\" onclick=\"convertToInteractive('df-c7ecea79-e237-4571-a806-8c0f30476eb0')\"\n",
       "            title=\"Convert this dataframe to an interactive table.\"\n",
       "            style=\"display:none;\">\n",
       "\n",
       "  <svg xmlns=\"http://www.w3.org/2000/svg\" height=\"24px\" viewBox=\"0 -960 960 960\">\n",
       "    <path d=\"M120-120v-720h720v720H120Zm60-500h600v-160H180v160Zm220 220h160v-160H400v160Zm0 220h160v-160H400v160ZM180-400h160v-160H180v160Zm440 0h160v-160H620v160ZM180-180h160v-160H180v160Zm440 0h160v-160H620v160Z\"/>\n",
       "  </svg>\n",
       "    </button>\n",
       "\n",
       "  <style>\n",
       "    .colab-df-container {\n",
       "      display:flex;\n",
       "      gap: 12px;\n",
       "    }\n",
       "\n",
       "    .colab-df-convert {\n",
       "      background-color: #E8F0FE;\n",
       "      border: none;\n",
       "      border-radius: 50%;\n",
       "      cursor: pointer;\n",
       "      display: none;\n",
       "      fill: #1967D2;\n",
       "      height: 32px;\n",
       "      padding: 0 0 0 0;\n",
       "      width: 32px;\n",
       "    }\n",
       "\n",
       "    .colab-df-convert:hover {\n",
       "      background-color: #E2EBFA;\n",
       "      box-shadow: 0px 1px 2px rgba(60, 64, 67, 0.3), 0px 1px 3px 1px rgba(60, 64, 67, 0.15);\n",
       "      fill: #174EA6;\n",
       "    }\n",
       "\n",
       "    .colab-df-buttons div {\n",
       "      margin-bottom: 4px;\n",
       "    }\n",
       "\n",
       "    [theme=dark] .colab-df-convert {\n",
       "      background-color: #3B4455;\n",
       "      fill: #D2E3FC;\n",
       "    }\n",
       "\n",
       "    [theme=dark] .colab-df-convert:hover {\n",
       "      background-color: #434B5C;\n",
       "      box-shadow: 0px 1px 3px 1px rgba(0, 0, 0, 0.15);\n",
       "      filter: drop-shadow(0px 1px 2px rgba(0, 0, 0, 0.3));\n",
       "      fill: #FFFFFF;\n",
       "    }\n",
       "  </style>\n",
       "\n",
       "    <script>\n",
       "      const buttonEl =\n",
       "        document.querySelector('#df-c7ecea79-e237-4571-a806-8c0f30476eb0 button.colab-df-convert');\n",
       "      buttonEl.style.display =\n",
       "        google.colab.kernel.accessAllowed ? 'block' : 'none';\n",
       "\n",
       "      async function convertToInteractive(key) {\n",
       "        const element = document.querySelector('#df-c7ecea79-e237-4571-a806-8c0f30476eb0');\n",
       "        const dataTable =\n",
       "          await google.colab.kernel.invokeFunction('convertToInteractive',\n",
       "                                                    [key], {});\n",
       "        if (!dataTable) return;\n",
       "\n",
       "        const docLinkHtml = 'Like what you see? Visit the ' +\n",
       "          '<a target=\"_blank\" href=https://colab.research.google.com/notebooks/data_table.ipynb>data table notebook</a>'\n",
       "          + ' to learn more about interactive tables.';\n",
       "        element.innerHTML = '';\n",
       "        dataTable['output_type'] = 'display_data';\n",
       "        await google.colab.output.renderOutput(dataTable, element);\n",
       "        const docLink = document.createElement('div');\n",
       "        docLink.innerHTML = docLinkHtml;\n",
       "        element.appendChild(docLink);\n",
       "      }\n",
       "    </script>\n",
       "  </div>\n",
       "\n",
       "\n",
       "    <div id=\"df-56ff5cc5-fff8-46aa-9bfc-ea7d10fae3dc\">\n",
       "      <button class=\"colab-df-quickchart\" onclick=\"quickchart('df-56ff5cc5-fff8-46aa-9bfc-ea7d10fae3dc')\"\n",
       "                title=\"Suggest charts\"\n",
       "                style=\"display:none;\">\n",
       "\n",
       "<svg xmlns=\"http://www.w3.org/2000/svg\" height=\"24px\"viewBox=\"0 0 24 24\"\n",
       "     width=\"24px\">\n",
       "    <g>\n",
       "        <path d=\"M19 3H5c-1.1 0-2 .9-2 2v14c0 1.1.9 2 2 2h14c1.1 0 2-.9 2-2V5c0-1.1-.9-2-2-2zM9 17H7v-7h2v7zm4 0h-2V7h2v10zm4 0h-2v-4h2v4z\"/>\n",
       "    </g>\n",
       "</svg>\n",
       "      </button>\n",
       "\n",
       "<style>\n",
       "  .colab-df-quickchart {\n",
       "      --bg-color: #E8F0FE;\n",
       "      --fill-color: #1967D2;\n",
       "      --hover-bg-color: #E2EBFA;\n",
       "      --hover-fill-color: #174EA6;\n",
       "      --disabled-fill-color: #AAA;\n",
       "      --disabled-bg-color: #DDD;\n",
       "  }\n",
       "\n",
       "  [theme=dark] .colab-df-quickchart {\n",
       "      --bg-color: #3B4455;\n",
       "      --fill-color: #D2E3FC;\n",
       "      --hover-bg-color: #434B5C;\n",
       "      --hover-fill-color: #FFFFFF;\n",
       "      --disabled-bg-color: #3B4455;\n",
       "      --disabled-fill-color: #666;\n",
       "  }\n",
       "\n",
       "  .colab-df-quickchart {\n",
       "    background-color: var(--bg-color);\n",
       "    border: none;\n",
       "    border-radius: 50%;\n",
       "    cursor: pointer;\n",
       "    display: none;\n",
       "    fill: var(--fill-color);\n",
       "    height: 32px;\n",
       "    padding: 0;\n",
       "    width: 32px;\n",
       "  }\n",
       "\n",
       "  .colab-df-quickchart:hover {\n",
       "    background-color: var(--hover-bg-color);\n",
       "    box-shadow: 0 1px 2px rgba(60, 64, 67, 0.3), 0 1px 3px 1px rgba(60, 64, 67, 0.15);\n",
       "    fill: var(--button-hover-fill-color);\n",
       "  }\n",
       "\n",
       "  .colab-df-quickchart-complete:disabled,\n",
       "  .colab-df-quickchart-complete:disabled:hover {\n",
       "    background-color: var(--disabled-bg-color);\n",
       "    fill: var(--disabled-fill-color);\n",
       "    box-shadow: none;\n",
       "  }\n",
       "\n",
       "  .colab-df-spinner {\n",
       "    border: 2px solid var(--fill-color);\n",
       "    border-color: transparent;\n",
       "    border-bottom-color: var(--fill-color);\n",
       "    animation:\n",
       "      spin 1s steps(1) infinite;\n",
       "  }\n",
       "\n",
       "  @keyframes spin {\n",
       "    0% {\n",
       "      border-color: transparent;\n",
       "      border-bottom-color: var(--fill-color);\n",
       "      border-left-color: var(--fill-color);\n",
       "    }\n",
       "    20% {\n",
       "      border-color: transparent;\n",
       "      border-left-color: var(--fill-color);\n",
       "      border-top-color: var(--fill-color);\n",
       "    }\n",
       "    30% {\n",
       "      border-color: transparent;\n",
       "      border-left-color: var(--fill-color);\n",
       "      border-top-color: var(--fill-color);\n",
       "      border-right-color: var(--fill-color);\n",
       "    }\n",
       "    40% {\n",
       "      border-color: transparent;\n",
       "      border-right-color: var(--fill-color);\n",
       "      border-top-color: var(--fill-color);\n",
       "    }\n",
       "    60% {\n",
       "      border-color: transparent;\n",
       "      border-right-color: var(--fill-color);\n",
       "    }\n",
       "    80% {\n",
       "      border-color: transparent;\n",
       "      border-right-color: var(--fill-color);\n",
       "      border-bottom-color: var(--fill-color);\n",
       "    }\n",
       "    90% {\n",
       "      border-color: transparent;\n",
       "      border-bottom-color: var(--fill-color);\n",
       "    }\n",
       "  }\n",
       "</style>\n",
       "\n",
       "      <script>\n",
       "        async function quickchart(key) {\n",
       "          const quickchartButtonEl =\n",
       "            document.querySelector('#' + key + ' button');\n",
       "          quickchartButtonEl.disabled = true;  // To prevent multiple clicks.\n",
       "          quickchartButtonEl.classList.add('colab-df-spinner');\n",
       "          try {\n",
       "            const charts = await google.colab.kernel.invokeFunction(\n",
       "                'suggestCharts', [key], {});\n",
       "          } catch (error) {\n",
       "            console.error('Error during call to suggestCharts:', error);\n",
       "          }\n",
       "          quickchartButtonEl.classList.remove('colab-df-spinner');\n",
       "          quickchartButtonEl.classList.add('colab-df-quickchart-complete');\n",
       "        }\n",
       "        (() => {\n",
       "          let quickchartButtonEl =\n",
       "            document.querySelector('#df-56ff5cc5-fff8-46aa-9bfc-ea7d10fae3dc button');\n",
       "          quickchartButtonEl.style.display =\n",
       "            google.colab.kernel.accessAllowed ? 'block' : 'none';\n",
       "        })();\n",
       "      </script>\n",
       "    </div>\n",
       "\n",
       "    </div>\n",
       "  </div>\n"
      ],
      "text/plain": [
       "              year  n_concepts     text_len\n",
       "count       5997.0      6000.0  6000.000000\n",
       "mean   1999.842755         1.0   350.362667\n",
       "std      13.975049         0.0   264.543140\n",
       "min         1900.0         1.0    43.000000\n",
       "25%         1993.0         1.0   202.000000\n",
       "50%         2002.0         1.0   274.000000\n",
       "75%         2007.0         1.0   395.000000\n",
       "max         2099.0         1.0  2443.000000"
      ]
     },
     "execution_count": 48,
     "metadata": {},
     "output_type": "execute_result"
    }
   ],
   "source": [
    "df_t[\"year\"] = df_t[\"header\"].str.extract(r\"\\b((?:19|20)\\d{2})\\b\").astype(\"float\").astype(\"Int64\")\n",
    "df_t[\"n_concepts\"] = df_t[\"eurovoc_concepts\"].apply(len)\n",
    "df_t[\"text_len\"] = df_t[\"text\"].str.split().apply(len)\n",
    "df_t[[\"year\",\"n_concepts\",\"text_len\"]].describe(include=\"all\")"
   ]
  },
  {
   "cell_type": "markdown",
   "id": "bb329b1a",
   "metadata": {
    "id": "bb329b1a"
   },
   "source": [
    "### 10.8 Drop rows with empty `text`"
   ]
  },
  {
   "cell_type": "code",
   "execution_count": 49,
   "id": "e0fb46c4",
   "metadata": {},
   "outputs": [
    {
     "name": "stdout",
     "output_type": "stream",
     "text": [
      "Dropped: 0 | Remaining: 6000\n"
     ]
    }
   ],
   "source": [
    "before = len(df_t)\n",
    "df_t = df_t[df_t[\"text_len\"] > 0].reset_index(drop=True)\n",
    "print(\"Dropped:\", before - len(df_t), \"| Remaining:\", len(df_t))"
   ]
  },
  {
   "cell_type": "markdown",
   "id": "bd070f69",
   "metadata": {
    "id": "bd070f69"
   },
   "source": [
    "### 10.9 Save **test_cleaned.csv**"
   ]
  },
  {
   "cell_type": "code",
   "execution_count": 50,
   "id": "8c943088",
   "metadata": {},
   "outputs": [
    {
     "name": "stdout",
     "output_type": "stream",
     "text": [
      "Saved: /content/data/test_cleaned.csv | rows = 6000\n"
     ]
    }
   ],
   "source": [
    "test_csv = BASE_DIR / \"test_cleaned.csv\"\n",
    "df_t.to_csv(test_csv, index=False)\n",
    "print(\"Saved:\", test_csv, \"| rows =\", len(df_t))"
   ]
  },
  {
   "cell_type": "markdown",
   "id": "Hufx_4RDPKbj",
   "metadata": {
    "id": "Hufx_4RDPKbj"
   },
   "source": [
    "# **Insight 1 — Distribution of document types**"
   ]
  },
  {
   "cell_type": "code",
   "execution_count": 51,
   "id": "EyIIo9otPL_i",
   "metadata": {},
   "outputs": [
    {
     "data": {
      "image/png": "[encoded data removed]",
      "text/plain": [
       "<Figure size 640x480 with 1 Axes>"
      ]
     },
     "metadata": {},
     "output_type": "display_data"
    }
   ],
   "source": [
    "sns.countplot(x='document_type', data=df)\n",
    "plt.title(\"Distribution of Document Types\")\n",
    "plt.show()"
   ]
  },
  {
   "cell_type": "markdown",
   "id": "o08dfMu6Pb0P",
   "metadata": {
    "id": "o08dfMu6Pb0P"
   },
   "source": [
    "**Observation:** Regulations dominate the dataset, followed by Decisions; Directives are least frequent."
   ]
  },
  {
   "cell_type": "markdown",
   "id": "tlvzkvurPOig",
   "metadata": {
    "id": "tlvzkvurPOig"
   },
   "source": [
    "# **Insight 2 — Number of documents per year**"
   ]
  },
  {
   "cell_type": "code",
   "execution_count": 52,
   "id": "pPkG5bAaPNsO",
   "metadata": {},
   "outputs": [
    {
     "data": {
      "image/png": "[encoded data removed]",
      "text/plain": [
       "<Figure size 640x480 with 1 Axes>"
      ]
     },
     "metadata": {},
     "output_type": "display_data"
    }
   ],
   "source": [
    "df['year'].dropna().astype(int).hist(bins=40)\n",
    "plt.title(\"Documents per Year\")\n",
    "plt.xlabel(\"Year\"); plt.ylabel(\"Count\")\n",
    "plt.show()"
   ]
  },
  {
   "cell_type": "markdown",
   "id": "WlOqbFNEPglk",
   "metadata": {
    "id": "WlOqbFNEPglk"
   },
   "source": [
    "**Observation:** The majority of documents are from 1980 onwards, peaking in the 1990s and 2000s."
   ]
  },
  {
   "cell_type": "markdown",
   "id": "jmK_ObZWPZqq",
   "metadata": {
    "id": "jmK_ObZWPZqq"
   },
   "source": [
    "# **Insight 3 — Distribution of text lengths**"
   ]
  },
  {
   "cell_type": "code",
   "execution_count": 53,
   "id": "6Oa-dfY6PZQg",
   "metadata": {},
   "outputs": [
    {
     "data": {
      "image/png": "[encoded data removed]",
      "text/plain": [
       "<Figure size 640x480 with 1 Axes>"
      ]
     },
     "metadata": {},
     "output_type": "display_data"
    }
   ],
   "source": [
    "df['text_len'].clip(0,5000).hist(bins=50)\n",
    "plt.title(\"Distribution of text lengths (clipped at 5000)\")\n",
    "plt.xlabel(\"Words\"); plt.ylabel(\"Documents\")\n",
    "plt.show()"
   ]
  },
  {
   "cell_type": "markdown",
   "id": "JM7p3sRRPvH6",
   "metadata": {
    "id": "JM7p3sRRPvH6"
   },
   "source": [
    "**Observation:** Most documents are under 2000 words, but a few are very long, creating a heavy right tail."
   ]
  },
  {
   "cell_type": "markdown",
   "id": "bA4ogZ8FPykv",
   "metadata": {
    "id": "bA4ogZ8FPykv"
   },
   "source": [
    "# **Insight 4 — Average text length by document type**"
   ]
  },
  {
   "cell_type": "code",
   "execution_count": 54,
   "id": "Caci_wgzP0-6",
   "metadata": {},
   "outputs": [
    {
     "data": {
      "image/png": "[encoded data removed]",
      "text/plain": [
       "<Figure size 640x480 with 1 Axes>"
      ]
     },
     "metadata": {},
     "output_type": "display_data"
    }
   ],
   "source": [
    "df.groupby('document_type')['text_len'].mean().plot(kind='bar')\n",
    "plt.title(\"Average Text Length by Document Type\")\n",
    "plt.ylabel(\"Words\")\n",
    "plt.show()"
   ]
  },
  {
   "cell_type": "markdown",
   "id": "jWkBo88TP4jP",
   "metadata": {
    "id": "jWkBo88TP4jP"
   },
   "source": [
    "**Observation:** Regulations tend to be longer than Decisions and Directives."
   ]
  },
  {
   "cell_type": "markdown",
   "id": "yhFHSTYdQUyc",
   "metadata": {
    "id": "yhFHSTYdQUyc"
   },
   "source": [
    "# **Insight 5 — Average text length trend over years**"
   ]
  },
  {
   "cell_type": "code",
   "execution_count": 57,
   "id": "3n0FbLv9QLiP",
   "metadata": {},
   "outputs": [
    {
     "data": {
      "image/png": "[encoded data removed]",
      "text/plain": [
       "<Figure size 640x480 with 1 Axes>"
      ]
     },
     "metadata": {},
     "output_type": "display_data"
    }
   ],
   "source": [
    "df.groupby('year')['text_len'].mean().plot()\n",
    "plt.title(\"Average Text Length by Year\")\n",
    "plt.xlabel(\"Year\"); plt.ylabel(\"Words\")\n",
    "plt.show()"
   ]
  },
  {
   "cell_type": "markdown",
   "id": "X5axExcuQuiA",
   "metadata": {
    "id": "X5axExcuQuiA"
   },
   "source": [
    "**Observation:** Average text length has generally increased over time, suggesting more detailed documents in recent decades."
   ]
  },
  {
   "cell_type": "code",
   "execution_count": null,
   "id": "tRmdOD-fRZ_m",
   "metadata": {},
   "outputs": [],
   "source": []
  }
 ],
 "metadata": {
  "language_info": {
   "name": "python"
  }
 },
 "nbformat": 4,
 "nbformat_minor": 5
}
